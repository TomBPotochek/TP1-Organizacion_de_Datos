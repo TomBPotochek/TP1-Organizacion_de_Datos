{
  "nbformat": 4,
  "nbformat_minor": 0,
  "metadata": {
    "colab": {
      "name": "Copia_de_tp1.ipynb",
      "provenance": [],
      "collapsed_sections": [],
      "toc_visible": true
    },
    "kernelspec": {
      "display_name": "Python 3",
      "name": "python3"
    },
    "language_info": {
      "name": "python"
    }
  },
  "cells": [
    {
      "cell_type": "markdown",
      "metadata": {
        "id": "FhALkD1jaUU7"
      },
      "source": [
        "## Inicializacion de entorno"
      ]
    },
    {
      "cell_type": "code",
      "metadata": {
        "id": "6PfgWSKI1Q4g"
      },
      "source": [
        " # importacion general de librerias y de visualizacion (matplotlib y seaborn)\n",
        "import pandas as pd\n",
        "import numpy as np\n",
        "import matplotlib.pyplot as plt\n",
        "import seaborn as sns\n",
        "from pandas_profiling import ProfileReport\n",
        "\n",
        "%matplotlib inline\n",
        "\n",
        "plt.style.use('default') # haciendo los graficos un poco mas bonitos en matplotlib\n",
        "#plt.rcParams['figure.figsize'] = (20, 10)\n",
        "\n",
        "sns.set(style=\"whitegrid\") # seteando tipo de grid en seaborn\n",
        "\n",
        "pd.options.display.float_format = '{:20,.2f}'.format # suprimimos la notacion cientifica en los outputs"
      ],
      "execution_count": null,
      "outputs": []
    },
    {
      "cell_type": "code",
      "metadata": {
        "colab": {
          "base_uri": "https://localhost:8080/"
        },
        "id": "TC_QTP0t6ZhA",
        "outputId": "07f349bb-9a95-465e-9eb9-483fe8fafed1"
      },
      "source": [
        "!pip install PyDrive\n",
        "!pip install pandas-profiling==2.7.1"
      ],
      "execution_count": null,
      "outputs": [
        {
          "output_type": "stream",
          "text": [
            "Requirement already satisfied: PyDrive in /usr/local/lib/python3.7/dist-packages (1.3.1)\n",
            "Requirement already satisfied: google-api-python-client>=1.2 in /usr/local/lib/python3.7/dist-packages (from PyDrive) (1.12.8)\n",
            "Requirement already satisfied: PyYAML>=3.0 in /usr/local/lib/python3.7/dist-packages (from PyDrive) (3.13)\n",
            "Requirement already satisfied: oauth2client>=4.0.0 in /usr/local/lib/python3.7/dist-packages (from PyDrive) (4.1.3)\n",
            "Requirement already satisfied: httplib2<1dev,>=0.15.0 in /usr/local/lib/python3.7/dist-packages (from google-api-python-client>=1.2->PyDrive) (0.17.4)\n",
            "Requirement already satisfied: google-auth>=1.16.0 in /usr/local/lib/python3.7/dist-packages (from google-api-python-client>=1.2->PyDrive) (1.30.0)\n",
            "Requirement already satisfied: six<2dev,>=1.13.0 in /usr/local/lib/python3.7/dist-packages (from google-api-python-client>=1.2->PyDrive) (1.15.0)\n",
            "Requirement already satisfied: google-auth-httplib2>=0.0.3 in /usr/local/lib/python3.7/dist-packages (from google-api-python-client>=1.2->PyDrive) (0.0.4)\n",
            "Requirement already satisfied: google-api-core<2dev,>=1.21.0 in /usr/local/lib/python3.7/dist-packages (from google-api-python-client>=1.2->PyDrive) (1.26.3)\n",
            "Requirement already satisfied: uritemplate<4dev,>=3.0.0 in /usr/local/lib/python3.7/dist-packages (from google-api-python-client>=1.2->PyDrive) (3.0.1)\n",
            "Requirement already satisfied: pyasn1>=0.1.7 in /usr/local/lib/python3.7/dist-packages (from oauth2client>=4.0.0->PyDrive) (0.4.8)\n",
            "Requirement already satisfied: pyasn1-modules>=0.0.5 in /usr/local/lib/python3.7/dist-packages (from oauth2client>=4.0.0->PyDrive) (0.2.8)\n",
            "Requirement already satisfied: rsa>=3.1.4 in /usr/local/lib/python3.7/dist-packages (from oauth2client>=4.0.0->PyDrive) (4.7.2)\n",
            "Requirement already satisfied: setuptools>=40.3.0 in /usr/local/lib/python3.7/dist-packages (from google-auth>=1.16.0->google-api-python-client>=1.2->PyDrive) (56.1.0)\n",
            "Requirement already satisfied: cachetools<5.0,>=2.0.0 in /usr/local/lib/python3.7/dist-packages (from google-auth>=1.16.0->google-api-python-client>=1.2->PyDrive) (4.2.2)\n",
            "Requirement already satisfied: googleapis-common-protos<2.0dev,>=1.6.0 in /usr/local/lib/python3.7/dist-packages (from google-api-core<2dev,>=1.21.0->google-api-python-client>=1.2->PyDrive) (1.53.0)\n",
            "Requirement already satisfied: packaging>=14.3 in /usr/local/lib/python3.7/dist-packages (from google-api-core<2dev,>=1.21.0->google-api-python-client>=1.2->PyDrive) (20.9)\n",
            "Requirement already satisfied: requests<3.0.0dev,>=2.18.0 in /usr/local/lib/python3.7/dist-packages (from google-api-core<2dev,>=1.21.0->google-api-python-client>=1.2->PyDrive) (2.23.0)\n",
            "Requirement already satisfied: protobuf>=3.12.0 in /usr/local/lib/python3.7/dist-packages (from google-api-core<2dev,>=1.21.0->google-api-python-client>=1.2->PyDrive) (3.12.4)\n",
            "Requirement already satisfied: pytz in /usr/local/lib/python3.7/dist-packages (from google-api-core<2dev,>=1.21.0->google-api-python-client>=1.2->PyDrive) (2018.9)\n",
            "Requirement already satisfied: pyparsing>=2.0.2 in /usr/local/lib/python3.7/dist-packages (from packaging>=14.3->google-api-core<2dev,>=1.21.0->google-api-python-client>=1.2->PyDrive) (2.4.7)\n",
            "Requirement already satisfied: certifi>=2017.4.17 in /usr/local/lib/python3.7/dist-packages (from requests<3.0.0dev,>=2.18.0->google-api-core<2dev,>=1.21.0->google-api-python-client>=1.2->PyDrive) (2020.12.5)\n",
            "Requirement already satisfied: chardet<4,>=3.0.2 in /usr/local/lib/python3.7/dist-packages (from requests<3.0.0dev,>=2.18.0->google-api-core<2dev,>=1.21.0->google-api-python-client>=1.2->PyDrive) (3.0.4)\n",
            "Requirement already satisfied: urllib3!=1.25.0,!=1.25.1,<1.26,>=1.21.1 in /usr/local/lib/python3.7/dist-packages (from requests<3.0.0dev,>=2.18.0->google-api-core<2dev,>=1.21.0->google-api-python-client>=1.2->PyDrive) (1.24.3)\n",
            "Requirement already satisfied: idna<3,>=2.5 in /usr/local/lib/python3.7/dist-packages (from requests<3.0.0dev,>=2.18.0->google-api-core<2dev,>=1.21.0->google-api-python-client>=1.2->PyDrive) (2.10)\n",
            "Requirement already satisfied: pandas-profiling==2.7.1 in /usr/local/lib/python3.7/dist-packages (2.7.1)\n",
            "Requirement already satisfied: jinja2>=2.11.1 in /usr/local/lib/python3.7/dist-packages (from pandas-profiling==2.7.1) (2.11.3)\n",
            "Requirement already satisfied: scipy>=1.4.1 in /usr/local/lib/python3.7/dist-packages (from pandas-profiling==2.7.1) (1.4.1)\n",
            "Requirement already satisfied: phik>=0.9.10 in /usr/local/lib/python3.7/dist-packages (from pandas-profiling==2.7.1) (0.11.2)\n",
            "Requirement already satisfied: ipywidgets>=7.5.1 in /usr/local/lib/python3.7/dist-packages (from pandas-profiling==2.7.1) (7.6.3)\n",
            "Requirement already satisfied: pandas!=1.0.0,!=1.0.1,!=1.0.2,>=0.25.3 in /usr/local/lib/python3.7/dist-packages (from pandas-profiling==2.7.1) (1.1.5)\n",
            "Requirement already satisfied: visions[type_image_path]==0.4.1 in /usr/local/lib/python3.7/dist-packages (from pandas-profiling==2.7.1) (0.4.1)\n",
            "Requirement already satisfied: missingno>=0.4.2 in /usr/local/lib/python3.7/dist-packages (from pandas-profiling==2.7.1) (0.4.2)\n",
            "Requirement already satisfied: numpy>=1.16.0 in /usr/local/lib/python3.7/dist-packages (from pandas-profiling==2.7.1) (1.19.5)\n",
            "Requirement already satisfied: tangled-up-in-unicode>=0.0.4 in /usr/local/lib/python3.7/dist-packages (from pandas-profiling==2.7.1) (0.1.0)\n",
            "Requirement already satisfied: confuse>=1.0.0 in /usr/local/lib/python3.7/dist-packages (from pandas-profiling==2.7.1) (1.4.0)\n",
            "Requirement already satisfied: joblib in /usr/local/lib/python3.7/dist-packages (from pandas-profiling==2.7.1) (1.0.1)\n",
            "Requirement already satisfied: astropy>=4.0 in /usr/local/lib/python3.7/dist-packages (from pandas-profiling==2.7.1) (4.2.1)\n",
            "Requirement already satisfied: tqdm>=4.43.0 in /usr/local/lib/python3.7/dist-packages (from pandas-profiling==2.7.1) (4.60.0)\n",
            "Requirement already satisfied: htmlmin>=0.1.12 in /usr/local/lib/python3.7/dist-packages (from pandas-profiling==2.7.1) (0.1.12)\n",
            "Requirement already satisfied: requests>=2.23.0 in /usr/local/lib/python3.7/dist-packages (from pandas-profiling==2.7.1) (2.23.0)\n",
            "Requirement already satisfied: matplotlib>=3.2.0 in /usr/local/lib/python3.7/dist-packages (from pandas-profiling==2.7.1) (3.2.2)\n",
            "Requirement already satisfied: MarkupSafe>=0.23 in /usr/local/lib/python3.7/dist-packages (from jinja2>=2.11.1->pandas-profiling==2.7.1) (2.0.0)\n",
            "Requirement already satisfied: ipython>=4.0.0; python_version >= \"3.3\" in /usr/local/lib/python3.7/dist-packages (from ipywidgets>=7.5.1->pandas-profiling==2.7.1) (5.5.0)\n",
            "Requirement already satisfied: nbformat>=4.2.0 in /usr/local/lib/python3.7/dist-packages (from ipywidgets>=7.5.1->pandas-profiling==2.7.1) (5.1.3)\n",
            "Requirement already satisfied: jupyterlab-widgets>=1.0.0; python_version >= \"3.6\" in /usr/local/lib/python3.7/dist-packages (from ipywidgets>=7.5.1->pandas-profiling==2.7.1) (1.0.0)\n",
            "Requirement already satisfied: widgetsnbextension~=3.5.0 in /usr/local/lib/python3.7/dist-packages (from ipywidgets>=7.5.1->pandas-profiling==2.7.1) (3.5.1)\n",
            "Requirement already satisfied: traitlets>=4.3.1 in /usr/local/lib/python3.7/dist-packages (from ipywidgets>=7.5.1->pandas-profiling==2.7.1) (5.0.5)\n",
            "Requirement already satisfied: ipykernel>=4.5.1 in /usr/local/lib/python3.7/dist-packages (from ipywidgets>=7.5.1->pandas-profiling==2.7.1) (4.10.1)\n",
            "Requirement already satisfied: python-dateutil>=2.7.3 in /usr/local/lib/python3.7/dist-packages (from pandas!=1.0.0,!=1.0.1,!=1.0.2,>=0.25.3->pandas-profiling==2.7.1) (2.8.1)\n",
            "Requirement already satisfied: pytz>=2017.2 in /usr/local/lib/python3.7/dist-packages (from pandas!=1.0.0,!=1.0.1,!=1.0.2,>=0.25.3->pandas-profiling==2.7.1) (2018.9)\n",
            "Requirement already satisfied: networkx>=2.4 in /usr/local/lib/python3.7/dist-packages (from visions[type_image_path]==0.4.1->pandas-profiling==2.7.1) (2.5.1)\n",
            "Requirement already satisfied: attrs>=19.3.0 in /usr/local/lib/python3.7/dist-packages (from visions[type_image_path]==0.4.1->pandas-profiling==2.7.1) (21.2.0)\n",
            "Requirement already satisfied: imagehash; extra == \"type_image_path\" in /usr/local/lib/python3.7/dist-packages (from visions[type_image_path]==0.4.1->pandas-profiling==2.7.1) (4.2.0)\n",
            "Requirement already satisfied: Pillow; extra == \"type_image_path\" in /usr/local/lib/python3.7/dist-packages (from visions[type_image_path]==0.4.1->pandas-profiling==2.7.1) (7.1.2)\n",
            "Requirement already satisfied: seaborn in /usr/local/lib/python3.7/dist-packages (from missingno>=0.4.2->pandas-profiling==2.7.1) (0.11.1)\n",
            "Requirement already satisfied: pyyaml in /usr/local/lib/python3.7/dist-packages (from confuse>=1.0.0->pandas-profiling==2.7.1) (3.13)\n",
            "Requirement already satisfied: pyerfa in /usr/local/lib/python3.7/dist-packages (from astropy>=4.0->pandas-profiling==2.7.1) (1.7.3)\n",
            "Requirement already satisfied: chardet<4,>=3.0.2 in /usr/local/lib/python3.7/dist-packages (from requests>=2.23.0->pandas-profiling==2.7.1) (3.0.4)\n",
            "Requirement already satisfied: idna<3,>=2.5 in /usr/local/lib/python3.7/dist-packages (from requests>=2.23.0->pandas-profiling==2.7.1) (2.10)\n",
            "Requirement already satisfied: certifi>=2017.4.17 in /usr/local/lib/python3.7/dist-packages (from requests>=2.23.0->pandas-profiling==2.7.1) (2020.12.5)\n",
            "Requirement already satisfied: urllib3!=1.25.0,!=1.25.1,<1.26,>=1.21.1 in /usr/local/lib/python3.7/dist-packages (from requests>=2.23.0->pandas-profiling==2.7.1) (1.24.3)\n",
            "Requirement already satisfied: kiwisolver>=1.0.1 in /usr/local/lib/python3.7/dist-packages (from matplotlib>=3.2.0->pandas-profiling==2.7.1) (1.3.1)\n",
            "Requirement already satisfied: pyparsing!=2.0.4,!=2.1.2,!=2.1.6,>=2.0.1 in /usr/local/lib/python3.7/dist-packages (from matplotlib>=3.2.0->pandas-profiling==2.7.1) (2.4.7)\n",
            "Requirement already satisfied: cycler>=0.10 in /usr/local/lib/python3.7/dist-packages (from matplotlib>=3.2.0->pandas-profiling==2.7.1) (0.10.0)\n",
            "Requirement already satisfied: pickleshare in /usr/local/lib/python3.7/dist-packages (from ipython>=4.0.0; python_version >= \"3.3\"->ipywidgets>=7.5.1->pandas-profiling==2.7.1) (0.7.5)\n",
            "Requirement already satisfied: simplegeneric>0.8 in /usr/local/lib/python3.7/dist-packages (from ipython>=4.0.0; python_version >= \"3.3\"->ipywidgets>=7.5.1->pandas-profiling==2.7.1) (0.8.1)\n",
            "Requirement already satisfied: pygments in /usr/local/lib/python3.7/dist-packages (from ipython>=4.0.0; python_version >= \"3.3\"->ipywidgets>=7.5.1->pandas-profiling==2.7.1) (2.6.1)\n",
            "Requirement already satisfied: pexpect; sys_platform != \"win32\" in /usr/local/lib/python3.7/dist-packages (from ipython>=4.0.0; python_version >= \"3.3\"->ipywidgets>=7.5.1->pandas-profiling==2.7.1) (4.8.0)\n",
            "Requirement already satisfied: setuptools>=18.5 in /usr/local/lib/python3.7/dist-packages (from ipython>=4.0.0; python_version >= \"3.3\"->ipywidgets>=7.5.1->pandas-profiling==2.7.1) (56.1.0)\n",
            "Requirement already satisfied: prompt-toolkit<2.0.0,>=1.0.4 in /usr/local/lib/python3.7/dist-packages (from ipython>=4.0.0; python_version >= \"3.3\"->ipywidgets>=7.5.1->pandas-profiling==2.7.1) (1.0.18)\n",
            "Requirement already satisfied: decorator in /usr/local/lib/python3.7/dist-packages (from ipython>=4.0.0; python_version >= \"3.3\"->ipywidgets>=7.5.1->pandas-profiling==2.7.1) (4.4.2)\n",
            "Requirement already satisfied: jsonschema!=2.5.0,>=2.4 in /usr/local/lib/python3.7/dist-packages (from nbformat>=4.2.0->ipywidgets>=7.5.1->pandas-profiling==2.7.1) (2.6.0)\n",
            "Requirement already satisfied: ipython-genutils in /usr/local/lib/python3.7/dist-packages (from nbformat>=4.2.0->ipywidgets>=7.5.1->pandas-profiling==2.7.1) (0.2.0)\n",
            "Requirement already satisfied: jupyter-core in /usr/local/lib/python3.7/dist-packages (from nbformat>=4.2.0->ipywidgets>=7.5.1->pandas-profiling==2.7.1) (4.7.1)\n",
            "Requirement already satisfied: notebook>=4.4.1 in /usr/local/lib/python3.7/dist-packages (from widgetsnbextension~=3.5.0->ipywidgets>=7.5.1->pandas-profiling==2.7.1) (5.3.1)\n",
            "Requirement already satisfied: jupyter-client in /usr/local/lib/python3.7/dist-packages (from ipykernel>=4.5.1->ipywidgets>=7.5.1->pandas-profiling==2.7.1) (5.3.5)\n",
            "Requirement already satisfied: tornado>=4.0 in /usr/local/lib/python3.7/dist-packages (from ipykernel>=4.5.1->ipywidgets>=7.5.1->pandas-profiling==2.7.1) (5.1.1)\n",
            "Requirement already satisfied: six>=1.5 in /usr/local/lib/python3.7/dist-packages (from python-dateutil>=2.7.3->pandas!=1.0.0,!=1.0.1,!=1.0.2,>=0.25.3->pandas-profiling==2.7.1) (1.15.0)\n",
            "Requirement already satisfied: PyWavelets in /usr/local/lib/python3.7/dist-packages (from imagehash; extra == \"type_image_path\"->visions[type_image_path]==0.4.1->pandas-profiling==2.7.1) (1.1.1)\n",
            "Requirement already satisfied: ptyprocess>=0.5 in /usr/local/lib/python3.7/dist-packages (from pexpect; sys_platform != \"win32\"->ipython>=4.0.0; python_version >= \"3.3\"->ipywidgets>=7.5.1->pandas-profiling==2.7.1) (0.7.0)\n",
            "Requirement already satisfied: wcwidth in /usr/local/lib/python3.7/dist-packages (from prompt-toolkit<2.0.0,>=1.0.4->ipython>=4.0.0; python_version >= \"3.3\"->ipywidgets>=7.5.1->pandas-profiling==2.7.1) (0.2.5)\n",
            "Requirement already satisfied: nbconvert in /usr/local/lib/python3.7/dist-packages (from notebook>=4.4.1->widgetsnbextension~=3.5.0->ipywidgets>=7.5.1->pandas-profiling==2.7.1) (5.6.1)\n",
            "Requirement already satisfied: Send2Trash in /usr/local/lib/python3.7/dist-packages (from notebook>=4.4.1->widgetsnbextension~=3.5.0->ipywidgets>=7.5.1->pandas-profiling==2.7.1) (1.5.0)\n",
            "Requirement already satisfied: terminado>=0.8.1 in /usr/local/lib/python3.7/dist-packages (from notebook>=4.4.1->widgetsnbextension~=3.5.0->ipywidgets>=7.5.1->pandas-profiling==2.7.1) (0.9.5)\n",
            "Requirement already satisfied: pyzmq>=13 in /usr/local/lib/python3.7/dist-packages (from jupyter-client->ipykernel>=4.5.1->ipywidgets>=7.5.1->pandas-profiling==2.7.1) (22.0.3)\n",
            "Requirement already satisfied: defusedxml in /usr/local/lib/python3.7/dist-packages (from nbconvert->notebook>=4.4.1->widgetsnbextension~=3.5.0->ipywidgets>=7.5.1->pandas-profiling==2.7.1) (0.7.1)\n",
            "Requirement already satisfied: bleach in /usr/local/lib/python3.7/dist-packages (from nbconvert->notebook>=4.4.1->widgetsnbextension~=3.5.0->ipywidgets>=7.5.1->pandas-profiling==2.7.1) (3.3.0)\n",
            "Requirement already satisfied: entrypoints>=0.2.2 in /usr/local/lib/python3.7/dist-packages (from nbconvert->notebook>=4.4.1->widgetsnbextension~=3.5.0->ipywidgets>=7.5.1->pandas-profiling==2.7.1) (0.3)\n",
            "Requirement already satisfied: pandocfilters>=1.4.1 in /usr/local/lib/python3.7/dist-packages (from nbconvert->notebook>=4.4.1->widgetsnbextension~=3.5.0->ipywidgets>=7.5.1->pandas-profiling==2.7.1) (1.4.3)\n",
            "Requirement already satisfied: mistune<2,>=0.8.1 in /usr/local/lib/python3.7/dist-packages (from nbconvert->notebook>=4.4.1->widgetsnbextension~=3.5.0->ipywidgets>=7.5.1->pandas-profiling==2.7.1) (0.8.4)\n",
            "Requirement already satisfied: testpath in /usr/local/lib/python3.7/dist-packages (from nbconvert->notebook>=4.4.1->widgetsnbextension~=3.5.0->ipywidgets>=7.5.1->pandas-profiling==2.7.1) (0.4.4)\n",
            "Requirement already satisfied: webencodings in /usr/local/lib/python3.7/dist-packages (from bleach->nbconvert->notebook>=4.4.1->widgetsnbextension~=3.5.0->ipywidgets>=7.5.1->pandas-profiling==2.7.1) (0.5.1)\n",
            "Requirement already satisfied: packaging in /usr/local/lib/python3.7/dist-packages (from bleach->nbconvert->notebook>=4.4.1->widgetsnbextension~=3.5.0->ipywidgets>=7.5.1->pandas-profiling==2.7.1) (20.9)\n"
          ],
          "name": "stdout"
        }
      ]
    },
    {
      "cell_type": "code",
      "metadata": {
        "id": "NV3MHSBhW8j3"
      },
      "source": [
        "from pydrive.auth import GoogleAuth\n",
        "from pydrive.drive import GoogleDrive\n",
        "from google.colab import auth\n",
        "from oauth2client.client import GoogleCredentials"
      ],
      "execution_count": null,
      "outputs": []
    },
    {
      "cell_type": "code",
      "metadata": {
        "id": "Acdvm5sMXW5v"
      },
      "source": [
        "auth.authenticate_user()\n",
        "gauth = GoogleAuth()\n",
        "gauth.credentials = GoogleCredentials.get_application_default()\n",
        "drive = GoogleDrive(gauth)"
      ],
      "execution_count": null,
      "outputs": []
    },
    {
      "cell_type": "markdown",
      "metadata": {
        "id": "o0HNjcfOanUx"
      },
      "source": [
        "##Carga y optimizacion de datos"
      ]
    },
    {
      "cell_type": "markdown",
      "metadata": {
        "id": "ZDJlHQfssms_"
      },
      "source": [
        "Descargo archivos"
      ]
    },
    {
      "cell_type": "code",
      "metadata": {
        "id": "Uv6woxKuW8xK"
      },
      "source": [
        "id='1nt1ABcWS_-jC_CH2HF3Hrcgbso244DWO'\n",
        "downloaded = drive.CreateFile({'id': id})\n",
        "downloaded.GetContentFile('train_labels.csv')"
      ],
      "execution_count": null,
      "outputs": []
    },
    {
      "cell_type": "code",
      "metadata": {
        "id": "IxeOWtFYW9Fs"
      },
      "source": [
        "id='1CjCIE18Tc7iI5J4dTnzXY1dKQzqMnalR'\n",
        "downloaded = drive.CreateFile({'id': id})\n",
        "downloaded.GetContentFile('train_values.csv')"
      ],
      "execution_count": null,
      "outputs": []
    },
    {
      "cell_type": "markdown",
      "metadata": {
        "id": "kC92Jj9HsaRw"
      },
      "source": [
        "Asignamos tipos de datos en la lectura de archivos para luego hacer un merge óptimo."
      ]
    },
    {
      "cell_type": "code",
      "metadata": {
        "id": "oHjVpkyk9675"
      },
      "source": [
        "train_labels = pd.read_csv('train_labels.csv')"
      ],
      "execution_count": null,
      "outputs": []
    },
    {
      "cell_type": "code",
      "metadata": {
        "id": "2RrpgvSCRnqN"
      },
      "source": [
        "train_values = pd.read_csv('train_values.csv', dtype= {'land_surface_condition':'category','foundation_type':'category','roof_type':'category','ground_floor_type':'category' \\\n",
        ", 'other_floor_type':'category', 'position':'category','plan_configuration':'category','damage_grade':'category','legal_ownership_status':'category','has_secondary_use':'int8'\\\n",
        ",'has_superstructure_adobe_mud': 'int8'\\\n",
        ", 'has_superstructure_mud_mortar_stone': 'int8','has_superstructure_stone_flag': 'int8','has_superstructure_cement_mortar_stone': 'int8','has_superstructure_mud_mortar_brick': 'int8'\\\n",
        ", 'has_superstructure_cement_mortar_brick': 'int8', 'has_superstructure_timber': 'int8', 'has_superstructure_bamboo': 'int8', 'has_superstructure_rc_non_engineered': 'int8', 'has_superstructure_rc_engineered': 'int8'\\\n",
        ", 'has_superstructure_other': 'int8', 'has_secondary_use': 'int8', 'has_secondary_use_agriculture': 'int8', 'has_secondary_use_hotel': 'int8', 'has_secondary_use_rental': 'int8', 'has_secondary_use_institution': 'int8'\\\n",
        ", 'has_secondary_use_school': 'int8', 'has_secondary_use_industry': 'int8', 'has_secondary_use_health_post': 'int8', 'has_secondary_use_gov_office': 'int8', 'has_secondary_use_use_police': 'int8', 'has_secondary_use_other': 'int8'})\n"
      ],
      "execution_count": null,
      "outputs": []
    },
    {
      "cell_type": "code",
      "metadata": {
        "id": "7vOsyvd1RvAQ",
        "colab": {
          "base_uri": "https://localhost:8080/"
        },
        "outputId": "7089a625-b832-48b3-a673-aea7326e5a1c"
      },
      "source": [
        "full = train_values.merge(train_labels, how='inner')\n",
        "full.memory_usage().sum() / (1024*1024) # Logramos reducir de 81MB --> 29,3MB"
      ],
      "execution_count": null,
      "outputs": [
        {
          "output_type": "execute_result",
          "data": {
            "text/plain": [
              "29.327795028686523"
            ]
          },
          "metadata": {
            "tags": []
          },
          "execution_count": 263
        }
      ]
    },
    {
      "cell_type": "code",
      "metadata": {
        "id": "z0FMYRLFZ_Om",
        "colab": {
          "base_uri": "https://localhost:8080/",
          "height": 379
        },
        "outputId": "af7fc16f-fd8c-4dd6-8fe3-c0af4d2ae18e"
      },
      "source": [
        "full.sample(10)"
      ],
      "execution_count": null,
      "outputs": [
        {
          "output_type": "execute_result",
          "data": {
            "text/html": [
              "<div>\n",
              "<style scoped>\n",
              "    .dataframe tbody tr th:only-of-type {\n",
              "        vertical-align: middle;\n",
              "    }\n",
              "\n",
              "    .dataframe tbody tr th {\n",
              "        vertical-align: top;\n",
              "    }\n",
              "\n",
              "    .dataframe thead th {\n",
              "        text-align: right;\n",
              "    }\n",
              "</style>\n",
              "<table border=\"1\" class=\"dataframe\">\n",
              "  <thead>\n",
              "    <tr style=\"text-align: right;\">\n",
              "      <th></th>\n",
              "      <th>building_id</th>\n",
              "      <th>geo_level_1_id</th>\n",
              "      <th>geo_level_2_id</th>\n",
              "      <th>geo_level_3_id</th>\n",
              "      <th>count_floors_pre_eq</th>\n",
              "      <th>age</th>\n",
              "      <th>area_percentage</th>\n",
              "      <th>height_percentage</th>\n",
              "      <th>land_surface_condition</th>\n",
              "      <th>foundation_type</th>\n",
              "      <th>roof_type</th>\n",
              "      <th>ground_floor_type</th>\n",
              "      <th>other_floor_type</th>\n",
              "      <th>position</th>\n",
              "      <th>plan_configuration</th>\n",
              "      <th>has_superstructure_adobe_mud</th>\n",
              "      <th>has_superstructure_mud_mortar_stone</th>\n",
              "      <th>has_superstructure_stone_flag</th>\n",
              "      <th>has_superstructure_cement_mortar_stone</th>\n",
              "      <th>has_superstructure_mud_mortar_brick</th>\n",
              "      <th>has_superstructure_cement_mortar_brick</th>\n",
              "      <th>has_superstructure_timber</th>\n",
              "      <th>has_superstructure_bamboo</th>\n",
              "      <th>has_superstructure_rc_non_engineered</th>\n",
              "      <th>has_superstructure_rc_engineered</th>\n",
              "      <th>has_superstructure_other</th>\n",
              "      <th>legal_ownership_status</th>\n",
              "      <th>count_families</th>\n",
              "      <th>has_secondary_use</th>\n",
              "      <th>has_secondary_use_agriculture</th>\n",
              "      <th>has_secondary_use_hotel</th>\n",
              "      <th>has_secondary_use_rental</th>\n",
              "      <th>has_secondary_use_institution</th>\n",
              "      <th>has_secondary_use_school</th>\n",
              "      <th>has_secondary_use_industry</th>\n",
              "      <th>has_secondary_use_health_post</th>\n",
              "      <th>has_secondary_use_gov_office</th>\n",
              "      <th>has_secondary_use_use_police</th>\n",
              "      <th>has_secondary_use_other</th>\n",
              "      <th>damage_grade</th>\n",
              "    </tr>\n",
              "  </thead>\n",
              "  <tbody>\n",
              "    <tr>\n",
              "      <th>219085</th>\n",
              "      <td>740501</td>\n",
              "      <td>20</td>\n",
              "      <td>788</td>\n",
              "      <td>9253</td>\n",
              "      <td>2</td>\n",
              "      <td>15</td>\n",
              "      <td>10</td>\n",
              "      <td>5</td>\n",
              "      <td>t</td>\n",
              "      <td>r</td>\n",
              "      <td>q</td>\n",
              "      <td>f</td>\n",
              "      <td>q</td>\n",
              "      <td>s</td>\n",
              "      <td>d</td>\n",
              "      <td>0</td>\n",
              "      <td>1</td>\n",
              "      <td>0</td>\n",
              "      <td>0</td>\n",
              "      <td>0</td>\n",
              "      <td>0</td>\n",
              "      <td>1</td>\n",
              "      <td>1</td>\n",
              "      <td>0</td>\n",
              "      <td>0</td>\n",
              "      <td>0</td>\n",
              "      <td>v</td>\n",
              "      <td>1</td>\n",
              "      <td>0</td>\n",
              "      <td>0</td>\n",
              "      <td>0</td>\n",
              "      <td>0</td>\n",
              "      <td>0</td>\n",
              "      <td>0</td>\n",
              "      <td>0</td>\n",
              "      <td>0</td>\n",
              "      <td>0</td>\n",
              "      <td>0</td>\n",
              "      <td>0</td>\n",
              "      <td>2</td>\n",
              "    </tr>\n",
              "    <tr>\n",
              "      <th>51107</th>\n",
              "      <td>1024624</td>\n",
              "      <td>9</td>\n",
              "      <td>445</td>\n",
              "      <td>7154</td>\n",
              "      <td>2</td>\n",
              "      <td>0</td>\n",
              "      <td>12</td>\n",
              "      <td>5</td>\n",
              "      <td>t</td>\n",
              "      <td>u</td>\n",
              "      <td>q</td>\n",
              "      <td>v</td>\n",
              "      <td>x</td>\n",
              "      <td>t</td>\n",
              "      <td>d</td>\n",
              "      <td>0</td>\n",
              "      <td>0</td>\n",
              "      <td>0</td>\n",
              "      <td>0</td>\n",
              "      <td>0</td>\n",
              "      <td>1</td>\n",
              "      <td>1</td>\n",
              "      <td>0</td>\n",
              "      <td>0</td>\n",
              "      <td>0</td>\n",
              "      <td>0</td>\n",
              "      <td>v</td>\n",
              "      <td>1</td>\n",
              "      <td>0</td>\n",
              "      <td>0</td>\n",
              "      <td>0</td>\n",
              "      <td>0</td>\n",
              "      <td>0</td>\n",
              "      <td>0</td>\n",
              "      <td>0</td>\n",
              "      <td>0</td>\n",
              "      <td>0</td>\n",
              "      <td>0</td>\n",
              "      <td>0</td>\n",
              "      <td>1</td>\n",
              "    </tr>\n",
              "    <tr>\n",
              "      <th>104707</th>\n",
              "      <td>906182</td>\n",
              "      <td>10</td>\n",
              "      <td>1074</td>\n",
              "      <td>2382</td>\n",
              "      <td>2</td>\n",
              "      <td>5</td>\n",
              "      <td>6</td>\n",
              "      <td>4</td>\n",
              "      <td>t</td>\n",
              "      <td>u</td>\n",
              "      <td>n</td>\n",
              "      <td>x</td>\n",
              "      <td>q</td>\n",
              "      <td>s</td>\n",
              "      <td>d</td>\n",
              "      <td>0</td>\n",
              "      <td>1</td>\n",
              "      <td>0</td>\n",
              "      <td>0</td>\n",
              "      <td>0</td>\n",
              "      <td>0</td>\n",
              "      <td>1</td>\n",
              "      <td>0</td>\n",
              "      <td>0</td>\n",
              "      <td>0</td>\n",
              "      <td>0</td>\n",
              "      <td>v</td>\n",
              "      <td>1</td>\n",
              "      <td>1</td>\n",
              "      <td>1</td>\n",
              "      <td>0</td>\n",
              "      <td>0</td>\n",
              "      <td>0</td>\n",
              "      <td>0</td>\n",
              "      <td>0</td>\n",
              "      <td>0</td>\n",
              "      <td>0</td>\n",
              "      <td>0</td>\n",
              "      <td>0</td>\n",
              "      <td>3</td>\n",
              "    </tr>\n",
              "    <tr>\n",
              "      <th>109969</th>\n",
              "      <td>25998</td>\n",
              "      <td>17</td>\n",
              "      <td>303</td>\n",
              "      <td>9995</td>\n",
              "      <td>3</td>\n",
              "      <td>0</td>\n",
              "      <td>8</td>\n",
              "      <td>8</td>\n",
              "      <td>n</td>\n",
              "      <td>r</td>\n",
              "      <td>q</td>\n",
              "      <td>f</td>\n",
              "      <td>x</td>\n",
              "      <td>s</td>\n",
              "      <td>d</td>\n",
              "      <td>0</td>\n",
              "      <td>1</td>\n",
              "      <td>0</td>\n",
              "      <td>0</td>\n",
              "      <td>0</td>\n",
              "      <td>0</td>\n",
              "      <td>0</td>\n",
              "      <td>0</td>\n",
              "      <td>0</td>\n",
              "      <td>0</td>\n",
              "      <td>0</td>\n",
              "      <td>v</td>\n",
              "      <td>1</td>\n",
              "      <td>0</td>\n",
              "      <td>0</td>\n",
              "      <td>0</td>\n",
              "      <td>0</td>\n",
              "      <td>0</td>\n",
              "      <td>0</td>\n",
              "      <td>0</td>\n",
              "      <td>0</td>\n",
              "      <td>0</td>\n",
              "      <td>0</td>\n",
              "      <td>0</td>\n",
              "      <td>3</td>\n",
              "    </tr>\n",
              "    <tr>\n",
              "      <th>118095</th>\n",
              "      <td>528953</td>\n",
              "      <td>3</td>\n",
              "      <td>1387</td>\n",
              "      <td>925</td>\n",
              "      <td>5</td>\n",
              "      <td>5</td>\n",
              "      <td>21</td>\n",
              "      <td>15</td>\n",
              "      <td>t</td>\n",
              "      <td>i</td>\n",
              "      <td>x</td>\n",
              "      <td>v</td>\n",
              "      <td>s</td>\n",
              "      <td>t</td>\n",
              "      <td>d</td>\n",
              "      <td>0</td>\n",
              "      <td>0</td>\n",
              "      <td>0</td>\n",
              "      <td>0</td>\n",
              "      <td>0</td>\n",
              "      <td>0</td>\n",
              "      <td>0</td>\n",
              "      <td>0</td>\n",
              "      <td>0</td>\n",
              "      <td>1</td>\n",
              "      <td>0</td>\n",
              "      <td>v</td>\n",
              "      <td>1</td>\n",
              "      <td>1</td>\n",
              "      <td>0</td>\n",
              "      <td>1</td>\n",
              "      <td>0</td>\n",
              "      <td>0</td>\n",
              "      <td>0</td>\n",
              "      <td>0</td>\n",
              "      <td>0</td>\n",
              "      <td>0</td>\n",
              "      <td>0</td>\n",
              "      <td>0</td>\n",
              "      <td>2</td>\n",
              "    </tr>\n",
              "    <tr>\n",
              "      <th>6240</th>\n",
              "      <td>153145</td>\n",
              "      <td>6</td>\n",
              "      <td>1170</td>\n",
              "      <td>3236</td>\n",
              "      <td>2</td>\n",
              "      <td>20</td>\n",
              "      <td>8</td>\n",
              "      <td>7</td>\n",
              "      <td>n</td>\n",
              "      <td>r</td>\n",
              "      <td>n</td>\n",
              "      <td>f</td>\n",
              "      <td>q</td>\n",
              "      <td>s</td>\n",
              "      <td>d</td>\n",
              "      <td>0</td>\n",
              "      <td>1</td>\n",
              "      <td>0</td>\n",
              "      <td>0</td>\n",
              "      <td>0</td>\n",
              "      <td>0</td>\n",
              "      <td>0</td>\n",
              "      <td>0</td>\n",
              "      <td>0</td>\n",
              "      <td>0</td>\n",
              "      <td>0</td>\n",
              "      <td>v</td>\n",
              "      <td>2</td>\n",
              "      <td>0</td>\n",
              "      <td>0</td>\n",
              "      <td>0</td>\n",
              "      <td>0</td>\n",
              "      <td>0</td>\n",
              "      <td>0</td>\n",
              "      <td>0</td>\n",
              "      <td>0</td>\n",
              "      <td>0</td>\n",
              "      <td>0</td>\n",
              "      <td>0</td>\n",
              "      <td>2</td>\n",
              "    </tr>\n",
              "    <tr>\n",
              "      <th>179202</th>\n",
              "      <td>392494</td>\n",
              "      <td>17</td>\n",
              "      <td>1149</td>\n",
              "      <td>5807</td>\n",
              "      <td>3</td>\n",
              "      <td>15</td>\n",
              "      <td>10</td>\n",
              "      <td>7</td>\n",
              "      <td>t</td>\n",
              "      <td>r</td>\n",
              "      <td>n</td>\n",
              "      <td>f</td>\n",
              "      <td>q</td>\n",
              "      <td>t</td>\n",
              "      <td>d</td>\n",
              "      <td>0</td>\n",
              "      <td>1</td>\n",
              "      <td>0</td>\n",
              "      <td>0</td>\n",
              "      <td>0</td>\n",
              "      <td>0</td>\n",
              "      <td>1</td>\n",
              "      <td>1</td>\n",
              "      <td>0</td>\n",
              "      <td>0</td>\n",
              "      <td>0</td>\n",
              "      <td>v</td>\n",
              "      <td>1</td>\n",
              "      <td>1</td>\n",
              "      <td>0</td>\n",
              "      <td>1</td>\n",
              "      <td>0</td>\n",
              "      <td>0</td>\n",
              "      <td>0</td>\n",
              "      <td>0</td>\n",
              "      <td>0</td>\n",
              "      <td>0</td>\n",
              "      <td>0</td>\n",
              "      <td>0</td>\n",
              "      <td>3</td>\n",
              "    </tr>\n",
              "    <tr>\n",
              "      <th>43236</th>\n",
              "      <td>162699</td>\n",
              "      <td>8</td>\n",
              "      <td>172</td>\n",
              "      <td>7334</td>\n",
              "      <td>2</td>\n",
              "      <td>15</td>\n",
              "      <td>7</td>\n",
              "      <td>5</td>\n",
              "      <td>t</td>\n",
              "      <td>r</td>\n",
              "      <td>n</td>\n",
              "      <td>f</td>\n",
              "      <td>x</td>\n",
              "      <td>s</td>\n",
              "      <td>d</td>\n",
              "      <td>0</td>\n",
              "      <td>1</td>\n",
              "      <td>0</td>\n",
              "      <td>0</td>\n",
              "      <td>0</td>\n",
              "      <td>0</td>\n",
              "      <td>1</td>\n",
              "      <td>0</td>\n",
              "      <td>0</td>\n",
              "      <td>0</td>\n",
              "      <td>0</td>\n",
              "      <td>v</td>\n",
              "      <td>1</td>\n",
              "      <td>0</td>\n",
              "      <td>0</td>\n",
              "      <td>0</td>\n",
              "      <td>0</td>\n",
              "      <td>0</td>\n",
              "      <td>0</td>\n",
              "      <td>0</td>\n",
              "      <td>0</td>\n",
              "      <td>0</td>\n",
              "      <td>0</td>\n",
              "      <td>0</td>\n",
              "      <td>3</td>\n",
              "    </tr>\n",
              "    <tr>\n",
              "      <th>126872</th>\n",
              "      <td>372190</td>\n",
              "      <td>10</td>\n",
              "      <td>1140</td>\n",
              "      <td>2887</td>\n",
              "      <td>2</td>\n",
              "      <td>20</td>\n",
              "      <td>5</td>\n",
              "      <td>7</td>\n",
              "      <td>t</td>\n",
              "      <td>r</td>\n",
              "      <td>n</td>\n",
              "      <td>f</td>\n",
              "      <td>q</td>\n",
              "      <td>s</td>\n",
              "      <td>d</td>\n",
              "      <td>0</td>\n",
              "      <td>1</td>\n",
              "      <td>0</td>\n",
              "      <td>0</td>\n",
              "      <td>0</td>\n",
              "      <td>0</td>\n",
              "      <td>0</td>\n",
              "      <td>0</td>\n",
              "      <td>0</td>\n",
              "      <td>0</td>\n",
              "      <td>0</td>\n",
              "      <td>v</td>\n",
              "      <td>1</td>\n",
              "      <td>0</td>\n",
              "      <td>0</td>\n",
              "      <td>0</td>\n",
              "      <td>0</td>\n",
              "      <td>0</td>\n",
              "      <td>0</td>\n",
              "      <td>0</td>\n",
              "      <td>0</td>\n",
              "      <td>0</td>\n",
              "      <td>0</td>\n",
              "      <td>0</td>\n",
              "      <td>3</td>\n",
              "    </tr>\n",
              "    <tr>\n",
              "      <th>212494</th>\n",
              "      <td>722818</td>\n",
              "      <td>20</td>\n",
              "      <td>943</td>\n",
              "      <td>6700</td>\n",
              "      <td>1</td>\n",
              "      <td>10</td>\n",
              "      <td>2</td>\n",
              "      <td>3</td>\n",
              "      <td>t</td>\n",
              "      <td>r</td>\n",
              "      <td>n</td>\n",
              "      <td>f</td>\n",
              "      <td>j</td>\n",
              "      <td>s</td>\n",
              "      <td>d</td>\n",
              "      <td>0</td>\n",
              "      <td>1</td>\n",
              "      <td>0</td>\n",
              "      <td>0</td>\n",
              "      <td>0</td>\n",
              "      <td>0</td>\n",
              "      <td>0</td>\n",
              "      <td>0</td>\n",
              "      <td>0</td>\n",
              "      <td>0</td>\n",
              "      <td>0</td>\n",
              "      <td>v</td>\n",
              "      <td>1</td>\n",
              "      <td>0</td>\n",
              "      <td>0</td>\n",
              "      <td>0</td>\n",
              "      <td>0</td>\n",
              "      <td>0</td>\n",
              "      <td>0</td>\n",
              "      <td>0</td>\n",
              "      <td>0</td>\n",
              "      <td>0</td>\n",
              "      <td>0</td>\n",
              "      <td>0</td>\n",
              "      <td>1</td>\n",
              "    </tr>\n",
              "  </tbody>\n",
              "</table>\n",
              "</div>"
            ],
            "text/plain": [
              "        building_id  geo_level_1_id  ...  has_secondary_use_other  damage_grade\n",
              "219085       740501              20  ...                        0             2\n",
              "51107       1024624               9  ...                        0             1\n",
              "104707       906182              10  ...                        0             3\n",
              "109969        25998              17  ...                        0             3\n",
              "118095       528953               3  ...                        0             2\n",
              "6240         153145               6  ...                        0             2\n",
              "179202       392494              17  ...                        0             3\n",
              "43236        162699               8  ...                        0             3\n",
              "126872       372190              10  ...                        0             3\n",
              "212494       722818              20  ...                        0             1\n",
              "\n",
              "[10 rows x 40 columns]"
            ]
          },
          "metadata": {
            "tags": []
          },
          "execution_count": 264
        }
      ]
    },
    {
      "cell_type": "code",
      "metadata": {
        "id": "lDN0eVwBem3M",
        "colab": {
          "base_uri": "https://localhost:8080/"
        },
        "outputId": "b0784734-7f97-44fc-b4b7-a59efed6bd71"
      },
      "source": [
        "full.info() # no hay elementos nulos en todo el dataset."
      ],
      "execution_count": null,
      "outputs": [
        {
          "output_type": "stream",
          "text": [
            "<class 'pandas.core.frame.DataFrame'>\n",
            "Int64Index: 260601 entries, 0 to 260600\n",
            "Data columns (total 40 columns):\n",
            " #   Column                                  Non-Null Count   Dtype   \n",
            "---  ------                                  --------------   -----   \n",
            " 0   building_id                             260601 non-null  int64   \n",
            " 1   geo_level_1_id                          260601 non-null  int64   \n",
            " 2   geo_level_2_id                          260601 non-null  int64   \n",
            " 3   geo_level_3_id                          260601 non-null  int64   \n",
            " 4   count_floors_pre_eq                     260601 non-null  int64   \n",
            " 5   age                                     260601 non-null  int64   \n",
            " 6   area_percentage                         260601 non-null  int64   \n",
            " 7   height_percentage                       260601 non-null  int64   \n",
            " 8   land_surface_condition                  260601 non-null  category\n",
            " 9   foundation_type                         260601 non-null  category\n",
            " 10  roof_type                               260601 non-null  category\n",
            " 11  ground_floor_type                       260601 non-null  category\n",
            " 12  other_floor_type                        260601 non-null  category\n",
            " 13  position                                260601 non-null  category\n",
            " 14  plan_configuration                      260601 non-null  category\n",
            " 15  has_superstructure_adobe_mud            260601 non-null  int8    \n",
            " 16  has_superstructure_mud_mortar_stone     260601 non-null  int8    \n",
            " 17  has_superstructure_stone_flag           260601 non-null  int8    \n",
            " 18  has_superstructure_cement_mortar_stone  260601 non-null  int8    \n",
            " 19  has_superstructure_mud_mortar_brick     260601 non-null  int8    \n",
            " 20  has_superstructure_cement_mortar_brick  260601 non-null  int8    \n",
            " 21  has_superstructure_timber               260601 non-null  int8    \n",
            " 22  has_superstructure_bamboo               260601 non-null  int8    \n",
            " 23  has_superstructure_rc_non_engineered    260601 non-null  int8    \n",
            " 24  has_superstructure_rc_engineered        260601 non-null  int8    \n",
            " 25  has_superstructure_other                260601 non-null  int8    \n",
            " 26  legal_ownership_status                  260601 non-null  category\n",
            " 27  count_families                          260601 non-null  int64   \n",
            " 28  has_secondary_use                       260601 non-null  int8    \n",
            " 29  has_secondary_use_agriculture           260601 non-null  int8    \n",
            " 30  has_secondary_use_hotel                 260601 non-null  int8    \n",
            " 31  has_secondary_use_rental                260601 non-null  int8    \n",
            " 32  has_secondary_use_institution           260601 non-null  int8    \n",
            " 33  has_secondary_use_school                260601 non-null  int8    \n",
            " 34  has_secondary_use_industry              260601 non-null  int8    \n",
            " 35  has_secondary_use_health_post           260601 non-null  int8    \n",
            " 36  has_secondary_use_gov_office            260601 non-null  int8    \n",
            " 37  has_secondary_use_use_police            260601 non-null  int8    \n",
            " 38  has_secondary_use_other                 260601 non-null  int8    \n",
            " 39  damage_grade                            260601 non-null  int64   \n",
            "dtypes: category(8), int64(10), int8(22)\n",
            "memory usage: 29.3 MB\n"
          ],
          "name": "stdout"
        }
      ]
    },
    {
      "cell_type": "code",
      "metadata": {
        "id": "mBiWbblWbi3C",
        "colab": {
          "base_uri": "https://localhost:8080/",
          "height": 317
        },
        "outputId": "01923f97-aac0-4b50-a815-6bd97a2f8187"
      },
      "source": [
        "full.describe()"
      ],
      "execution_count": null,
      "outputs": [
        {
          "output_type": "execute_result",
          "data": {
            "text/html": [
              "<div>\n",
              "<style scoped>\n",
              "    .dataframe tbody tr th:only-of-type {\n",
              "        vertical-align: middle;\n",
              "    }\n",
              "\n",
              "    .dataframe tbody tr th {\n",
              "        vertical-align: top;\n",
              "    }\n",
              "\n",
              "    .dataframe thead th {\n",
              "        text-align: right;\n",
              "    }\n",
              "</style>\n",
              "<table border=\"1\" class=\"dataframe\">\n",
              "  <thead>\n",
              "    <tr style=\"text-align: right;\">\n",
              "      <th></th>\n",
              "      <th>building_id</th>\n",
              "      <th>geo_level_1_id</th>\n",
              "      <th>geo_level_2_id</th>\n",
              "      <th>geo_level_3_id</th>\n",
              "      <th>count_floors_pre_eq</th>\n",
              "      <th>age</th>\n",
              "      <th>area_percentage</th>\n",
              "      <th>height_percentage</th>\n",
              "      <th>has_superstructure_adobe_mud</th>\n",
              "      <th>has_superstructure_mud_mortar_stone</th>\n",
              "      <th>has_superstructure_stone_flag</th>\n",
              "      <th>has_superstructure_cement_mortar_stone</th>\n",
              "      <th>has_superstructure_mud_mortar_brick</th>\n",
              "      <th>has_superstructure_cement_mortar_brick</th>\n",
              "      <th>has_superstructure_timber</th>\n",
              "      <th>has_superstructure_bamboo</th>\n",
              "      <th>has_superstructure_rc_non_engineered</th>\n",
              "      <th>has_superstructure_rc_engineered</th>\n",
              "      <th>has_superstructure_other</th>\n",
              "      <th>count_families</th>\n",
              "      <th>has_secondary_use</th>\n",
              "      <th>has_secondary_use_agriculture</th>\n",
              "      <th>has_secondary_use_hotel</th>\n",
              "      <th>has_secondary_use_rental</th>\n",
              "      <th>has_secondary_use_institution</th>\n",
              "      <th>has_secondary_use_school</th>\n",
              "      <th>has_secondary_use_industry</th>\n",
              "      <th>has_secondary_use_health_post</th>\n",
              "      <th>has_secondary_use_gov_office</th>\n",
              "      <th>has_secondary_use_use_police</th>\n",
              "      <th>has_secondary_use_other</th>\n",
              "      <th>damage_grade</th>\n",
              "    </tr>\n",
              "  </thead>\n",
              "  <tbody>\n",
              "    <tr>\n",
              "      <th>count</th>\n",
              "      <td>260,601.00</td>\n",
              "      <td>260,601.00</td>\n",
              "      <td>260,601.00</td>\n",
              "      <td>260,601.00</td>\n",
              "      <td>260,601.00</td>\n",
              "      <td>260,601.00</td>\n",
              "      <td>260,601.00</td>\n",
              "      <td>260,601.00</td>\n",
              "      <td>260,601.00</td>\n",
              "      <td>260,601.00</td>\n",
              "      <td>260,601.00</td>\n",
              "      <td>260,601.00</td>\n",
              "      <td>260,601.00</td>\n",
              "      <td>260,601.00</td>\n",
              "      <td>260,601.00</td>\n",
              "      <td>260,601.00</td>\n",
              "      <td>260,601.00</td>\n",
              "      <td>260,601.00</td>\n",
              "      <td>260,601.00</td>\n",
              "      <td>260,601.00</td>\n",
              "      <td>260,601.00</td>\n",
              "      <td>260,601.00</td>\n",
              "      <td>260,601.00</td>\n",
              "      <td>260,601.00</td>\n",
              "      <td>260,601.00</td>\n",
              "      <td>260,601.00</td>\n",
              "      <td>260,601.00</td>\n",
              "      <td>260,601.00</td>\n",
              "      <td>260,601.00</td>\n",
              "      <td>260,601.00</td>\n",
              "      <td>260,601.00</td>\n",
              "      <td>260,601.00</td>\n",
              "    </tr>\n",
              "    <tr>\n",
              "      <th>mean</th>\n",
              "      <td>525,675.48</td>\n",
              "      <td>13.90</td>\n",
              "      <td>701.07</td>\n",
              "      <td>6,257.88</td>\n",
              "      <td>2.13</td>\n",
              "      <td>26.54</td>\n",
              "      <td>8.02</td>\n",
              "      <td>5.43</td>\n",
              "      <td>0.09</td>\n",
              "      <td>0.76</td>\n",
              "      <td>0.03</td>\n",
              "      <td>0.02</td>\n",
              "      <td>0.07</td>\n",
              "      <td>0.08</td>\n",
              "      <td>0.25</td>\n",
              "      <td>0.09</td>\n",
              "      <td>0.04</td>\n",
              "      <td>0.02</td>\n",
              "      <td>0.01</td>\n",
              "      <td>0.98</td>\n",
              "      <td>0.11</td>\n",
              "      <td>0.06</td>\n",
              "      <td>0.03</td>\n",
              "      <td>0.01</td>\n",
              "      <td>0.00</td>\n",
              "      <td>0.00</td>\n",
              "      <td>0.00</td>\n",
              "      <td>0.00</td>\n",
              "      <td>0.00</td>\n",
              "      <td>0.00</td>\n",
              "      <td>0.01</td>\n",
              "      <td>2.24</td>\n",
              "    </tr>\n",
              "    <tr>\n",
              "      <th>std</th>\n",
              "      <td>304,545.00</td>\n",
              "      <td>8.03</td>\n",
              "      <td>412.71</td>\n",
              "      <td>3,646.37</td>\n",
              "      <td>0.73</td>\n",
              "      <td>73.57</td>\n",
              "      <td>4.39</td>\n",
              "      <td>1.92</td>\n",
              "      <td>0.28</td>\n",
              "      <td>0.43</td>\n",
              "      <td>0.18</td>\n",
              "      <td>0.13</td>\n",
              "      <td>0.25</td>\n",
              "      <td>0.26</td>\n",
              "      <td>0.44</td>\n",
              "      <td>0.28</td>\n",
              "      <td>0.20</td>\n",
              "      <td>0.12</td>\n",
              "      <td>0.12</td>\n",
              "      <td>0.42</td>\n",
              "      <td>0.32</td>\n",
              "      <td>0.25</td>\n",
              "      <td>0.18</td>\n",
              "      <td>0.09</td>\n",
              "      <td>0.03</td>\n",
              "      <td>0.02</td>\n",
              "      <td>0.03</td>\n",
              "      <td>0.01</td>\n",
              "      <td>0.01</td>\n",
              "      <td>0.01</td>\n",
              "      <td>0.07</td>\n",
              "      <td>0.61</td>\n",
              "    </tr>\n",
              "    <tr>\n",
              "      <th>min</th>\n",
              "      <td>4.00</td>\n",
              "      <td>0.00</td>\n",
              "      <td>0.00</td>\n",
              "      <td>0.00</td>\n",
              "      <td>1.00</td>\n",
              "      <td>0.00</td>\n",
              "      <td>1.00</td>\n",
              "      <td>2.00</td>\n",
              "      <td>0.00</td>\n",
              "      <td>0.00</td>\n",
              "      <td>0.00</td>\n",
              "      <td>0.00</td>\n",
              "      <td>0.00</td>\n",
              "      <td>0.00</td>\n",
              "      <td>0.00</td>\n",
              "      <td>0.00</td>\n",
              "      <td>0.00</td>\n",
              "      <td>0.00</td>\n",
              "      <td>0.00</td>\n",
              "      <td>0.00</td>\n",
              "      <td>0.00</td>\n",
              "      <td>0.00</td>\n",
              "      <td>0.00</td>\n",
              "      <td>0.00</td>\n",
              "      <td>0.00</td>\n",
              "      <td>0.00</td>\n",
              "      <td>0.00</td>\n",
              "      <td>0.00</td>\n",
              "      <td>0.00</td>\n",
              "      <td>0.00</td>\n",
              "      <td>0.00</td>\n",
              "      <td>1.00</td>\n",
              "    </tr>\n",
              "    <tr>\n",
              "      <th>25%</th>\n",
              "      <td>261,190.00</td>\n",
              "      <td>7.00</td>\n",
              "      <td>350.00</td>\n",
              "      <td>3,073.00</td>\n",
              "      <td>2.00</td>\n",
              "      <td>10.00</td>\n",
              "      <td>5.00</td>\n",
              "      <td>4.00</td>\n",
              "      <td>0.00</td>\n",
              "      <td>1.00</td>\n",
              "      <td>0.00</td>\n",
              "      <td>0.00</td>\n",
              "      <td>0.00</td>\n",
              "      <td>0.00</td>\n",
              "      <td>0.00</td>\n",
              "      <td>0.00</td>\n",
              "      <td>0.00</td>\n",
              "      <td>0.00</td>\n",
              "      <td>0.00</td>\n",
              "      <td>1.00</td>\n",
              "      <td>0.00</td>\n",
              "      <td>0.00</td>\n",
              "      <td>0.00</td>\n",
              "      <td>0.00</td>\n",
              "      <td>0.00</td>\n",
              "      <td>0.00</td>\n",
              "      <td>0.00</td>\n",
              "      <td>0.00</td>\n",
              "      <td>0.00</td>\n",
              "      <td>0.00</td>\n",
              "      <td>0.00</td>\n",
              "      <td>2.00</td>\n",
              "    </tr>\n",
              "    <tr>\n",
              "      <th>50%</th>\n",
              "      <td>525,757.00</td>\n",
              "      <td>12.00</td>\n",
              "      <td>702.00</td>\n",
              "      <td>6,270.00</td>\n",
              "      <td>2.00</td>\n",
              "      <td>15.00</td>\n",
              "      <td>7.00</td>\n",
              "      <td>5.00</td>\n",
              "      <td>0.00</td>\n",
              "      <td>1.00</td>\n",
              "      <td>0.00</td>\n",
              "      <td>0.00</td>\n",
              "      <td>0.00</td>\n",
              "      <td>0.00</td>\n",
              "      <td>0.00</td>\n",
              "      <td>0.00</td>\n",
              "      <td>0.00</td>\n",
              "      <td>0.00</td>\n",
              "      <td>0.00</td>\n",
              "      <td>1.00</td>\n",
              "      <td>0.00</td>\n",
              "      <td>0.00</td>\n",
              "      <td>0.00</td>\n",
              "      <td>0.00</td>\n",
              "      <td>0.00</td>\n",
              "      <td>0.00</td>\n",
              "      <td>0.00</td>\n",
              "      <td>0.00</td>\n",
              "      <td>0.00</td>\n",
              "      <td>0.00</td>\n",
              "      <td>0.00</td>\n",
              "      <td>2.00</td>\n",
              "    </tr>\n",
              "    <tr>\n",
              "      <th>75%</th>\n",
              "      <td>789,762.00</td>\n",
              "      <td>21.00</td>\n",
              "      <td>1,050.00</td>\n",
              "      <td>9,412.00</td>\n",
              "      <td>2.00</td>\n",
              "      <td>30.00</td>\n",
              "      <td>9.00</td>\n",
              "      <td>6.00</td>\n",
              "      <td>0.00</td>\n",
              "      <td>1.00</td>\n",
              "      <td>0.00</td>\n",
              "      <td>0.00</td>\n",
              "      <td>0.00</td>\n",
              "      <td>0.00</td>\n",
              "      <td>1.00</td>\n",
              "      <td>0.00</td>\n",
              "      <td>0.00</td>\n",
              "      <td>0.00</td>\n",
              "      <td>0.00</td>\n",
              "      <td>1.00</td>\n",
              "      <td>0.00</td>\n",
              "      <td>0.00</td>\n",
              "      <td>0.00</td>\n",
              "      <td>0.00</td>\n",
              "      <td>0.00</td>\n",
              "      <td>0.00</td>\n",
              "      <td>0.00</td>\n",
              "      <td>0.00</td>\n",
              "      <td>0.00</td>\n",
              "      <td>0.00</td>\n",
              "      <td>0.00</td>\n",
              "      <td>3.00</td>\n",
              "    </tr>\n",
              "    <tr>\n",
              "      <th>max</th>\n",
              "      <td>1,052,934.00</td>\n",
              "      <td>30.00</td>\n",
              "      <td>1,427.00</td>\n",
              "      <td>12,567.00</td>\n",
              "      <td>9.00</td>\n",
              "      <td>995.00</td>\n",
              "      <td>100.00</td>\n",
              "      <td>32.00</td>\n",
              "      <td>1.00</td>\n",
              "      <td>1.00</td>\n",
              "      <td>1.00</td>\n",
              "      <td>1.00</td>\n",
              "      <td>1.00</td>\n",
              "      <td>1.00</td>\n",
              "      <td>1.00</td>\n",
              "      <td>1.00</td>\n",
              "      <td>1.00</td>\n",
              "      <td>1.00</td>\n",
              "      <td>1.00</td>\n",
              "      <td>9.00</td>\n",
              "      <td>1.00</td>\n",
              "      <td>1.00</td>\n",
              "      <td>1.00</td>\n",
              "      <td>1.00</td>\n",
              "      <td>1.00</td>\n",
              "      <td>1.00</td>\n",
              "      <td>1.00</td>\n",
              "      <td>1.00</td>\n",
              "      <td>1.00</td>\n",
              "      <td>1.00</td>\n",
              "      <td>1.00</td>\n",
              "      <td>3.00</td>\n",
              "    </tr>\n",
              "  </tbody>\n",
              "</table>\n",
              "</div>"
            ],
            "text/plain": [
              "               building_id  ...         damage_grade\n",
              "count           260,601.00  ...           260,601.00\n",
              "mean            525,675.48  ...                 2.24\n",
              "std             304,545.00  ...                 0.61\n",
              "min                   4.00  ...                 1.00\n",
              "25%             261,190.00  ...                 2.00\n",
              "50%             525,757.00  ...                 2.00\n",
              "75%             789,762.00  ...                 3.00\n",
              "max           1,052,934.00  ...                 3.00\n",
              "\n",
              "[8 rows x 32 columns]"
            ]
          },
          "metadata": {
            "tags": []
          },
          "execution_count": 266
        }
      ]
    },
    {
      "cell_type": "markdown",
      "metadata": {
        "id": "HlOS9YWgw_iK"
      },
      "source": [
        "## Reporte Perfilado de Pandas"
      ]
    },
    {
      "cell_type": "code",
      "metadata": {
        "id": "qNC0GyHgxXfZ"
      },
      "source": [
        "#ProfileReport(full)"
      ],
      "execution_count": null,
      "outputs": []
    },
    {
      "cell_type": "markdown",
      "metadata": {
        "id": "Lqav8tjv22Op"
      },
      "source": [
        "##Exploracion de datos"
      ]
    },
    {
      "cell_type": "code",
      "metadata": {
        "id": "fDKr9JGS3FZP",
        "colab": {
          "base_uri": "https://localhost:8080/"
        },
        "outputId": "efa06d9d-e4a4-405b-8889-100ea6564b92"
      },
      "source": [
        "full.building_id.is_unique"
      ],
      "execution_count": null,
      "outputs": [
        {
          "output_type": "execute_result",
          "data": {
            "text/plain": [
              "True"
            ]
          },
          "metadata": {
            "tags": []
          },
          "execution_count": 268
        }
      ]
    },
    {
      "cell_type": "code",
      "metadata": {
        "id": "7pIdMTB23O2k",
        "colab": {
          "base_uri": "https://localhost:8080/"
        },
        "outputId": "89bd6ce3-d9f4-46a8-8584-07e323f37ea0"
      },
      "source": [
        "full.damage_grade.value_counts()"
      ],
      "execution_count": null,
      "outputs": [
        {
          "output_type": "execute_result",
          "data": {
            "text/plain": [
              "2    148259\n",
              "3     87218\n",
              "1     25124\n",
              "Name: damage_grade, dtype: int64"
            ]
          },
          "metadata": {
            "tags": []
          },
          "execution_count": 269
        }
      ]
    },
    {
      "cell_type": "markdown",
      "metadata": {
        "id": "6z0VyOrK-0oN"
      },
      "source": [
        "###Exploracion datos numericos"
      ]
    },
    {
      "cell_type": "code",
      "metadata": {
        "id": "phsqcfS44z0l",
        "colab": {
          "base_uri": "https://localhost:8080/",
          "height": 297
        },
        "outputId": "a0278c25-efc3-47d6-8fc6-0bc208c6edfc"
      },
      "source": [
        "numerical_columns = ['age','count_floors_pre_eq', 'area_percentage', 'height_percentage']\n",
        "full[numerical_columns].describe()"
      ],
      "execution_count": null,
      "outputs": [
        {
          "output_type": "execute_result",
          "data": {
            "text/html": [
              "<div>\n",
              "<style scoped>\n",
              "    .dataframe tbody tr th:only-of-type {\n",
              "        vertical-align: middle;\n",
              "    }\n",
              "\n",
              "    .dataframe tbody tr th {\n",
              "        vertical-align: top;\n",
              "    }\n",
              "\n",
              "    .dataframe thead th {\n",
              "        text-align: right;\n",
              "    }\n",
              "</style>\n",
              "<table border=\"1\" class=\"dataframe\">\n",
              "  <thead>\n",
              "    <tr style=\"text-align: right;\">\n",
              "      <th></th>\n",
              "      <th>age</th>\n",
              "      <th>count_floors_pre_eq</th>\n",
              "      <th>area_percentage</th>\n",
              "      <th>height_percentage</th>\n",
              "    </tr>\n",
              "  </thead>\n",
              "  <tbody>\n",
              "    <tr>\n",
              "      <th>count</th>\n",
              "      <td>260,601.00</td>\n",
              "      <td>260,601.00</td>\n",
              "      <td>260,601.00</td>\n",
              "      <td>260,601.00</td>\n",
              "    </tr>\n",
              "    <tr>\n",
              "      <th>mean</th>\n",
              "      <td>26.54</td>\n",
              "      <td>2.13</td>\n",
              "      <td>8.02</td>\n",
              "      <td>5.43</td>\n",
              "    </tr>\n",
              "    <tr>\n",
              "      <th>std</th>\n",
              "      <td>73.57</td>\n",
              "      <td>0.73</td>\n",
              "      <td>4.39</td>\n",
              "      <td>1.92</td>\n",
              "    </tr>\n",
              "    <tr>\n",
              "      <th>min</th>\n",
              "      <td>0.00</td>\n",
              "      <td>1.00</td>\n",
              "      <td>1.00</td>\n",
              "      <td>2.00</td>\n",
              "    </tr>\n",
              "    <tr>\n",
              "      <th>25%</th>\n",
              "      <td>10.00</td>\n",
              "      <td>2.00</td>\n",
              "      <td>5.00</td>\n",
              "      <td>4.00</td>\n",
              "    </tr>\n",
              "    <tr>\n",
              "      <th>50%</th>\n",
              "      <td>15.00</td>\n",
              "      <td>2.00</td>\n",
              "      <td>7.00</td>\n",
              "      <td>5.00</td>\n",
              "    </tr>\n",
              "    <tr>\n",
              "      <th>75%</th>\n",
              "      <td>30.00</td>\n",
              "      <td>2.00</td>\n",
              "      <td>9.00</td>\n",
              "      <td>6.00</td>\n",
              "    </tr>\n",
              "    <tr>\n",
              "      <th>max</th>\n",
              "      <td>995.00</td>\n",
              "      <td>9.00</td>\n",
              "      <td>100.00</td>\n",
              "      <td>32.00</td>\n",
              "    </tr>\n",
              "  </tbody>\n",
              "</table>\n",
              "</div>"
            ],
            "text/plain": [
              "                       age  ...    height_percentage\n",
              "count           260,601.00  ...           260,601.00\n",
              "mean                 26.54  ...                 5.43\n",
              "std                  73.57  ...                 1.92\n",
              "min                   0.00  ...                 2.00\n",
              "25%                  10.00  ...                 4.00\n",
              "50%                  15.00  ...                 5.00\n",
              "75%                  30.00  ...                 6.00\n",
              "max                 995.00  ...                32.00\n",
              "\n",
              "[8 rows x 4 columns]"
            ]
          },
          "metadata": {
            "tags": []
          },
          "execution_count": 270
        }
      ]
    },
    {
      "cell_type": "code",
      "metadata": {
        "id": "1S0578R53YwQ",
        "colab": {
          "base_uri": "https://localhost:8080/"
        },
        "outputId": "434c87be-e307-4bee-941b-bb6e322459ff"
      },
      "source": [
        "full.count_floors_pre_eq.value_counts().sort_values(ascending=False)"
      ],
      "execution_count": null,
      "outputs": [
        {
          "output_type": "execute_result",
          "data": {
            "text/plain": [
              "2    156623\n",
              "3     55617\n",
              "1     40441\n",
              "4      5424\n",
              "5      2246\n",
              "6       209\n",
              "7        39\n",
              "8         1\n",
              "9         1\n",
              "Name: count_floors_pre_eq, dtype: int64"
            ]
          },
          "metadata": {
            "tags": []
          },
          "execution_count": 271
        }
      ]
    },
    {
      "cell_type": "markdown",
      "metadata": {
        "id": "YeJXJL7d_JNC"
      },
      "source": [
        "###Exploracion datos categoricos"
      ]
    },
    {
      "cell_type": "code",
      "metadata": {
        "id": "TfpsBU83COrR",
        "colab": {
          "base_uri": "https://localhost:8080/",
          "height": 224
        },
        "outputId": "f15cadfb-c746-49ee-f3ca-eb814e6bfc72"
      },
      "source": [
        "full.sample(5)"
      ],
      "execution_count": null,
      "outputs": [
        {
          "output_type": "execute_result",
          "data": {
            "text/html": [
              "<div>\n",
              "<style scoped>\n",
              "    .dataframe tbody tr th:only-of-type {\n",
              "        vertical-align: middle;\n",
              "    }\n",
              "\n",
              "    .dataframe tbody tr th {\n",
              "        vertical-align: top;\n",
              "    }\n",
              "\n",
              "    .dataframe thead th {\n",
              "        text-align: right;\n",
              "    }\n",
              "</style>\n",
              "<table border=\"1\" class=\"dataframe\">\n",
              "  <thead>\n",
              "    <tr style=\"text-align: right;\">\n",
              "      <th></th>\n",
              "      <th>building_id</th>\n",
              "      <th>geo_level_1_id</th>\n",
              "      <th>geo_level_2_id</th>\n",
              "      <th>geo_level_3_id</th>\n",
              "      <th>count_floors_pre_eq</th>\n",
              "      <th>age</th>\n",
              "      <th>area_percentage</th>\n",
              "      <th>height_percentage</th>\n",
              "      <th>land_surface_condition</th>\n",
              "      <th>foundation_type</th>\n",
              "      <th>roof_type</th>\n",
              "      <th>ground_floor_type</th>\n",
              "      <th>other_floor_type</th>\n",
              "      <th>position</th>\n",
              "      <th>plan_configuration</th>\n",
              "      <th>has_superstructure_adobe_mud</th>\n",
              "      <th>has_superstructure_mud_mortar_stone</th>\n",
              "      <th>has_superstructure_stone_flag</th>\n",
              "      <th>has_superstructure_cement_mortar_stone</th>\n",
              "      <th>has_superstructure_mud_mortar_brick</th>\n",
              "      <th>has_superstructure_cement_mortar_brick</th>\n",
              "      <th>has_superstructure_timber</th>\n",
              "      <th>has_superstructure_bamboo</th>\n",
              "      <th>has_superstructure_rc_non_engineered</th>\n",
              "      <th>has_superstructure_rc_engineered</th>\n",
              "      <th>has_superstructure_other</th>\n",
              "      <th>legal_ownership_status</th>\n",
              "      <th>count_families</th>\n",
              "      <th>has_secondary_use</th>\n",
              "      <th>has_secondary_use_agriculture</th>\n",
              "      <th>has_secondary_use_hotel</th>\n",
              "      <th>has_secondary_use_rental</th>\n",
              "      <th>has_secondary_use_institution</th>\n",
              "      <th>has_secondary_use_school</th>\n",
              "      <th>has_secondary_use_industry</th>\n",
              "      <th>has_secondary_use_health_post</th>\n",
              "      <th>has_secondary_use_gov_office</th>\n",
              "      <th>has_secondary_use_use_police</th>\n",
              "      <th>has_secondary_use_other</th>\n",
              "      <th>damage_grade</th>\n",
              "    </tr>\n",
              "  </thead>\n",
              "  <tbody>\n",
              "    <tr>\n",
              "      <th>126581</th>\n",
              "      <td>974528</td>\n",
              "      <td>26</td>\n",
              "      <td>886</td>\n",
              "      <td>9266</td>\n",
              "      <td>2</td>\n",
              "      <td>15</td>\n",
              "      <td>4</td>\n",
              "      <td>5</td>\n",
              "      <td>t</td>\n",
              "      <td>w</td>\n",
              "      <td>n</td>\n",
              "      <td>f</td>\n",
              "      <td>j</td>\n",
              "      <td>s</td>\n",
              "      <td>d</td>\n",
              "      <td>0</td>\n",
              "      <td>0</td>\n",
              "      <td>0</td>\n",
              "      <td>0</td>\n",
              "      <td>0</td>\n",
              "      <td>0</td>\n",
              "      <td>1</td>\n",
              "      <td>0</td>\n",
              "      <td>0</td>\n",
              "      <td>0</td>\n",
              "      <td>0</td>\n",
              "      <td>v</td>\n",
              "      <td>2</td>\n",
              "      <td>0</td>\n",
              "      <td>0</td>\n",
              "      <td>0</td>\n",
              "      <td>0</td>\n",
              "      <td>0</td>\n",
              "      <td>0</td>\n",
              "      <td>0</td>\n",
              "      <td>0</td>\n",
              "      <td>0</td>\n",
              "      <td>0</td>\n",
              "      <td>0</td>\n",
              "      <td>1</td>\n",
              "    </tr>\n",
              "    <tr>\n",
              "      <th>194212</th>\n",
              "      <td>571964</td>\n",
              "      <td>13</td>\n",
              "      <td>213</td>\n",
              "      <td>111</td>\n",
              "      <td>2</td>\n",
              "      <td>10</td>\n",
              "      <td>7</td>\n",
              "      <td>6</td>\n",
              "      <td>t</td>\n",
              "      <td>r</td>\n",
              "      <td>q</td>\n",
              "      <td>f</td>\n",
              "      <td>x</td>\n",
              "      <td>s</td>\n",
              "      <td>d</td>\n",
              "      <td>0</td>\n",
              "      <td>1</td>\n",
              "      <td>0</td>\n",
              "      <td>0</td>\n",
              "      <td>0</td>\n",
              "      <td>0</td>\n",
              "      <td>0</td>\n",
              "      <td>0</td>\n",
              "      <td>0</td>\n",
              "      <td>0</td>\n",
              "      <td>0</td>\n",
              "      <td>v</td>\n",
              "      <td>1</td>\n",
              "      <td>0</td>\n",
              "      <td>0</td>\n",
              "      <td>0</td>\n",
              "      <td>0</td>\n",
              "      <td>0</td>\n",
              "      <td>0</td>\n",
              "      <td>0</td>\n",
              "      <td>0</td>\n",
              "      <td>0</td>\n",
              "      <td>0</td>\n",
              "      <td>0</td>\n",
              "      <td>2</td>\n",
              "    </tr>\n",
              "    <tr>\n",
              "      <th>186117</th>\n",
              "      <td>546540</td>\n",
              "      <td>26</td>\n",
              "      <td>36</td>\n",
              "      <td>5318</td>\n",
              "      <td>1</td>\n",
              "      <td>10</td>\n",
              "      <td>7</td>\n",
              "      <td>4</td>\n",
              "      <td>t</td>\n",
              "      <td>r</td>\n",
              "      <td>n</td>\n",
              "      <td>v</td>\n",
              "      <td>j</td>\n",
              "      <td>s</td>\n",
              "      <td>d</td>\n",
              "      <td>0</td>\n",
              "      <td>0</td>\n",
              "      <td>0</td>\n",
              "      <td>0</td>\n",
              "      <td>0</td>\n",
              "      <td>1</td>\n",
              "      <td>0</td>\n",
              "      <td>0</td>\n",
              "      <td>0</td>\n",
              "      <td>0</td>\n",
              "      <td>0</td>\n",
              "      <td>v</td>\n",
              "      <td>1</td>\n",
              "      <td>1</td>\n",
              "      <td>0</td>\n",
              "      <td>1</td>\n",
              "      <td>0</td>\n",
              "      <td>0</td>\n",
              "      <td>0</td>\n",
              "      <td>0</td>\n",
              "      <td>0</td>\n",
              "      <td>0</td>\n",
              "      <td>0</td>\n",
              "      <td>0</td>\n",
              "      <td>1</td>\n",
              "    </tr>\n",
              "    <tr>\n",
              "      <th>182899</th>\n",
              "      <td>622822</td>\n",
              "      <td>7</td>\n",
              "      <td>1265</td>\n",
              "      <td>9455</td>\n",
              "      <td>2</td>\n",
              "      <td>20</td>\n",
              "      <td>9</td>\n",
              "      <td>5</td>\n",
              "      <td>t</td>\n",
              "      <td>r</td>\n",
              "      <td>q</td>\n",
              "      <td>f</td>\n",
              "      <td>q</td>\n",
              "      <td>s</td>\n",
              "      <td>d</td>\n",
              "      <td>0</td>\n",
              "      <td>1</td>\n",
              "      <td>0</td>\n",
              "      <td>0</td>\n",
              "      <td>0</td>\n",
              "      <td>0</td>\n",
              "      <td>0</td>\n",
              "      <td>0</td>\n",
              "      <td>0</td>\n",
              "      <td>0</td>\n",
              "      <td>0</td>\n",
              "      <td>v</td>\n",
              "      <td>1</td>\n",
              "      <td>0</td>\n",
              "      <td>0</td>\n",
              "      <td>0</td>\n",
              "      <td>0</td>\n",
              "      <td>0</td>\n",
              "      <td>0</td>\n",
              "      <td>0</td>\n",
              "      <td>0</td>\n",
              "      <td>0</td>\n",
              "      <td>0</td>\n",
              "      <td>0</td>\n",
              "      <td>3</td>\n",
              "    </tr>\n",
              "    <tr>\n",
              "      <th>181884</th>\n",
              "      <td>474832</td>\n",
              "      <td>9</td>\n",
              "      <td>713</td>\n",
              "      <td>9605</td>\n",
              "      <td>2</td>\n",
              "      <td>10</td>\n",
              "      <td>12</td>\n",
              "      <td>6</td>\n",
              "      <td>t</td>\n",
              "      <td>i</td>\n",
              "      <td>n</td>\n",
              "      <td>x</td>\n",
              "      <td>s</td>\n",
              "      <td>s</td>\n",
              "      <td>d</td>\n",
              "      <td>0</td>\n",
              "      <td>0</td>\n",
              "      <td>0</td>\n",
              "      <td>0</td>\n",
              "      <td>0</td>\n",
              "      <td>1</td>\n",
              "      <td>0</td>\n",
              "      <td>0</td>\n",
              "      <td>1</td>\n",
              "      <td>0</td>\n",
              "      <td>0</td>\n",
              "      <td>v</td>\n",
              "      <td>1</td>\n",
              "      <td>0</td>\n",
              "      <td>0</td>\n",
              "      <td>0</td>\n",
              "      <td>0</td>\n",
              "      <td>0</td>\n",
              "      <td>0</td>\n",
              "      <td>0</td>\n",
              "      <td>0</td>\n",
              "      <td>0</td>\n",
              "      <td>0</td>\n",
              "      <td>0</td>\n",
              "      <td>2</td>\n",
              "    </tr>\n",
              "  </tbody>\n",
              "</table>\n",
              "</div>"
            ],
            "text/plain": [
              "        building_id  geo_level_1_id  ...  has_secondary_use_other  damage_grade\n",
              "126581       974528              26  ...                        0             1\n",
              "194212       571964              13  ...                        0             2\n",
              "186117       546540              26  ...                        0             1\n",
              "182899       622822               7  ...                        0             3\n",
              "181884       474832               9  ...                        0             2\n",
              "\n",
              "[5 rows x 40 columns]"
            ]
          },
          "metadata": {
            "tags": []
          },
          "execution_count": 272
        }
      ]
    },
    {
      "cell_type": "code",
      "metadata": {
        "id": "noCU2UyIACCg",
        "colab": {
          "base_uri": "https://localhost:8080/",
          "height": 204
        },
        "outputId": "640b104c-392e-462d-cc16-736f53c121d6"
      },
      "source": [
        "categorias = full.loc[:,['land_surface_condition','foundation_type','roof_type','ground_floor_type','other_floor_type',\\\n",
        "'position','plan_configuration','legal_ownership_status']]\n",
        "categorias.sample(5)"
      ],
      "execution_count": null,
      "outputs": [
        {
          "output_type": "execute_result",
          "data": {
            "text/html": [
              "<div>\n",
              "<style scoped>\n",
              "    .dataframe tbody tr th:only-of-type {\n",
              "        vertical-align: middle;\n",
              "    }\n",
              "\n",
              "    .dataframe tbody tr th {\n",
              "        vertical-align: top;\n",
              "    }\n",
              "\n",
              "    .dataframe thead th {\n",
              "        text-align: right;\n",
              "    }\n",
              "</style>\n",
              "<table border=\"1\" class=\"dataframe\">\n",
              "  <thead>\n",
              "    <tr style=\"text-align: right;\">\n",
              "      <th></th>\n",
              "      <th>land_surface_condition</th>\n",
              "      <th>foundation_type</th>\n",
              "      <th>roof_type</th>\n",
              "      <th>ground_floor_type</th>\n",
              "      <th>other_floor_type</th>\n",
              "      <th>position</th>\n",
              "      <th>plan_configuration</th>\n",
              "      <th>legal_ownership_status</th>\n",
              "    </tr>\n",
              "  </thead>\n",
              "  <tbody>\n",
              "    <tr>\n",
              "      <th>155770</th>\n",
              "      <td>t</td>\n",
              "      <td>u</td>\n",
              "      <td>q</td>\n",
              "      <td>x</td>\n",
              "      <td>s</td>\n",
              "      <td>j</td>\n",
              "      <td>d</td>\n",
              "      <td>v</td>\n",
              "    </tr>\n",
              "    <tr>\n",
              "      <th>36253</th>\n",
              "      <td>t</td>\n",
              "      <td>r</td>\n",
              "      <td>q</td>\n",
              "      <td>f</td>\n",
              "      <td>j</td>\n",
              "      <td>s</td>\n",
              "      <td>d</td>\n",
              "      <td>v</td>\n",
              "    </tr>\n",
              "    <tr>\n",
              "      <th>258901</th>\n",
              "      <td>t</td>\n",
              "      <td>r</td>\n",
              "      <td>n</td>\n",
              "      <td>f</td>\n",
              "      <td>j</td>\n",
              "      <td>s</td>\n",
              "      <td>d</td>\n",
              "      <td>v</td>\n",
              "    </tr>\n",
              "    <tr>\n",
              "      <th>180728</th>\n",
              "      <td>t</td>\n",
              "      <td>r</td>\n",
              "      <td>n</td>\n",
              "      <td>f</td>\n",
              "      <td>q</td>\n",
              "      <td>t</td>\n",
              "      <td>d</td>\n",
              "      <td>v</td>\n",
              "    </tr>\n",
              "    <tr>\n",
              "      <th>254325</th>\n",
              "      <td>t</td>\n",
              "      <td>r</td>\n",
              "      <td>n</td>\n",
              "      <td>f</td>\n",
              "      <td>j</td>\n",
              "      <td>s</td>\n",
              "      <td>d</td>\n",
              "      <td>v</td>\n",
              "    </tr>\n",
              "  </tbody>\n",
              "</table>\n",
              "</div>"
            ],
            "text/plain": [
              "       land_surface_condition  ... legal_ownership_status\n",
              "155770                      t  ...                      v\n",
              "36253                       t  ...                      v\n",
              "258901                      t  ...                      v\n",
              "180728                      t  ...                      v\n",
              "254325                      t  ...                      v\n",
              "\n",
              "[5 rows x 8 columns]"
            ]
          },
          "metadata": {
            "tags": []
          },
          "execution_count": 273
        }
      ]
    },
    {
      "cell_type": "code",
      "metadata": {
        "id": "7F9X3dHJ_nJL",
        "colab": {
          "base_uri": "https://localhost:8080/"
        },
        "outputId": "c248fc42-bc62-432f-95cf-42ee276c9817"
      },
      "source": [
        "categorias.land_surface_condition.value_counts()"
      ],
      "execution_count": null,
      "outputs": [
        {
          "output_type": "execute_result",
          "data": {
            "text/plain": [
              "t    216757\n",
              "n     35528\n",
              "o      8316\n",
              "Name: land_surface_condition, dtype: int64"
            ]
          },
          "metadata": {
            "tags": []
          },
          "execution_count": 274
        }
      ]
    },
    {
      "cell_type": "code",
      "metadata": {
        "id": "AA6kv088DXPQ",
        "colab": {
          "base_uri": "https://localhost:8080/"
        },
        "outputId": "20f0539c-cad6-4d08-ca7b-4075574b5f20"
      },
      "source": [
        "categorias.foundation_type.value_counts()"
      ],
      "execution_count": null,
      "outputs": [
        {
          "output_type": "execute_result",
          "data": {
            "text/plain": [
              "r    219196\n",
              "w     15118\n",
              "u     14260\n",
              "i     10579\n",
              "h      1448\n",
              "Name: foundation_type, dtype: int64"
            ]
          },
          "metadata": {
            "tags": []
          },
          "execution_count": 275
        }
      ]
    },
    {
      "cell_type": "code",
      "metadata": {
        "id": "c7gIqk5GDYA-",
        "colab": {
          "base_uri": "https://localhost:8080/"
        },
        "outputId": "75bcecc7-65b0-42e4-d75a-e4ca8508c871"
      },
      "source": [
        "categorias.roof_type.value_counts()"
      ],
      "execution_count": null,
      "outputs": [
        {
          "output_type": "execute_result",
          "data": {
            "text/plain": [
              "n    182842\n",
              "q     61576\n",
              "x     16183\n",
              "Name: roof_type, dtype: int64"
            ]
          },
          "metadata": {
            "tags": []
          },
          "execution_count": 276
        }
      ]
    },
    {
      "cell_type": "code",
      "metadata": {
        "id": "qhU0MPHGDYkU",
        "colab": {
          "base_uri": "https://localhost:8080/"
        },
        "outputId": "250c95ab-0fb2-41e6-8bf1-aff648fa1e9c"
      },
      "source": [
        "categorias.ground_floor_type.value_counts()"
      ],
      "execution_count": null,
      "outputs": [
        {
          "output_type": "execute_result",
          "data": {
            "text/plain": [
              "f    209619\n",
              "x     24877\n",
              "v     24593\n",
              "z      1004\n",
              "m       508\n",
              "Name: ground_floor_type, dtype: int64"
            ]
          },
          "metadata": {
            "tags": []
          },
          "execution_count": 277
        }
      ]
    },
    {
      "cell_type": "code",
      "metadata": {
        "id": "FySq-tVODhtN",
        "colab": {
          "base_uri": "https://localhost:8080/"
        },
        "outputId": "bd8f033d-781b-49b5-e65c-0dc043518c3d"
      },
      "source": [
        "categorias.other_floor_type.value_counts()"
      ],
      "execution_count": null,
      "outputs": [
        {
          "output_type": "execute_result",
          "data": {
            "text/plain": [
              "q    165282\n",
              "x     43448\n",
              "j     39843\n",
              "s     12028\n",
              "Name: other_floor_type, dtype: int64"
            ]
          },
          "metadata": {
            "tags": []
          },
          "execution_count": 278
        }
      ]
    },
    {
      "cell_type": "code",
      "metadata": {
        "id": "qdptAhmtDgOy",
        "colab": {
          "base_uri": "https://localhost:8080/"
        },
        "outputId": "22b112a2-b3f7-46a3-ef8c-e96aaf4d410c"
      },
      "source": [
        "categorias.position.value_counts()"
      ],
      "execution_count": null,
      "outputs": [
        {
          "output_type": "execute_result",
          "data": {
            "text/plain": [
              "s    202090\n",
              "t     42896\n",
              "j     13282\n",
              "o      2333\n",
              "Name: position, dtype: int64"
            ]
          },
          "metadata": {
            "tags": []
          },
          "execution_count": 279
        }
      ]
    },
    {
      "cell_type": "code",
      "metadata": {
        "id": "g0_tuB_GDhTN",
        "colab": {
          "base_uri": "https://localhost:8080/"
        },
        "outputId": "b0e63a12-310c-4baa-9c1d-ede158900686"
      },
      "source": [
        "categorias.plan_configuration.value_counts()"
      ],
      "execution_count": null,
      "outputs": [
        {
          "output_type": "execute_result",
          "data": {
            "text/plain": [
              "d    250072\n",
              "q      5692\n",
              "u      3649\n",
              "s       346\n",
              "c       325\n",
              "a       252\n",
              "o       159\n",
              "m        46\n",
              "n        38\n",
              "f        22\n",
              "Name: plan_configuration, dtype: int64"
            ]
          },
          "metadata": {
            "tags": []
          },
          "execution_count": 280
        }
      ]
    },
    {
      "cell_type": "code",
      "metadata": {
        "id": "FrPQtSakDhh0",
        "colab": {
          "base_uri": "https://localhost:8080/"
        },
        "outputId": "17ccf94b-6b91-4f83-819f-3442403ca5c3"
      },
      "source": [
        "categorias.legal_ownership_status.value_counts()"
      ],
      "execution_count": null,
      "outputs": [
        {
          "output_type": "execute_result",
          "data": {
            "text/plain": [
              "v    250939\n",
              "a      5512\n",
              "w      2677\n",
              "r      1473\n",
              "Name: legal_ownership_status, dtype: int64"
            ]
          },
          "metadata": {
            "tags": []
          },
          "execution_count": 281
        }
      ]
    },
    {
      "cell_type": "markdown",
      "metadata": {
        "id": "UaYqeKt_815O"
      },
      "source": [
        "## Distribuciones importantes"
      ]
    },
    {
      "cell_type": "markdown",
      "metadata": {
        "id": "EL3wPlxH7Y3q"
      },
      "source": [
        "###Distribucion del grado de daño a edificios"
      ]
    },
    {
      "cell_type": "code",
      "metadata": {
        "colab": {
          "base_uri": "https://localhost:8080/"
        },
        "id": "-vL4LARL8ZvY",
        "outputId": "4263ed21-de2c-4aa7-8790-ee1888d0550b"
      },
      "source": [
        "distribucion_daño = train_labels['damage_grade'].value_counts()\n",
        "distribucion_daño"
      ],
      "execution_count": null,
      "outputs": [
        {
          "output_type": "execute_result",
          "data": {
            "text/plain": [
              "2    148259\n",
              "3     87218\n",
              "1     25124\n",
              "Name: damage_grade, dtype: int64"
            ]
          },
          "metadata": {
            "tags": []
          },
          "execution_count": 282
        }
      ]
    },
    {
      "cell_type": "code",
      "metadata": {
        "colab": {
          "base_uri": "https://localhost:8080/",
          "height": 429
        },
        "id": "dv5PB4P47hzY",
        "outputId": "0e5bcb26-08d4-4c3a-f740-7a7012f73fbb"
      },
      "source": [
        "f = plt.figure()\n",
        "plt.title('Distribución del grado de daño para los edificios', {'fontweight':'bold'})\n",
        "\n",
        "distribucion_daño.plot(kind='pie', ax=f.gca(), ylabel='Grado de daño', colors=['#ff944d','red','#16a1ff'], autopct='%1.0f%%')\n",
        "\n",
        "plt.savefig('damage_pie.pdf', bbox_inches='tight')"
      ],
      "execution_count": null,
      "outputs": [
        {
          "output_type": "display_data",
          "data": {
            "image/png": "[encoded data removed]",
            "text/plain": [
              "<Figure size 640x480 with 1 Axes>"
            ]
          },
          "metadata": {
            "tags": []
          }
        }
      ]
    },
    {
      "cell_type": "markdown",
      "metadata": {
        "id": "1dxHv7Py9W5q"
      },
      "source": [
        "###Distribucion de edad de los edificios"
      ]
    },
    {
      "cell_type": "code",
      "metadata": {
        "colab": {
          "base_uri": "https://localhost:8080/"
        },
        "id": "WVtNP1Lt-W5h",
        "outputId": "51a72ec4-8484-4c3e-8ca3-fcecf80a77cd"
      },
      "source": [
        "antiguedad_filtrada2 = train_values[train_values['age']<150] # Filtramos edificios con edades mayores a 150 años ya que consideramos esos datos como ambigüos para nuestro análisis.\n",
        "antiguedad_filtrada2['age'].value_counts()                   # Especial hincapié en edificios con edad '995 años', el cual corresponde a un dato no certero. "
      ],
      "execution_count": null,
      "outputs": [
        {
          "output_type": "execute_result",
          "data": {
            "text/plain": [
              "10     38896\n",
              "15     36010\n",
              "5      33697\n",
              "20     32182\n",
              "0      26041\n",
              "25     24366\n",
              "30     18028\n",
              "35     10710\n",
              "40     10559\n",
              "50      7257\n",
              "45      4711\n",
              "60      3612\n",
              "80      3055\n",
              "55      2033\n",
              "70      1975\n",
              "100     1364\n",
              "65      1123\n",
              "90      1085\n",
              "85       847\n",
              "75       512\n",
              "95       414\n",
              "120      180\n",
              "110      100\n",
              "105       89\n",
              "125       37\n",
              "115       21\n",
              "140        9\n",
              "130        9\n",
              "135        5\n",
              "145        3\n",
              "Name: age, dtype: int64"
            ]
          },
          "metadata": {
            "tags": []
          },
          "execution_count": 284
        }
      ]
    },
    {
      "cell_type": "code",
      "metadata": {
        "colab": {
          "base_uri": "https://localhost:8080/",
          "height": 481
        },
        "id": "B5snx_AU9lBf",
        "outputId": "9405381c-44ce-46f8-d6f9-908be5532620"
      },
      "source": [
        "f = plt.figure()\n",
        "plt.tight_layout()\n",
        "plt.title(\"Distribución de los edificios por antigüedad\", {'fontweight':'bold'})\n",
        "antiguedad_filtrada2['age'].plot(kind='hist', ax=f.gca())\n",
        "plt.ylabel(\"Cantidad de edificios\")\n",
        "plt.xlabel(\"Antigüedad\")\n",
        "plt.savefig(\"edificios_antiguedad.pdf\")"
      ],
      "execution_count": null,
      "outputs": [
        {
          "output_type": "display_data",
          "data": {
            "image/png": "[encoded data removed]",
            "text/plain": [
              "<Figure size 640x480 with 1 Axes>"
            ]
          },
          "metadata": {
            "tags": []
          }
        }
      ]
    },
    {
      "cell_type": "markdown",
      "metadata": {
        "id": "RI8fZA04KBny"
      },
      "source": [
        "### Distribucion de los materiales y grado de daño recibidos"
      ]
    },
    {
      "cell_type": "markdown",
      "metadata": {
        "id": "2eCsI0CLMLyx"
      },
      "source": [
        "Distribucion total de los materiales"
      ]
    },
    {
      "cell_type": "code",
      "metadata": {
        "id": "hNdsNmJEKRUr"
      },
      "source": [
        "materials = ['has_superstructure_adobe_mud', 'has_superstructure_mud_mortar_stone', 'has_superstructure_stone_flag',\n",
        "                              'has_superstructure_cement_mortar_stone', 'has_superstructure_mud_mortar_brick', 'has_superstructure_cement_mortar_brick',\n",
        "                              'has_superstructure_timber', 'has_superstructure_bamboo', 'has_superstructure_rc_non_engineered', 'has_superstructure_rc_engineered',\n",
        "                              'has_superstructure_other']                             "
      ],
      "execution_count": null,
      "outputs": []
    },
    {
      "cell_type": "code",
      "metadata": {
        "id": "TO1pHe-RKRUr"
      },
      "source": [
        "materials_es = ['Adobe and mud', 'Mud and Stone', 'Stone',\n",
        "                              'Cement and Stone', 'Mud and Brick', 'Cement and Brick',\n",
        "                              'Timber', 'Bamboo', 'RC non enrineered', 'RC engineered',\n",
        "                              'Other']"
      ],
      "execution_count": null,
      "outputs": []
    },
    {
      "cell_type": "code",
      "metadata": {
        "colab": {
          "base_uri": "https://localhost:8080/"
        },
        "id": "mpirhbOMKJVR",
        "outputId": "860de812-8d52-4808-bddb-dc3ca3b82167"
      },
      "source": [
        "distribucion_materiales = full.loc[:,materials].mean()\n",
        "distribucion_materiales.index = materials_es\n",
        "distribucion_materiales"
      ],
      "execution_count": null,
      "outputs": [
        {
          "output_type": "execute_result",
          "data": {
            "text/plain": [
              "Adobe and mud                       0.09\n",
              "Mud and Stone                       0.76\n",
              "Stone                               0.03\n",
              "Cement and Stone                    0.02\n",
              "Mud and Brick                       0.07\n",
              "Cement and Brick                    0.08\n",
              "Timber                              0.25\n",
              "Bamboo                              0.09\n",
              "RC non enrineered                   0.04\n",
              "RC engineered                       0.02\n",
              "Other                               0.01\n",
              "dtype: float64"
            ]
          },
          "metadata": {
            "tags": []
          },
          "execution_count": 288
        }
      ]
    },
    {
      "cell_type": "code",
      "metadata": {
        "colab": {
          "base_uri": "https://localhost:8080/",
          "height": 429
        },
        "id": "WLNjg8UVMXW0",
        "outputId": "bdc962ae-663b-4de8-9545-1a22e1cab52a"
      },
      "source": [
        "f = plt.figure()\n",
        "plt.title('Distribución de los materiales para los edificios', {'fontweight':'bold'})\n",
        "\n",
        "distribucion_materiales.plot(kind='pie', ax=f.gca(), ylabel='Materiales', colors=['#FEF9E7','#FAE5D3','#CD6155','#DC7633','#BA4A00','#873600','#6E2C00','#D5DBDB','#BFC9CA','#5D6D7E','#273746'], autopct='%1.0f%%')\n",
        "\n",
        "plt.savefig('materiales_distribucion.pdf', bbox_inches='tight')"
      ],
      "execution_count": null,
      "outputs": [
        {
          "output_type": "display_data",
          "data": {
            "image/png": "[encoded data removed]",
            "text/plain": [
              "<Figure size 640x480 with 1 Axes>"
            ]
          },
          "metadata": {
            "tags": []
          }
        }
      ]
    },
    {
      "cell_type": "markdown",
      "metadata": {
        "id": "9N-xvHs2KRUk"
      },
      "source": [
        "Para todos los materiales se puede encontrar una tendencia de acuerdo al daño"
      ]
    },
    {
      "cell_type": "code",
      "metadata": {
        "colab": {
          "base_uri": "https://localhost:8080/",
          "height": 439
        },
        "id": "hABQQKBKKRUk",
        "outputId": "95c49ccb-541b-495e-aaf0-15acbc6fbab7"
      },
      "source": [
        "full.loc[full['has_superstructure_adobe_mud'] & (full['damage_grade']==1)]"
      ],
      "execution_count": null,
      "outputs": [
        {
          "output_type": "execute_result",
          "data": {
            "text/html": [
              "<div>\n",
              "<style scoped>\n",
              "    .dataframe tbody tr th:only-of-type {\n",
              "        vertical-align: middle;\n",
              "    }\n",
              "\n",
              "    .dataframe tbody tr th {\n",
              "        vertical-align: top;\n",
              "    }\n",
              "\n",
              "    .dataframe thead th {\n",
              "        text-align: right;\n",
              "    }\n",
              "</style>\n",
              "<table border=\"1\" class=\"dataframe\">\n",
              "  <thead>\n",
              "    <tr style=\"text-align: right;\">\n",
              "      <th></th>\n",
              "      <th>building_id</th>\n",
              "      <th>geo_level_1_id</th>\n",
              "      <th>geo_level_2_id</th>\n",
              "      <th>geo_level_3_id</th>\n",
              "      <th>count_floors_pre_eq</th>\n",
              "      <th>age</th>\n",
              "      <th>area_percentage</th>\n",
              "      <th>height_percentage</th>\n",
              "      <th>land_surface_condition</th>\n",
              "      <th>foundation_type</th>\n",
              "      <th>roof_type</th>\n",
              "      <th>ground_floor_type</th>\n",
              "      <th>other_floor_type</th>\n",
              "      <th>position</th>\n",
              "      <th>plan_configuration</th>\n",
              "      <th>has_superstructure_adobe_mud</th>\n",
              "      <th>has_superstructure_mud_mortar_stone</th>\n",
              "      <th>has_superstructure_stone_flag</th>\n",
              "      <th>has_superstructure_cement_mortar_stone</th>\n",
              "      <th>has_superstructure_mud_mortar_brick</th>\n",
              "      <th>has_superstructure_cement_mortar_brick</th>\n",
              "      <th>has_superstructure_timber</th>\n",
              "      <th>has_superstructure_bamboo</th>\n",
              "      <th>has_superstructure_rc_non_engineered</th>\n",
              "      <th>has_superstructure_rc_engineered</th>\n",
              "      <th>has_superstructure_other</th>\n",
              "      <th>legal_ownership_status</th>\n",
              "      <th>count_families</th>\n",
              "      <th>has_secondary_use</th>\n",
              "      <th>has_secondary_use_agriculture</th>\n",
              "      <th>has_secondary_use_hotel</th>\n",
              "      <th>has_secondary_use_rental</th>\n",
              "      <th>has_secondary_use_institution</th>\n",
              "      <th>has_secondary_use_school</th>\n",
              "      <th>has_secondary_use_industry</th>\n",
              "      <th>has_secondary_use_health_post</th>\n",
              "      <th>has_secondary_use_gov_office</th>\n",
              "      <th>has_secondary_use_use_police</th>\n",
              "      <th>has_secondary_use_other</th>\n",
              "      <th>damage_grade</th>\n",
              "    </tr>\n",
              "  </thead>\n",
              "  <tbody>\n",
              "    <tr>\n",
              "      <th>643</th>\n",
              "      <td>306848</td>\n",
              "      <td>5</td>\n",
              "      <td>1418</td>\n",
              "      <td>11670</td>\n",
              "      <td>1</td>\n",
              "      <td>20</td>\n",
              "      <td>8</td>\n",
              "      <td>3</td>\n",
              "      <td>t</td>\n",
              "      <td>r</td>\n",
              "      <td>n</td>\n",
              "      <td>f</td>\n",
              "      <td>j</td>\n",
              "      <td>s</td>\n",
              "      <td>d</td>\n",
              "      <td>1</td>\n",
              "      <td>0</td>\n",
              "      <td>0</td>\n",
              "      <td>0</td>\n",
              "      <td>0</td>\n",
              "      <td>0</td>\n",
              "      <td>0</td>\n",
              "      <td>0</td>\n",
              "      <td>0</td>\n",
              "      <td>0</td>\n",
              "      <td>0</td>\n",
              "      <td>v</td>\n",
              "      <td>1</td>\n",
              "      <td>0</td>\n",
              "      <td>0</td>\n",
              "      <td>0</td>\n",
              "      <td>0</td>\n",
              "      <td>0</td>\n",
              "      <td>0</td>\n",
              "      <td>0</td>\n",
              "      <td>0</td>\n",
              "      <td>0</td>\n",
              "      <td>0</td>\n",
              "      <td>0</td>\n",
              "      <td>1</td>\n",
              "    </tr>\n",
              "    <tr>\n",
              "      <th>660</th>\n",
              "      <td>1050374</td>\n",
              "      <td>20</td>\n",
              "      <td>173</td>\n",
              "      <td>3258</td>\n",
              "      <td>2</td>\n",
              "      <td>0</td>\n",
              "      <td>7</td>\n",
              "      <td>4</td>\n",
              "      <td>t</td>\n",
              "      <td>w</td>\n",
              "      <td>q</td>\n",
              "      <td>f</td>\n",
              "      <td>x</td>\n",
              "      <td>s</td>\n",
              "      <td>u</td>\n",
              "      <td>1</td>\n",
              "      <td>0</td>\n",
              "      <td>0</td>\n",
              "      <td>0</td>\n",
              "      <td>0</td>\n",
              "      <td>0</td>\n",
              "      <td>1</td>\n",
              "      <td>1</td>\n",
              "      <td>0</td>\n",
              "      <td>0</td>\n",
              "      <td>0</td>\n",
              "      <td>v</td>\n",
              "      <td>1</td>\n",
              "      <td>0</td>\n",
              "      <td>0</td>\n",
              "      <td>0</td>\n",
              "      <td>0</td>\n",
              "      <td>0</td>\n",
              "      <td>0</td>\n",
              "      <td>0</td>\n",
              "      <td>0</td>\n",
              "      <td>0</td>\n",
              "      <td>0</td>\n",
              "      <td>0</td>\n",
              "      <td>1</td>\n",
              "    </tr>\n",
              "    <tr>\n",
              "      <th>1106</th>\n",
              "      <td>453197</td>\n",
              "      <td>13</td>\n",
              "      <td>480</td>\n",
              "      <td>12455</td>\n",
              "      <td>2</td>\n",
              "      <td>10</td>\n",
              "      <td>5</td>\n",
              "      <td>5</td>\n",
              "      <td>t</td>\n",
              "      <td>r</td>\n",
              "      <td>n</td>\n",
              "      <td>f</td>\n",
              "      <td>q</td>\n",
              "      <td>s</td>\n",
              "      <td>d</td>\n",
              "      <td>1</td>\n",
              "      <td>0</td>\n",
              "      <td>0</td>\n",
              "      <td>0</td>\n",
              "      <td>0</td>\n",
              "      <td>0</td>\n",
              "      <td>0</td>\n",
              "      <td>0</td>\n",
              "      <td>0</td>\n",
              "      <td>0</td>\n",
              "      <td>0</td>\n",
              "      <td>v</td>\n",
              "      <td>1</td>\n",
              "      <td>0</td>\n",
              "      <td>0</td>\n",
              "      <td>0</td>\n",
              "      <td>0</td>\n",
              "      <td>0</td>\n",
              "      <td>0</td>\n",
              "      <td>0</td>\n",
              "      <td>0</td>\n",
              "      <td>0</td>\n",
              "      <td>0</td>\n",
              "      <td>0</td>\n",
              "      <td>1</td>\n",
              "    </tr>\n",
              "    <tr>\n",
              "      <th>1299</th>\n",
              "      <td>87974</td>\n",
              "      <td>13</td>\n",
              "      <td>480</td>\n",
              "      <td>1917</td>\n",
              "      <td>2</td>\n",
              "      <td>30</td>\n",
              "      <td>13</td>\n",
              "      <td>5</td>\n",
              "      <td>t</td>\n",
              "      <td>r</td>\n",
              "      <td>n</td>\n",
              "      <td>f</td>\n",
              "      <td>q</td>\n",
              "      <td>s</td>\n",
              "      <td>d</td>\n",
              "      <td>1</td>\n",
              "      <td>0</td>\n",
              "      <td>0</td>\n",
              "      <td>0</td>\n",
              "      <td>0</td>\n",
              "      <td>0</td>\n",
              "      <td>0</td>\n",
              "      <td>0</td>\n",
              "      <td>0</td>\n",
              "      <td>0</td>\n",
              "      <td>0</td>\n",
              "      <td>v</td>\n",
              "      <td>1</td>\n",
              "      <td>0</td>\n",
              "      <td>0</td>\n",
              "      <td>0</td>\n",
              "      <td>0</td>\n",
              "      <td>0</td>\n",
              "      <td>0</td>\n",
              "      <td>0</td>\n",
              "      <td>0</td>\n",
              "      <td>0</td>\n",
              "      <td>0</td>\n",
              "      <td>0</td>\n",
              "      <td>1</td>\n",
              "    </tr>\n",
              "    <tr>\n",
              "      <th>1442</th>\n",
              "      <td>180268</td>\n",
              "      <td>15</td>\n",
              "      <td>668</td>\n",
              "      <td>3329</td>\n",
              "      <td>1</td>\n",
              "      <td>10</td>\n",
              "      <td>5</td>\n",
              "      <td>3</td>\n",
              "      <td>n</td>\n",
              "      <td>r</td>\n",
              "      <td>n</td>\n",
              "      <td>f</td>\n",
              "      <td>j</td>\n",
              "      <td>s</td>\n",
              "      <td>d</td>\n",
              "      <td>1</td>\n",
              "      <td>1</td>\n",
              "      <td>0</td>\n",
              "      <td>0</td>\n",
              "      <td>0</td>\n",
              "      <td>0</td>\n",
              "      <td>0</td>\n",
              "      <td>0</td>\n",
              "      <td>0</td>\n",
              "      <td>0</td>\n",
              "      <td>0</td>\n",
              "      <td>v</td>\n",
              "      <td>1</td>\n",
              "      <td>0</td>\n",
              "      <td>0</td>\n",
              "      <td>0</td>\n",
              "      <td>0</td>\n",
              "      <td>0</td>\n",
              "      <td>0</td>\n",
              "      <td>0</td>\n",
              "      <td>0</td>\n",
              "      <td>0</td>\n",
              "      <td>0</td>\n",
              "      <td>0</td>\n",
              "      <td>1</td>\n",
              "    </tr>\n",
              "    <tr>\n",
              "      <th>...</th>\n",
              "      <td>...</td>\n",
              "      <td>...</td>\n",
              "      <td>...</td>\n",
              "      <td>...</td>\n",
              "      <td>...</td>\n",
              "      <td>...</td>\n",
              "      <td>...</td>\n",
              "      <td>...</td>\n",
              "      <td>...</td>\n",
              "      <td>...</td>\n",
              "      <td>...</td>\n",
              "      <td>...</td>\n",
              "      <td>...</td>\n",
              "      <td>...</td>\n",
              "      <td>...</td>\n",
              "      <td>...</td>\n",
              "      <td>...</td>\n",
              "      <td>...</td>\n",
              "      <td>...</td>\n",
              "      <td>...</td>\n",
              "      <td>...</td>\n",
              "      <td>...</td>\n",
              "      <td>...</td>\n",
              "      <td>...</td>\n",
              "      <td>...</td>\n",
              "      <td>...</td>\n",
              "      <td>...</td>\n",
              "      <td>...</td>\n",
              "      <td>...</td>\n",
              "      <td>...</td>\n",
              "      <td>...</td>\n",
              "      <td>...</td>\n",
              "      <td>...</td>\n",
              "      <td>...</td>\n",
              "      <td>...</td>\n",
              "      <td>...</td>\n",
              "      <td>...</td>\n",
              "      <td>...</td>\n",
              "      <td>...</td>\n",
              "      <td>...</td>\n",
              "    </tr>\n",
              "    <tr>\n",
              "      <th>258083</th>\n",
              "      <td>49776</td>\n",
              "      <td>13</td>\n",
              "      <td>480</td>\n",
              "      <td>7457</td>\n",
              "      <td>2</td>\n",
              "      <td>20</td>\n",
              "      <td>7</td>\n",
              "      <td>5</td>\n",
              "      <td>t</td>\n",
              "      <td>r</td>\n",
              "      <td>n</td>\n",
              "      <td>f</td>\n",
              "      <td>q</td>\n",
              "      <td>s</td>\n",
              "      <td>d</td>\n",
              "      <td>1</td>\n",
              "      <td>0</td>\n",
              "      <td>0</td>\n",
              "      <td>0</td>\n",
              "      <td>0</td>\n",
              "      <td>0</td>\n",
              "      <td>0</td>\n",
              "      <td>0</td>\n",
              "      <td>0</td>\n",
              "      <td>0</td>\n",
              "      <td>0</td>\n",
              "      <td>v</td>\n",
              "      <td>1</td>\n",
              "      <td>0</td>\n",
              "      <td>0</td>\n",
              "      <td>0</td>\n",
              "      <td>0</td>\n",
              "      <td>0</td>\n",
              "      <td>0</td>\n",
              "      <td>0</td>\n",
              "      <td>0</td>\n",
              "      <td>0</td>\n",
              "      <td>0</td>\n",
              "      <td>0</td>\n",
              "      <td>1</td>\n",
              "    </tr>\n",
              "    <tr>\n",
              "      <th>258370</th>\n",
              "      <td>541206</td>\n",
              "      <td>20</td>\n",
              "      <td>173</td>\n",
              "      <td>1199</td>\n",
              "      <td>1</td>\n",
              "      <td>0</td>\n",
              "      <td>4</td>\n",
              "      <td>3</td>\n",
              "      <td>t</td>\n",
              "      <td>w</td>\n",
              "      <td>q</td>\n",
              "      <td>f</td>\n",
              "      <td>j</td>\n",
              "      <td>s</td>\n",
              "      <td>d</td>\n",
              "      <td>1</td>\n",
              "      <td>0</td>\n",
              "      <td>0</td>\n",
              "      <td>0</td>\n",
              "      <td>0</td>\n",
              "      <td>0</td>\n",
              "      <td>1</td>\n",
              "      <td>1</td>\n",
              "      <td>0</td>\n",
              "      <td>0</td>\n",
              "      <td>0</td>\n",
              "      <td>v</td>\n",
              "      <td>0</td>\n",
              "      <td>0</td>\n",
              "      <td>0</td>\n",
              "      <td>0</td>\n",
              "      <td>0</td>\n",
              "      <td>0</td>\n",
              "      <td>0</td>\n",
              "      <td>0</td>\n",
              "      <td>0</td>\n",
              "      <td>0</td>\n",
              "      <td>0</td>\n",
              "      <td>0</td>\n",
              "      <td>1</td>\n",
              "    </tr>\n",
              "    <tr>\n",
              "      <th>258681</th>\n",
              "      <td>773391</td>\n",
              "      <td>10</td>\n",
              "      <td>310</td>\n",
              "      <td>6799</td>\n",
              "      <td>2</td>\n",
              "      <td>5</td>\n",
              "      <td>4</td>\n",
              "      <td>4</td>\n",
              "      <td>t</td>\n",
              "      <td>r</td>\n",
              "      <td>n</td>\n",
              "      <td>f</td>\n",
              "      <td>q</td>\n",
              "      <td>t</td>\n",
              "      <td>d</td>\n",
              "      <td>1</td>\n",
              "      <td>0</td>\n",
              "      <td>0</td>\n",
              "      <td>0</td>\n",
              "      <td>0</td>\n",
              "      <td>0</td>\n",
              "      <td>1</td>\n",
              "      <td>1</td>\n",
              "      <td>0</td>\n",
              "      <td>0</td>\n",
              "      <td>0</td>\n",
              "      <td>v</td>\n",
              "      <td>1</td>\n",
              "      <td>0</td>\n",
              "      <td>0</td>\n",
              "      <td>0</td>\n",
              "      <td>0</td>\n",
              "      <td>0</td>\n",
              "      <td>0</td>\n",
              "      <td>0</td>\n",
              "      <td>0</td>\n",
              "      <td>0</td>\n",
              "      <td>0</td>\n",
              "      <td>0</td>\n",
              "      <td>1</td>\n",
              "    </tr>\n",
              "    <tr>\n",
              "      <th>259994</th>\n",
              "      <td>711529</td>\n",
              "      <td>24</td>\n",
              "      <td>628</td>\n",
              "      <td>10591</td>\n",
              "      <td>2</td>\n",
              "      <td>10</td>\n",
              "      <td>11</td>\n",
              "      <td>5</td>\n",
              "      <td>o</td>\n",
              "      <td>r</td>\n",
              "      <td>n</td>\n",
              "      <td>f</td>\n",
              "      <td>q</td>\n",
              "      <td>s</td>\n",
              "      <td>d</td>\n",
              "      <td>1</td>\n",
              "      <td>0</td>\n",
              "      <td>0</td>\n",
              "      <td>0</td>\n",
              "      <td>0</td>\n",
              "      <td>0</td>\n",
              "      <td>0</td>\n",
              "      <td>0</td>\n",
              "      <td>0</td>\n",
              "      <td>0</td>\n",
              "      <td>0</td>\n",
              "      <td>v</td>\n",
              "      <td>1</td>\n",
              "      <td>0</td>\n",
              "      <td>0</td>\n",
              "      <td>0</td>\n",
              "      <td>0</td>\n",
              "      <td>0</td>\n",
              "      <td>0</td>\n",
              "      <td>0</td>\n",
              "      <td>0</td>\n",
              "      <td>0</td>\n",
              "      <td>0</td>\n",
              "      <td>0</td>\n",
              "      <td>1</td>\n",
              "    </tr>\n",
              "    <tr>\n",
              "      <th>260105</th>\n",
              "      <td>811094</td>\n",
              "      <td>1</td>\n",
              "      <td>1169</td>\n",
              "      <td>12544</td>\n",
              "      <td>2</td>\n",
              "      <td>35</td>\n",
              "      <td>8</td>\n",
              "      <td>5</td>\n",
              "      <td>t</td>\n",
              "      <td>u</td>\n",
              "      <td>n</td>\n",
              "      <td>f</td>\n",
              "      <td>q</td>\n",
              "      <td>s</td>\n",
              "      <td>d</td>\n",
              "      <td>1</td>\n",
              "      <td>1</td>\n",
              "      <td>0</td>\n",
              "      <td>0</td>\n",
              "      <td>1</td>\n",
              "      <td>0</td>\n",
              "      <td>1</td>\n",
              "      <td>1</td>\n",
              "      <td>0</td>\n",
              "      <td>0</td>\n",
              "      <td>0</td>\n",
              "      <td>v</td>\n",
              "      <td>1</td>\n",
              "      <td>0</td>\n",
              "      <td>0</td>\n",
              "      <td>0</td>\n",
              "      <td>0</td>\n",
              "      <td>0</td>\n",
              "      <td>0</td>\n",
              "      <td>0</td>\n",
              "      <td>0</td>\n",
              "      <td>0</td>\n",
              "      <td>0</td>\n",
              "      <td>0</td>\n",
              "      <td>1</td>\n",
              "    </tr>\n",
              "  </tbody>\n",
              "</table>\n",
              "<p>594 rows × 40 columns</p>\n",
              "</div>"
            ],
            "text/plain": [
              "        building_id  geo_level_1_id  ...  has_secondary_use_other  damage_grade\n",
              "643          306848               5  ...                        0             1\n",
              "660         1050374              20  ...                        0             1\n",
              "1106         453197              13  ...                        0             1\n",
              "1299          87974              13  ...                        0             1\n",
              "1442         180268              15  ...                        0             1\n",
              "...             ...             ...  ...                      ...           ...\n",
              "258083        49776              13  ...                        0             1\n",
              "258370       541206              20  ...                        0             1\n",
              "258681       773391              10  ...                        0             1\n",
              "259994       711529              24  ...                        0             1\n",
              "260105       811094               1  ...                        0             1\n",
              "\n",
              "[594 rows x 40 columns]"
            ]
          },
          "metadata": {
            "tags": []
          },
          "execution_count": 290
        }
      ]
    },
    {
      "cell_type": "code",
      "metadata": {
        "colab": {
          "base_uri": "https://localhost:8080/"
        },
        "id": "Hx8PBiCTKRUl",
        "outputId": "cba7b574-d3ba-4036-b327-4658eec0f95f"
      },
      "source": [
        "(full['damage_grade']==1).value_counts()"
      ],
      "execution_count": null,
      "outputs": [
        {
          "output_type": "execute_result",
          "data": {
            "text/plain": [
              "False    235477\n",
              "True      25124\n",
              "Name: damage_grade, dtype: int64"
            ]
          },
          "metadata": {
            "tags": []
          },
          "execution_count": 291
        }
      ]
    },
    {
      "cell_type": "code",
      "metadata": {
        "id": "CY5xiYKQKRUl"
      },
      "source": [
        "materials_per_damage = full.groupby('damage_grade')[['has_superstructure_adobe_mud', 'has_superstructure_mud_mortar_stone', 'has_superstructure_stone_flag',\n",
        "                              'has_superstructure_cement_mortar_stone', 'has_superstructure_mud_mortar_brick', 'has_superstructure_cement_mortar_brick',\n",
        "                              'has_superstructure_timber', 'has_superstructure_bamboo', 'has_superstructure_rc_non_engineered', 'has_superstructure_rc_engineered',\n",
        "                              'has_superstructure_other']].mean()"
      ],
      "execution_count": null,
      "outputs": []
    },
    {
      "cell_type": "code",
      "metadata": {
        "colab": {
          "base_uri": "https://localhost:8080/",
          "height": 193
        },
        "id": "tys6cHHHKRUq",
        "outputId": "1169a9b4-1ec5-4a0d-840a-0904cb8e7ad4"
      },
      "source": [
        "materials_per_damage"
      ],
      "execution_count": null,
      "outputs": [
        {
          "output_type": "execute_result",
          "data": {
            "text/html": [
              "<div>\n",
              "<style scoped>\n",
              "    .dataframe tbody tr th:only-of-type {\n",
              "        vertical-align: middle;\n",
              "    }\n",
              "\n",
              "    .dataframe tbody tr th {\n",
              "        vertical-align: top;\n",
              "    }\n",
              "\n",
              "    .dataframe thead th {\n",
              "        text-align: right;\n",
              "    }\n",
              "</style>\n",
              "<table border=\"1\" class=\"dataframe\">\n",
              "  <thead>\n",
              "    <tr style=\"text-align: right;\">\n",
              "      <th></th>\n",
              "      <th>has_superstructure_adobe_mud</th>\n",
              "      <th>has_superstructure_mud_mortar_stone</th>\n",
              "      <th>has_superstructure_stone_flag</th>\n",
              "      <th>has_superstructure_cement_mortar_stone</th>\n",
              "      <th>has_superstructure_mud_mortar_brick</th>\n",
              "      <th>has_superstructure_cement_mortar_brick</th>\n",
              "      <th>has_superstructure_timber</th>\n",
              "      <th>has_superstructure_bamboo</th>\n",
              "      <th>has_superstructure_rc_non_engineered</th>\n",
              "      <th>has_superstructure_rc_engineered</th>\n",
              "      <th>has_superstructure_other</th>\n",
              "    </tr>\n",
              "    <tr>\n",
              "      <th>damage_grade</th>\n",
              "      <th></th>\n",
              "      <th></th>\n",
              "      <th></th>\n",
              "      <th></th>\n",
              "      <th></th>\n",
              "      <th></th>\n",
              "      <th></th>\n",
              "      <th></th>\n",
              "      <th></th>\n",
              "      <th></th>\n",
              "      <th></th>\n",
              "    </tr>\n",
              "  </thead>\n",
              "  <tbody>\n",
              "    <tr>\n",
              "      <th>1</th>\n",
              "      <td>0.02</td>\n",
              "      <td>0.35</td>\n",
              "      <td>0.01</td>\n",
              "      <td>0.03</td>\n",
              "      <td>0.02</td>\n",
              "      <td>0.28</td>\n",
              "      <td>0.30</td>\n",
              "      <td>0.11</td>\n",
              "      <td>0.15</td>\n",
              "      <td>0.11</td>\n",
              "      <td>0.03</td>\n",
              "    </tr>\n",
              "    <tr>\n",
              "      <th>2</th>\n",
              "      <td>0.09</td>\n",
              "      <td>0.77</td>\n",
              "      <td>0.03</td>\n",
              "      <td>0.02</td>\n",
              "      <td>0.08</td>\n",
              "      <td>0.08</td>\n",
              "      <td>0.27</td>\n",
              "      <td>0.09</td>\n",
              "      <td>0.04</td>\n",
              "      <td>0.01</td>\n",
              "      <td>0.02</td>\n",
              "    </tr>\n",
              "    <tr>\n",
              "      <th>3</th>\n",
              "      <td>0.10</td>\n",
              "      <td>0.87</td>\n",
              "      <td>0.05</td>\n",
              "      <td>0.01</td>\n",
              "      <td>0.06</td>\n",
              "      <td>0.01</td>\n",
              "      <td>0.21</td>\n",
              "      <td>0.06</td>\n",
              "      <td>0.02</td>\n",
              "      <td>0.00</td>\n",
              "      <td>0.01</td>\n",
              "    </tr>\n",
              "  </tbody>\n",
              "</table>\n",
              "</div>"
            ],
            "text/plain": [
              "              has_superstructure_adobe_mud  ...  has_superstructure_other\n",
              "damage_grade                                ...                          \n",
              "1                                     0.02  ...                      0.03\n",
              "2                                     0.09  ...                      0.02\n",
              "3                                     0.10  ...                      0.01\n",
              "\n",
              "[3 rows x 11 columns]"
            ]
          },
          "metadata": {
            "tags": []
          },
          "execution_count": 293
        }
      ]
    },
    {
      "cell_type": "code",
      "metadata": {
        "colab": {
          "base_uri": "https://localhost:8080/",
          "height": 173
        },
        "id": "w_ktRYfZKRUr",
        "outputId": "c79597ef-5d2f-4f7b-fa2f-68cca6038239"
      },
      "source": [
        "materials_df = pd.DataFrame(index = materials_per_damage.index)\n",
        "\n",
        "for i, material in enumerate(materials):\n",
        "  material_distribution = full.loc[full[material]==1].groupby([material, 'damage_grade'])[['damage_grade']].count()['damage_grade']\n",
        "  material_distribution = material_distribution / material_distribution.sum() *100\n",
        "  materials_df[materials_es[i]] = material_distribution.values\n",
        "\n",
        "materials_df"
      ],
      "execution_count": null,
      "outputs": [
        {
          "output_type": "execute_result",
          "data": {
            "text/html": [
              "<div>\n",
              "<style scoped>\n",
              "    .dataframe tbody tr th:only-of-type {\n",
              "        vertical-align: middle;\n",
              "    }\n",
              "\n",
              "    .dataframe tbody tr th {\n",
              "        vertical-align: top;\n",
              "    }\n",
              "\n",
              "    .dataframe thead th {\n",
              "        text-align: right;\n",
              "    }\n",
              "</style>\n",
              "<table border=\"1\" class=\"dataframe\">\n",
              "  <thead>\n",
              "    <tr style=\"text-align: right;\">\n",
              "      <th></th>\n",
              "      <th>Adobe and mud</th>\n",
              "      <th>Mud and Stone</th>\n",
              "      <th>Stone</th>\n",
              "      <th>Cement and Stone</th>\n",
              "      <th>Mud and Brick</th>\n",
              "      <th>Cement and Brick</th>\n",
              "      <th>Timber</th>\n",
              "      <th>Bamboo</th>\n",
              "      <th>RC non enrineered</th>\n",
              "      <th>RC engineered</th>\n",
              "      <th>Other</th>\n",
              "    </tr>\n",
              "    <tr>\n",
              "      <th>damage_grade</th>\n",
              "      <th></th>\n",
              "      <th></th>\n",
              "      <th></th>\n",
              "      <th></th>\n",
              "      <th></th>\n",
              "      <th></th>\n",
              "      <th></th>\n",
              "      <th></th>\n",
              "      <th></th>\n",
              "      <th></th>\n",
              "      <th></th>\n",
              "    </tr>\n",
              "  </thead>\n",
              "  <tbody>\n",
              "    <tr>\n",
              "      <th>1</th>\n",
              "      <td>2.57</td>\n",
              "      <td>4.41</td>\n",
              "      <td>2.03</td>\n",
              "      <td>17.45</td>\n",
              "      <td>3.51</td>\n",
              "      <td>36.22</td>\n",
              "      <td>11.50</td>\n",
              "      <td>12.81</td>\n",
              "      <td>34.75</td>\n",
              "      <td>64.26</td>\n",
              "      <td>16.80</td>\n",
              "    </tr>\n",
              "    <tr>\n",
              "      <th>2</th>\n",
              "      <td>60.18</td>\n",
              "      <td>57.39</td>\n",
              "      <td>50.68</td>\n",
              "      <td>68.35</td>\n",
              "      <td>65.86</td>\n",
              "      <td>58.23</td>\n",
              "      <td>60.48</td>\n",
              "      <td>63.20</td>\n",
              "      <td>52.55</td>\n",
              "      <td>33.92</td>\n",
              "      <td>57.57</td>\n",
              "    </tr>\n",
              "    <tr>\n",
              "      <th>3</th>\n",
              "      <td>37.25</td>\n",
              "      <td>38.20</td>\n",
              "      <td>47.29</td>\n",
              "      <td>14.20</td>\n",
              "      <td>30.63</td>\n",
              "      <td>5.55</td>\n",
              "      <td>28.02</td>\n",
              "      <td>23.99</td>\n",
              "      <td>12.70</td>\n",
              "      <td>1.81</td>\n",
              "      <td>25.63</td>\n",
              "    </tr>\n",
              "  </tbody>\n",
              "</table>\n",
              "</div>"
            ],
            "text/plain": [
              "                    Adobe and mud  ...                Other\n",
              "damage_grade                       ...                     \n",
              "1                            2.57  ...                16.80\n",
              "2                           60.18  ...                57.57\n",
              "3                           37.25  ...                25.63\n",
              "\n",
              "[3 rows x 11 columns]"
            ]
          },
          "metadata": {
            "tags": []
          },
          "execution_count": 294
        }
      ]
    },
    {
      "cell_type": "code",
      "metadata": {
        "colab": {
          "base_uri": "https://localhost:8080/",
          "height": 609
        },
        "id": "xM9tlmtfKRUr",
        "outputId": "0f3f3c73-2c53-41a3-af1f-8ba1e7b1ed9a"
      },
      "source": [
        "f = plt.figure()\n",
        "plt.title('Distribución de daño para cada tipo de superestructura' , {'fontweight':'bold'})\n",
        "\n",
        "materials_df.transpose().sort_values(by=[3]).plot(kind='bar', ax=f.gca(), xlabel='Tipo de superestructura', ylabel='Porcentaje de edificios dañados', color=['#16a1ff', 'orange', 'red'], stacked=True)\n",
        "plt.legend(loc='center left', bbox_to_anchor=(1.0, 0.5))\n",
        "#plt.show()\n",
        "plt.savefig('materials.pdf', bbox_inches='tight')\n"
      ],
      "execution_count": null,
      "outputs": [
        {
          "output_type": "display_data",
          "data": {
            "image/png": "[encoded data removed]",
            "text/plain": [
              "<Figure size 640x480 with 1 Axes>"
            ]
          },
          "metadata": {
            "tags": []
          }
        }
      ]
    },
    {
      "cell_type": "code",
      "metadata": {
        "colab": {
          "base_uri": "https://localhost:8080/"
        },
        "id": "Fe9TdOgLKRUr",
        "outputId": "d9af5f6f-7efd-4408-d251-df2a964478d5"
      },
      "source": [
        "adobe_mud = full.loc[full['has_superstructure_adobe_mud']==1].groupby(['has_superstructure_adobe_mud', 'damage_grade'])[['damage_grade']].count()['damage_grade']\n",
        "adobe_mud = adobe_mud / adobe_mud.sum()\n",
        "adobe_mud.values"
      ],
      "execution_count": null,
      "outputs": [
        {
          "output_type": "execute_result",
          "data": {
            "text/plain": [
              "array([0.02571317, 0.60179213, 0.3724947 ])"
            ]
          },
          "metadata": {
            "tags": []
          },
          "execution_count": 296
        }
      ]
    },
    {
      "cell_type": "markdown",
      "metadata": {
        "id": "cPyWQLTuQbX0"
      },
      "source": [
        "###Distribucion de daño para zonas geograficas"
      ]
    },
    {
      "cell_type": "code",
      "metadata": {
        "id": "ehykYp0cZpN3",
        "colab": {
          "base_uri": "https://localhost:8080/"
        },
        "outputId": "7c92650f-4478-4f36-f631-24c169d9068d"
      },
      "source": [
        "train_values['geo_level_1_id'].value_counts()"
      ],
      "execution_count": null,
      "outputs": [
        {
          "output_type": "execute_result",
          "data": {
            "text/plain": [
              "6     24381\n",
              "26    22615\n",
              "10    22079\n",
              "17    21813\n",
              "8     19080\n",
              "7     18994\n",
              "20    17216\n",
              "21    14889\n",
              "4     14568\n",
              "27    12532\n",
              "13     9608\n",
              "11     8220\n",
              "3      7540\n",
              "22     6252\n",
              "25     5624\n",
              "16     4332\n",
              "0      4011\n",
              "9      3958\n",
              "12     3194\n",
              "18     3189\n",
              "1      2701\n",
              "5      2690\n",
              "30     2686\n",
              "15     2320\n",
              "14     1714\n",
              "24     1310\n",
              "23     1121\n",
              "2       931\n",
              "29      396\n",
              "19      372\n",
              "28      265\n",
              "Name: geo_level_1_id, dtype: int64"
            ]
          },
          "metadata": {
            "tags": []
          },
          "execution_count": 297
        }
      ]
    },
    {
      "cell_type": "code",
      "metadata": {
        "id": "BWw5taqrbEFT",
        "colab": {
          "base_uri": "https://localhost:8080/",
          "height": 419
        },
        "outputId": "fe322edb-e561-4a62-e7e6-1bc3f7874b31"
      },
      "source": [
        "full[['geo_level_1_id', 'damage_grade']]"
      ],
      "execution_count": null,
      "outputs": [
        {
          "output_type": "execute_result",
          "data": {
            "text/html": [
              "<div>\n",
              "<style scoped>\n",
              "    .dataframe tbody tr th:only-of-type {\n",
              "        vertical-align: middle;\n",
              "    }\n",
              "\n",
              "    .dataframe tbody tr th {\n",
              "        vertical-align: top;\n",
              "    }\n",
              "\n",
              "    .dataframe thead th {\n",
              "        text-align: right;\n",
              "    }\n",
              "</style>\n",
              "<table border=\"1\" class=\"dataframe\">\n",
              "  <thead>\n",
              "    <tr style=\"text-align: right;\">\n",
              "      <th></th>\n",
              "      <th>geo_level_1_id</th>\n",
              "      <th>damage_grade</th>\n",
              "    </tr>\n",
              "  </thead>\n",
              "  <tbody>\n",
              "    <tr>\n",
              "      <th>0</th>\n",
              "      <td>6</td>\n",
              "      <td>3</td>\n",
              "    </tr>\n",
              "    <tr>\n",
              "      <th>1</th>\n",
              "      <td>8</td>\n",
              "      <td>2</td>\n",
              "    </tr>\n",
              "    <tr>\n",
              "      <th>2</th>\n",
              "      <td>21</td>\n",
              "      <td>3</td>\n",
              "    </tr>\n",
              "    <tr>\n",
              "      <th>3</th>\n",
              "      <td>22</td>\n",
              "      <td>2</td>\n",
              "    </tr>\n",
              "    <tr>\n",
              "      <th>4</th>\n",
              "      <td>11</td>\n",
              "      <td>3</td>\n",
              "    </tr>\n",
              "    <tr>\n",
              "      <th>...</th>\n",
              "      <td>...</td>\n",
              "      <td>...</td>\n",
              "    </tr>\n",
              "    <tr>\n",
              "      <th>260596</th>\n",
              "      <td>25</td>\n",
              "      <td>2</td>\n",
              "    </tr>\n",
              "    <tr>\n",
              "      <th>260597</th>\n",
              "      <td>17</td>\n",
              "      <td>3</td>\n",
              "    </tr>\n",
              "    <tr>\n",
              "      <th>260598</th>\n",
              "      <td>17</td>\n",
              "      <td>3</td>\n",
              "    </tr>\n",
              "    <tr>\n",
              "      <th>260599</th>\n",
              "      <td>26</td>\n",
              "      <td>2</td>\n",
              "    </tr>\n",
              "    <tr>\n",
              "      <th>260600</th>\n",
              "      <td>21</td>\n",
              "      <td>3</td>\n",
              "    </tr>\n",
              "  </tbody>\n",
              "</table>\n",
              "<p>260601 rows × 2 columns</p>\n",
              "</div>"
            ],
            "text/plain": [
              "        geo_level_1_id  damage_grade\n",
              "0                    6             3\n",
              "1                    8             2\n",
              "2                   21             3\n",
              "3                   22             2\n",
              "4                   11             3\n",
              "...                ...           ...\n",
              "260596              25             2\n",
              "260597              17             3\n",
              "260598              17             3\n",
              "260599              26             2\n",
              "260600              21             3\n",
              "\n",
              "[260601 rows x 2 columns]"
            ]
          },
          "metadata": {
            "tags": []
          },
          "execution_count": 298
        }
      ]
    },
    {
      "cell_type": "markdown",
      "metadata": {
        "id": "S5t6nNUoC6nK"
      },
      "source": [
        "NECESITAMOS OBTENER EL PROMEDIO PARA CADA CELDA. SERIA EL VALOR ACTUAL DIVIDIDO POR LA SUMATORIA DE LOS VALORES EN ESA FILA"
      ]
    },
    {
      "cell_type": "code",
      "metadata": {
        "id": "eg4jFrMPYmSn"
      },
      "source": [
        "damage_per_zone = full[['geo_level_1_id', 'damage_grade', 'building_id']].pivot_table(index='damage_grade', columns='geo_level_1_id', aggfunc='count')"
      ],
      "execution_count": null,
      "outputs": []
    },
    {
      "cell_type": "code",
      "metadata": {
        "id": "wV2BD_mZEhd0"
      },
      "source": [
        "damage_per_zone.columns = damage_per_zone.columns.get_level_values(1)"
      ],
      "execution_count": null,
      "outputs": []
    },
    {
      "cell_type": "code",
      "metadata": {
        "id": "Qh1c0uuuL0rw",
        "colab": {
          "base_uri": "https://localhost:8080/",
          "height": 193
        },
        "outputId": "9f59e218-41d1-4a1b-b27c-42a2f2dc8eec"
      },
      "source": [
        "damage_per_zone"
      ],
      "execution_count": null,
      "outputs": [
        {
          "output_type": "execute_result",
          "data": {
            "text/html": [
              "<div>\n",
              "<style scoped>\n",
              "    .dataframe tbody tr th:only-of-type {\n",
              "        vertical-align: middle;\n",
              "    }\n",
              "\n",
              "    .dataframe tbody tr th {\n",
              "        vertical-align: top;\n",
              "    }\n",
              "\n",
              "    .dataframe thead th {\n",
              "        text-align: right;\n",
              "    }\n",
              "</style>\n",
              "<table border=\"1\" class=\"dataframe\">\n",
              "  <thead>\n",
              "    <tr style=\"text-align: right;\">\n",
              "      <th>geo_level_1_id</th>\n",
              "      <th>0</th>\n",
              "      <th>1</th>\n",
              "      <th>2</th>\n",
              "      <th>3</th>\n",
              "      <th>4</th>\n",
              "      <th>5</th>\n",
              "      <th>6</th>\n",
              "      <th>7</th>\n",
              "      <th>8</th>\n",
              "      <th>9</th>\n",
              "      <th>10</th>\n",
              "      <th>11</th>\n",
              "      <th>12</th>\n",
              "      <th>13</th>\n",
              "      <th>14</th>\n",
              "      <th>15</th>\n",
              "      <th>16</th>\n",
              "      <th>17</th>\n",
              "      <th>18</th>\n",
              "      <th>19</th>\n",
              "      <th>20</th>\n",
              "      <th>21</th>\n",
              "      <th>22</th>\n",
              "      <th>23</th>\n",
              "      <th>24</th>\n",
              "      <th>25</th>\n",
              "      <th>26</th>\n",
              "      <th>27</th>\n",
              "      <th>28</th>\n",
              "      <th>29</th>\n",
              "      <th>30</th>\n",
              "    </tr>\n",
              "    <tr>\n",
              "      <th>damage_grade</th>\n",
              "      <th></th>\n",
              "      <th></th>\n",
              "      <th></th>\n",
              "      <th></th>\n",
              "      <th></th>\n",
              "      <th></th>\n",
              "      <th></th>\n",
              "      <th></th>\n",
              "      <th></th>\n",
              "      <th></th>\n",
              "      <th></th>\n",
              "      <th></th>\n",
              "      <th></th>\n",
              "      <th></th>\n",
              "      <th></th>\n",
              "      <th></th>\n",
              "      <th></th>\n",
              "      <th></th>\n",
              "      <th></th>\n",
              "      <th></th>\n",
              "      <th></th>\n",
              "      <th></th>\n",
              "      <th></th>\n",
              "      <th></th>\n",
              "      <th></th>\n",
              "      <th></th>\n",
              "      <th></th>\n",
              "      <th></th>\n",
              "      <th></th>\n",
              "      <th></th>\n",
              "      <th></th>\n",
              "    </tr>\n",
              "  </thead>\n",
              "  <tbody>\n",
              "    <tr>\n",
              "      <th>1</th>\n",
              "      <td>337.00</td>\n",
              "      <td>411.00</td>\n",
              "      <td>85.00</td>\n",
              "      <td>245.00</td>\n",
              "      <td>521.00</td>\n",
              "      <td>446.00</td>\n",
              "      <td>2,108.00</td>\n",
              "      <td>1,033.00</td>\n",
              "      <td>654.00</td>\n",
              "      <td>561.00</td>\n",
              "      <td>1,211.00</td>\n",
              "      <td>386.00</td>\n",
              "      <td>199.00</td>\n",
              "      <td>1,966.00</td>\n",
              "      <td>191.00</td>\n",
              "      <td>163.00</td>\n",
              "      <td>200.00</td>\n",
              "      <td>285.00</td>\n",
              "      <td>72.00</td>\n",
              "      <td>43.00</td>\n",
              "      <td>3,311.00</td>\n",
              "      <td>322.00</td>\n",
              "      <td>811.00</td>\n",
              "      <td>72.00</td>\n",
              "      <td>270.00</td>\n",
              "      <td>468.00</td>\n",
              "      <td>8,028.00</td>\n",
              "      <td>465.00</td>\n",
              "      <td>nan</td>\n",
              "      <td>8.00</td>\n",
              "      <td>252.00</td>\n",
              "    </tr>\n",
              "    <tr>\n",
              "      <th>2</th>\n",
              "      <td>3,075.00</td>\n",
              "      <td>1,985.00</td>\n",
              "      <td>610.00</td>\n",
              "      <td>4,550.00</td>\n",
              "      <td>11,164.00</td>\n",
              "      <td>2,014.00</td>\n",
              "      <td>16,222.00</td>\n",
              "      <td>11,273.00</td>\n",
              "      <td>8,513.00</td>\n",
              "      <td>2,733.00</td>\n",
              "      <td>12,107.00</td>\n",
              "      <td>4,672.00</td>\n",
              "      <td>2,310.00</td>\n",
              "      <td>6,275.00</td>\n",
              "      <td>1,247.00</td>\n",
              "      <td>1,673.00</td>\n",
              "      <td>3,188.00</td>\n",
              "      <td>3,913.00</td>\n",
              "      <td>786.00</td>\n",
              "      <td>263.00</td>\n",
              "      <td>11,860.00</td>\n",
              "      <td>5,857.00</td>\n",
              "      <td>4,624.00</td>\n",
              "      <td>768.00</td>\n",
              "      <td>908.00</td>\n",
              "      <td>4,384.00</td>\n",
              "      <td>12,645.00</td>\n",
              "      <td>6,007.00</td>\n",
              "      <td>157.00</td>\n",
              "      <td>349.00</td>\n",
              "      <td>2,127.00</td>\n",
              "    </tr>\n",
              "    <tr>\n",
              "      <th>3</th>\n",
              "      <td>599.00</td>\n",
              "      <td>305.00</td>\n",
              "      <td>236.00</td>\n",
              "      <td>2,745.00</td>\n",
              "      <td>2,883.00</td>\n",
              "      <td>230.00</td>\n",
              "      <td>6,051.00</td>\n",
              "      <td>6,688.00</td>\n",
              "      <td>9,913.00</td>\n",
              "      <td>664.00</td>\n",
              "      <td>8,761.00</td>\n",
              "      <td>3,162.00</td>\n",
              "      <td>685.00</td>\n",
              "      <td>1,367.00</td>\n",
              "      <td>276.00</td>\n",
              "      <td>484.00</td>\n",
              "      <td>944.00</td>\n",
              "      <td>17,615.00</td>\n",
              "      <td>2,331.00</td>\n",
              "      <td>66.00</td>\n",
              "      <td>2,045.00</td>\n",
              "      <td>8,710.00</td>\n",
              "      <td>817.00</td>\n",
              "      <td>281.00</td>\n",
              "      <td>132.00</td>\n",
              "      <td>772.00</td>\n",
              "      <td>1,942.00</td>\n",
              "      <td>6,060.00</td>\n",
              "      <td>108.00</td>\n",
              "      <td>39.00</td>\n",
              "      <td>307.00</td>\n",
              "    </tr>\n",
              "  </tbody>\n",
              "</table>\n",
              "</div>"
            ],
            "text/plain": [
              "geo_level_1_id                   0   ...                   30\n",
              "damage_grade                         ...                     \n",
              "1                            337.00  ...               252.00\n",
              "2                          3,075.00  ...             2,127.00\n",
              "3                            599.00  ...               307.00\n",
              "\n",
              "[3 rows x 31 columns]"
            ]
          },
          "metadata": {
            "tags": []
          },
          "execution_count": 301
        }
      ]
    },
    {
      "cell_type": "code",
      "metadata": {
        "id": "xOdMGb-LEqLr"
      },
      "source": [
        "mean_damage = pd.DataFrame(index = damage_per_zone.index)"
      ],
      "execution_count": null,
      "outputs": []
    },
    {
      "cell_type": "code",
      "metadata": {
        "id": "j_nh45-2HfUD"
      },
      "source": [
        "for columna in damage_per_zone.columns:\n",
        "  mean_damage[columna] = damage_per_zone[columna] / damage_per_zone[columna].sum() *100"
      ],
      "execution_count": null,
      "outputs": []
    },
    {
      "cell_type": "code",
      "metadata": {
        "id": "fF0vnZD0IHKa",
        "colab": {
          "base_uri": "https://localhost:8080/",
          "height": 193
        },
        "outputId": "ff367e90-a6a4-43b6-df4f-716018179489"
      },
      "source": [
        "mean_damage"
      ],
      "execution_count": null,
      "outputs": [
        {
          "output_type": "execute_result",
          "data": {
            "text/html": [
              "<div>\n",
              "<style scoped>\n",
              "    .dataframe tbody tr th:only-of-type {\n",
              "        vertical-align: middle;\n",
              "    }\n",
              "\n",
              "    .dataframe tbody tr th {\n",
              "        vertical-align: top;\n",
              "    }\n",
              "\n",
              "    .dataframe thead th {\n",
              "        text-align: right;\n",
              "    }\n",
              "</style>\n",
              "<table border=\"1\" class=\"dataframe\">\n",
              "  <thead>\n",
              "    <tr style=\"text-align: right;\">\n",
              "      <th></th>\n",
              "      <th>0</th>\n",
              "      <th>1</th>\n",
              "      <th>2</th>\n",
              "      <th>3</th>\n",
              "      <th>4</th>\n",
              "      <th>5</th>\n",
              "      <th>6</th>\n",
              "      <th>7</th>\n",
              "      <th>8</th>\n",
              "      <th>9</th>\n",
              "      <th>10</th>\n",
              "      <th>11</th>\n",
              "      <th>12</th>\n",
              "      <th>13</th>\n",
              "      <th>14</th>\n",
              "      <th>15</th>\n",
              "      <th>16</th>\n",
              "      <th>17</th>\n",
              "      <th>18</th>\n",
              "      <th>19</th>\n",
              "      <th>20</th>\n",
              "      <th>21</th>\n",
              "      <th>22</th>\n",
              "      <th>23</th>\n",
              "      <th>24</th>\n",
              "      <th>25</th>\n",
              "      <th>26</th>\n",
              "      <th>27</th>\n",
              "      <th>28</th>\n",
              "      <th>29</th>\n",
              "      <th>30</th>\n",
              "    </tr>\n",
              "    <tr>\n",
              "      <th>damage_grade</th>\n",
              "      <th></th>\n",
              "      <th></th>\n",
              "      <th></th>\n",
              "      <th></th>\n",
              "      <th></th>\n",
              "      <th></th>\n",
              "      <th></th>\n",
              "      <th></th>\n",
              "      <th></th>\n",
              "      <th></th>\n",
              "      <th></th>\n",
              "      <th></th>\n",
              "      <th></th>\n",
              "      <th></th>\n",
              "      <th></th>\n",
              "      <th></th>\n",
              "      <th></th>\n",
              "      <th></th>\n",
              "      <th></th>\n",
              "      <th></th>\n",
              "      <th></th>\n",
              "      <th></th>\n",
              "      <th></th>\n",
              "      <th></th>\n",
              "      <th></th>\n",
              "      <th></th>\n",
              "      <th></th>\n",
              "      <th></th>\n",
              "      <th></th>\n",
              "      <th></th>\n",
              "      <th></th>\n",
              "    </tr>\n",
              "  </thead>\n",
              "  <tbody>\n",
              "    <tr>\n",
              "      <th>1</th>\n",
              "      <td>8.40</td>\n",
              "      <td>15.22</td>\n",
              "      <td>9.13</td>\n",
              "      <td>3.25</td>\n",
              "      <td>3.58</td>\n",
              "      <td>16.58</td>\n",
              "      <td>8.65</td>\n",
              "      <td>5.44</td>\n",
              "      <td>3.43</td>\n",
              "      <td>14.17</td>\n",
              "      <td>5.48</td>\n",
              "      <td>4.70</td>\n",
              "      <td>6.23</td>\n",
              "      <td>20.46</td>\n",
              "      <td>11.14</td>\n",
              "      <td>7.03</td>\n",
              "      <td>4.62</td>\n",
              "      <td>1.31</td>\n",
              "      <td>2.26</td>\n",
              "      <td>11.56</td>\n",
              "      <td>19.23</td>\n",
              "      <td>2.16</td>\n",
              "      <td>12.97</td>\n",
              "      <td>6.42</td>\n",
              "      <td>20.61</td>\n",
              "      <td>8.32</td>\n",
              "      <td>35.50</td>\n",
              "      <td>3.71</td>\n",
              "      <td>nan</td>\n",
              "      <td>2.02</td>\n",
              "      <td>9.38</td>\n",
              "    </tr>\n",
              "    <tr>\n",
              "      <th>2</th>\n",
              "      <td>76.66</td>\n",
              "      <td>73.49</td>\n",
              "      <td>65.52</td>\n",
              "      <td>60.34</td>\n",
              "      <td>76.63</td>\n",
              "      <td>74.87</td>\n",
              "      <td>66.54</td>\n",
              "      <td>59.35</td>\n",
              "      <td>44.62</td>\n",
              "      <td>69.05</td>\n",
              "      <td>54.83</td>\n",
              "      <td>56.84</td>\n",
              "      <td>72.32</td>\n",
              "      <td>65.31</td>\n",
              "      <td>72.75</td>\n",
              "      <td>72.11</td>\n",
              "      <td>73.59</td>\n",
              "      <td>17.94</td>\n",
              "      <td>24.65</td>\n",
              "      <td>70.70</td>\n",
              "      <td>68.89</td>\n",
              "      <td>39.34</td>\n",
              "      <td>73.96</td>\n",
              "      <td>68.51</td>\n",
              "      <td>69.31</td>\n",
              "      <td>77.95</td>\n",
              "      <td>55.91</td>\n",
              "      <td>47.93</td>\n",
              "      <td>59.25</td>\n",
              "      <td>88.13</td>\n",
              "      <td>79.19</td>\n",
              "    </tr>\n",
              "    <tr>\n",
              "      <th>3</th>\n",
              "      <td>14.93</td>\n",
              "      <td>11.29</td>\n",
              "      <td>25.35</td>\n",
              "      <td>36.41</td>\n",
              "      <td>19.79</td>\n",
              "      <td>8.55</td>\n",
              "      <td>24.82</td>\n",
              "      <td>35.21</td>\n",
              "      <td>51.95</td>\n",
              "      <td>16.78</td>\n",
              "      <td>39.68</td>\n",
              "      <td>38.47</td>\n",
              "      <td>21.45</td>\n",
              "      <td>14.23</td>\n",
              "      <td>16.10</td>\n",
              "      <td>20.86</td>\n",
              "      <td>21.79</td>\n",
              "      <td>80.75</td>\n",
              "      <td>73.10</td>\n",
              "      <td>17.74</td>\n",
              "      <td>11.88</td>\n",
              "      <td>58.50</td>\n",
              "      <td>13.07</td>\n",
              "      <td>25.07</td>\n",
              "      <td>10.08</td>\n",
              "      <td>13.73</td>\n",
              "      <td>8.59</td>\n",
              "      <td>48.36</td>\n",
              "      <td>40.75</td>\n",
              "      <td>9.85</td>\n",
              "      <td>11.43</td>\n",
              "    </tr>\n",
              "  </tbody>\n",
              "</table>\n",
              "</div>"
            ],
            "text/plain": [
              "                               0   ...                   30\n",
              "damage_grade                       ...                     \n",
              "1                            8.40  ...                 9.38\n",
              "2                           76.66  ...                79.19\n",
              "3                           14.93  ...                11.43\n",
              "\n",
              "[3 rows x 31 columns]"
            ]
          },
          "metadata": {
            "tags": []
          },
          "execution_count": 304
        }
      ]
    },
    {
      "cell_type": "code",
      "metadata": {
        "id": "J1J_FZZ1J5ey",
        "colab": {
          "base_uri": "https://localhost:8080/",
          "height": 486
        },
        "outputId": "1c02fefb-d119-4d14-80b1-dc4ea8a2a7f4"
      },
      "source": [
        "f = plt.figure()\n",
        "plt.title('Distribución de daño para cada zona geográfica' , {'fontweight':'bold'})\n",
        "\n",
        "mean_damage.transpose().sort_values(by=[3]).plot(kind='bar', ax=f.gca(), xlabel='Zona geográfica', ylabel='Porcentaje de edificios dañados', color=['#16a1ff', 'orange', 'red'], stacked=True)\n",
        "plt.legend(loc='center left', bbox_to_anchor=(1.0, 0.5))\n",
        "#plt.show()\n",
        "plt.savefig('zones_more_affected.pdf', bbox_inches='tight')"
      ],
      "execution_count": null,
      "outputs": [
        {
          "output_type": "display_data",
          "data": {
            "image/png": "[encoded data removed]",
            "text/plain": [
              "<Figure size 640x480 with 1 Axes>"
            ]
          },
          "metadata": {
            "tags": []
          }
        }
      ]
    },
    {
      "cell_type": "markdown",
      "metadata": {
        "id": "m8bsksLoD-lp"
      },
      "source": [
        "##Relaciones con damage_grade"
      ]
    },
    {
      "cell_type": "markdown",
      "metadata": {
        "id": "opnNFJuOEL3i"
      },
      "source": [
        "### Numero de pisos"
      ]
    },
    {
      "cell_type": "code",
      "metadata": {
        "id": "849yyh9zH9iL",
        "colab": {
          "base_uri": "https://localhost:8080/"
        },
        "outputId": "b7ea8bfc-da1c-4740-d57f-8b1c217df9b3"
      },
      "source": [
        "full['count_floors_pre_eq'].value_counts() # Ecuacion mas peligrosa de la historia: descartamos edificios mayores a 3 pisos"
      ],
      "execution_count": null,
      "outputs": [
        {
          "output_type": "execute_result",
          "data": {
            "text/plain": [
              "2    156623\n",
              "3     55617\n",
              "1     40441\n",
              "4      5424\n",
              "5      2246\n",
              "6       209\n",
              "7        39\n",
              "9         1\n",
              "8         1\n",
              "Name: count_floors_pre_eq, dtype: int64"
            ]
          },
          "metadata": {
            "tags": []
          },
          "execution_count": 306
        }
      ]
    },
    {
      "cell_type": "code",
      "metadata": {
        "id": "CuCu0xKCIPRi",
        "colab": {
          "base_uri": "https://localhost:8080/"
        },
        "outputId": "ee2f1e4d-fa73-4d89-b410-372c48cb0b63"
      },
      "source": [
        "edificios_menores_seis_pisos = full[(full['count_floors_pre_eq'] < 4)]\n",
        "edificios_menores_seis_pisos['count_floors_pre_eq'].value_counts()"
      ],
      "execution_count": null,
      "outputs": [
        {
          "output_type": "execute_result",
          "data": {
            "text/plain": [
              "2    156623\n",
              "3     55617\n",
              "1     40441\n",
              "Name: count_floors_pre_eq, dtype: int64"
            ]
          },
          "metadata": {
            "tags": []
          },
          "execution_count": 307
        }
      ]
    },
    {
      "cell_type": "code",
      "metadata": {
        "id": "xZM0nJ_l5_I1",
        "colab": {
          "base_uri": "https://localhost:8080/"
        },
        "outputId": "17ff7f71-75a4-4338-9049-ede15811f6cb"
      },
      "source": [
        "edificios_menores_seis_pisos.groupby('count_floors_pre_eq')['damage_grade'].value_counts().sort_values(ascending=False)"
      ],
      "execution_count": null,
      "outputs": [
        {
          "output_type": "execute_result",
          "data": {
            "text/plain": [
              "count_floors_pre_eq  damage_grade\n",
              "2                    2               93968\n",
              "                     3               50062\n",
              "3                    2               28479\n",
              "                     3               24601\n",
              "1                    2               20798\n",
              "2                    1               12593\n",
              "1                    3               10674\n",
              "                     1                8969\n",
              "3                    1                2537\n",
              "Name: damage_grade, dtype: int64"
            ]
          },
          "metadata": {
            "tags": []
          },
          "execution_count": 308
        }
      ]
    },
    {
      "cell_type": "markdown",
      "metadata": {
        "id": "fvmYbwOt7b72"
      },
      "source": [
        "Vemos que edificios sufrieron un mayor grado de daño con respecto a su numero de pisos."
      ]
    },
    {
      "cell_type": "code",
      "metadata": {
        "id": "eSWPVApZ7P25",
        "colab": {
          "base_uri": "https://localhost:8080/"
        },
        "outputId": "cf716e6c-ea42-48a0-c8fa-9f34eed0b42e"
      },
      "source": [
        "promedio_daño_por_pisos = edificios_menores_seis_pisos.groupby('count_floors_pre_eq')['damage_grade'].mean()\n",
        "promedio_daño_por_pisos #conclucion: ligero incremento de daño en edificios mas altos."
      ],
      "execution_count": null,
      "outputs": [
        {
          "output_type": "execute_result",
          "data": {
            "text/plain": [
              "count_floors_pre_eq\n",
              "1                   2.04\n",
              "2                   2.24\n",
              "3                   2.40\n",
              "Name: damage_grade, dtype: float64"
            ]
          },
          "metadata": {
            "tags": []
          },
          "execution_count": 309
        }
      ]
    },
    {
      "cell_type": "code",
      "metadata": {
        "id": "P1j3S-kg9ELx",
        "colab": {
          "base_uri": "https://localhost:8080/",
          "height": 475
        },
        "outputId": "dece10f2-0ca7-4fc1-ef87-2a878b89d53e"
      },
      "source": [
        "f = plt.figure()\n",
        "plt.title('Promedio de daño a edificios por cantidad de pisos', {'fontweight':'bold'})\n",
        "\n",
        "promedio_daño_por_pisos.plot(kind='bar', ax=f.gca(), ylabel='Promedio grado de daño', xlabel='Cantidad de pisos')\n",
        "\n",
        "plt.savefig('pisos.pdf', bbox_inches='tight')"
      ],
      "execution_count": null,
      "outputs": [
        {
          "output_type": "display_data",
          "data": {
            "image/png": "[encoded data removed]",
            "text/plain": [
              "<Figure size 640x480 with 1 Axes>"
            ]
          },
          "metadata": {
            "tags": []
          }
        }
      ]
    },
    {
      "cell_type": "markdown",
      "metadata": {
        "id": "Hyg5sSFFDqle"
      },
      "source": [
        "Ahora vamos a evaluar el promedio de pisos para cada grado de daño"
      ]
    },
    {
      "cell_type": "code",
      "metadata": {
        "id": "TesCFqcfD1Lp"
      },
      "source": [
        "#means_antiguedad = full[full['age']<150].groupby('damage_grade')[numerical_columns].mean()\n",
        "means = full.groupby('damage_grade')[numerical_columns].mean()"
      ],
      "execution_count": null,
      "outputs": []
    },
    {
      "cell_type": "code",
      "metadata": {
        "colab": {
          "base_uri": "https://localhost:8080/",
          "height": 475
        },
        "id": "wYPflFbUHA3W",
        "outputId": "5cadd5fd-dce5-4eba-af50-8edb7a3a6f57"
      },
      "source": [
        "f = plt.figure()\n",
        "plt.title('Promedio de cantidad de pisos de los edificios para cada grado de daño', {'fontweight':'bold'})\n",
        " \n",
        "means['count_floors_pre_eq'].plot(kind='bar', ax=f.gca(),color=['#16a1ff', '#ff944d', 'red'], ylabel='Cantidad de pisos', xlabel='Grado de daño')\n",
        " \n",
        "plt.savefig('floors.pdf', bbox_inches='tight')"
      ],
      "execution_count": null,
      "outputs": [
        {
          "output_type": "display_data",
          "data": {
            "image/png": "[encoded data removed]",
            "text/plain": [
              "<Figure size 640x480 with 1 Axes>"
            ]
          },
          "metadata": {
            "tags": []
          }
        }
      ]
    },
    {
      "cell_type": "markdown",
      "metadata": {
        "id": "mM_2AGc4EcsS"
      },
      "source": [
        "###Condicion de superficie terrestre"
      ]
    },
    {
      "cell_type": "code",
      "metadata": {
        "id": "ijC4SD34LZ02",
        "colab": {
          "base_uri": "https://localhost:8080/"
        },
        "outputId": "d5c9e9ed-057b-4898-df31-5a8530a3b559"
      },
      "source": [
        "full['land_surface_condition'].value_counts() ## Ecuacion mas peligrosa de la Historia: suficientes datos para poder evaluar"
      ],
      "execution_count": null,
      "outputs": [
        {
          "output_type": "execute_result",
          "data": {
            "text/plain": [
              "t    216757\n",
              "n     35528\n",
              "o      8316\n",
              "Name: land_surface_condition, dtype: int64"
            ]
          },
          "metadata": {
            "tags": []
          },
          "execution_count": 313
        }
      ]
    },
    {
      "cell_type": "code",
      "metadata": {
        "id": "otqO10dlEyh1",
        "colab": {
          "base_uri": "https://localhost:8080/"
        },
        "outputId": "8398a1fa-10cc-4381-a95a-334465491a84"
      },
      "source": [
        "daño_por_cond_superficie = full.groupby('land_surface_condition')['damage_grade'].mean().sort_values(ascending=False)\n",
        "daño_por_cond_superficie #conclucion: condicion superficie terrestre no es relevante"
      ],
      "execution_count": null,
      "outputs": [
        {
          "output_type": "execute_result",
          "data": {
            "text/plain": [
              "land_surface_condition\n",
              "o                   2.29\n",
              "n                   2.25\n",
              "t                   2.23\n",
              "Name: damage_grade, dtype: float64"
            ]
          },
          "metadata": {
            "tags": []
          },
          "execution_count": 314
        }
      ]
    },
    {
      "cell_type": "code",
      "metadata": {
        "id": "JXb0hW_RGLT2",
        "colab": {
          "base_uri": "https://localhost:8080/",
          "height": 475
        },
        "outputId": "e95d0432-366b-44d9-940c-c02d90e0f0bd"
      },
      "source": [
        "f = plt.figure()\n",
        "plt.title('Promedio de daño a edificios por condición de superficie terrestre', {'fontweight':'bold'})\n",
        "\n",
        "daño_por_cond_superficie.plot(kind='bar', ax=f.gca(),color=['#663300', '#009933', '#660066'], ylabel='Promedio grado de daño', xlabel='Condicion superficie terrestre')\n",
        "\n",
        "plt.savefig('superficie.pdf', bbox_inches='tight')"
      ],
      "execution_count": null,
      "outputs": [
        {
          "output_type": "display_data",
          "data": {
            "image/png": "[encoded data removed]",
            "text/plain": [
              "<Figure size 640x480 with 1 Axes>"
            ]
          },
          "metadata": {
            "tags": []
          }
        }
      ]
    },
    {
      "cell_type": "markdown",
      "metadata": {
        "id": "ILcQA_ZMG2-8"
      },
      "source": [
        "###Tipo de cimientos "
      ]
    },
    {
      "cell_type": "code",
      "metadata": {
        "id": "JtPnR2_1HNU1",
        "colab": {
          "base_uri": "https://localhost:8080/"
        },
        "outputId": "c3aa35e0-858e-4b99-fb1b-1658c36191d9"
      },
      "source": [
        "full['foundation_type'].value_counts() ## Ecuacion mas peligrosa de la Historia: descartamos h"
      ],
      "execution_count": null,
      "outputs": [
        {
          "output_type": "execute_result",
          "data": {
            "text/plain": [
              "r    219196\n",
              "w     15118\n",
              "u     14260\n",
              "i     10579\n",
              "h      1448\n",
              "Name: foundation_type, dtype: int64"
            ]
          },
          "metadata": {
            "tags": []
          },
          "execution_count": 316
        }
      ]
    },
    {
      "cell_type": "code",
      "metadata": {
        "id": "BM2DZofZLpRo",
        "colab": {
          "base_uri": "https://localhost:8080/"
        },
        "outputId": "101d79f6-c40d-4a01-93d4-8535138d4c0c"
      },
      "source": [
        "tipo_de_cimientos_filtrado = full[(full['foundation_type'] != 'h')]\n",
        "tipo_de_cimientos_filtrado['foundation_type'] = tipo_de_cimientos_filtrado.foundation_type.cat.remove_unused_categories()\n",
        "tipo_de_cimientos_filtrado['foundation_type'].value_counts() \n"
      ],
      "execution_count": null,
      "outputs": [
        {
          "output_type": "stream",
          "text": [
            "/usr/local/lib/python3.7/dist-packages/ipykernel_launcher.py:2: SettingWithCopyWarning: \n",
            "A value is trying to be set on a copy of a slice from a DataFrame.\n",
            "Try using .loc[row_indexer,col_indexer] = value instead\n",
            "\n",
            "See the caveats in the documentation: https://pandas.pydata.org/pandas-docs/stable/user_guide/indexing.html#returning-a-view-versus-a-copy\n",
            "  \n"
          ],
          "name": "stderr"
        },
        {
          "output_type": "execute_result",
          "data": {
            "text/plain": [
              "r    219196\n",
              "w     15118\n",
              "u     14260\n",
              "i     10579\n",
              "Name: foundation_type, dtype: int64"
            ]
          },
          "metadata": {
            "tags": []
          },
          "execution_count": 317
        }
      ]
    },
    {
      "cell_type": "code",
      "metadata": {
        "id": "NHo7ZDpDG-3O",
        "colab": {
          "base_uri": "https://localhost:8080/"
        },
        "outputId": "85424942-84d1-42c3-b805-87f2d45a64be"
      },
      "source": [
        "daño_por_tipo_de_cimientos = tipo_de_cimientos_filtrado.groupby('foundation_type')['damage_grade'].mean().sort_values(ascending=False)\n",
        "daño_por_tipo_de_cimientos #conclucion: tipo de cimiento r sufrio daños considerablementes mayores, podemos ver que el cimiento i fue el mas resistente."
      ],
      "execution_count": null,
      "outputs": [
        {
          "output_type": "execute_result",
          "data": {
            "text/plain": [
              "foundation_type\n",
              "r                   2.33\n",
              "u                   1.88\n",
              "w                   1.81\n",
              "i                   1.45\n",
              "Name: damage_grade, dtype: float64"
            ]
          },
          "metadata": {
            "tags": []
          },
          "execution_count": 318
        }
      ]
    },
    {
      "cell_type": "code",
      "metadata": {
        "id": "ARoNuDsKNSww",
        "colab": {
          "base_uri": "https://localhost:8080/",
          "height": 478
        },
        "outputId": "bc9fcc31-daf0-4250-d1b3-3c18993ebd0c"
      },
      "source": [
        "f = plt.figure()\n",
        "plt.title('Promedio de daño a edificios por tipo de cimiento', {'fontweight':'bold'})\n",
        "\n",
        "daño_por_tipo_de_cimientos.plot(kind='bar', ax=f.gca(),color=['#663300', '#009933', '#660066', '#ff944d'], ylabel='Promedio del grado de daño', xlabel='Tipo de cimiento')\n",
        "\n",
        "plt.savefig('cimiento.pdf', bbox_inches='tight')"
      ],
      "execution_count": null,
      "outputs": [
        {
          "output_type": "display_data",
          "data": {
            "image/png": "[encoded data removed]",
            "text/plain": [
              "<Figure size 640x480 with 1 Axes>"
            ]
          },
          "metadata": {
            "tags": []
          }
        }
      ]
    },
    {
      "cell_type": "markdown",
      "metadata": {
        "id": "63dJMHutpBBG"
      },
      "source": [
        "### Tipo de techo\n"
      ]
    },
    {
      "cell_type": "code",
      "metadata": {
        "id": "o6EbSOHypLlG",
        "colab": {
          "base_uri": "https://localhost:8080/"
        },
        "outputId": "aacf0260-8d5e-49b7-db1f-b9c663ecf45a"
      },
      "source": [
        "full['roof_type'].value_counts() ## Ecuacion mas peligrosa de la Historia: suficientes datos para poder evaluar"
      ],
      "execution_count": null,
      "outputs": [
        {
          "output_type": "execute_result",
          "data": {
            "text/plain": [
              "n    182842\n",
              "q     61576\n",
              "x     16183\n",
              "Name: roof_type, dtype: int64"
            ]
          },
          "metadata": {
            "tags": []
          },
          "execution_count": 320
        }
      ]
    },
    {
      "cell_type": "code",
      "metadata": {
        "id": "T1K5K50Npa87",
        "colab": {
          "base_uri": "https://localhost:8080/"
        },
        "outputId": "cacdfd50-a51d-4b7a-d904-81d080d85080"
      },
      "source": [
        "daño_por_tipo_de_techo = full.groupby('roof_type')['damage_grade'].mean().sort_values(ascending=False)\n",
        "daño_por_tipo_de_techo # Conclucion: los tipos de techo x son mas resistentes"
      ],
      "execution_count": null,
      "outputs": [
        {
          "output_type": "execute_result",
          "data": {
            "text/plain": [
              "roof_type\n",
              "q                   2.32\n",
              "n                   2.27\n",
              "x                   1.57\n",
              "Name: damage_grade, dtype: float64"
            ]
          },
          "metadata": {
            "tags": []
          },
          "execution_count": 321
        }
      ]
    },
    {
      "cell_type": "code",
      "metadata": {
        "id": "QFxIE0tayOxN",
        "colab": {
          "base_uri": "https://localhost:8080/",
          "height": 475
        },
        "outputId": "7a7ca5f7-bff8-4d6a-91d2-24e19eabed54"
      },
      "source": [
        "f = plt.figure()\n",
        "plt.title('Promedio de daño a edificios por tipo de techo', {'fontweight':'bold'})\n",
        "\n",
        "daño_por_tipo_de_techo.plot(kind='bar', ax=f.gca(),color=['#663300', '#009933', '#660066'], ylabel='Promedio del grado de daño', xlabel='Tipo de techo')\n",
        "\n",
        "plt.savefig('techo.pdf', bbox_inches='tight')"
      ],
      "execution_count": null,
      "outputs": [
        {
          "output_type": "display_data",
          "data": {
            "image/png": "[encoded data removed]",
            "text/plain": [
              "<Figure size 640x480 with 1 Axes>"
            ]
          },
          "metadata": {
            "tags": []
          }
        }
      ]
    },
    {
      "cell_type": "markdown",
      "metadata": {
        "id": "B1Vi3NYEp0MP"
      },
      "source": [
        "### Tipo de construccion en planta baja"
      ]
    },
    {
      "cell_type": "code",
      "metadata": {
        "id": "TFmSYZQiqQId",
        "colab": {
          "base_uri": "https://localhost:8080/"
        },
        "outputId": "f1b52f4b-8021-48a2-9dd2-ae5d33d8e133"
      },
      "source": [
        "full['ground_floor_type'].value_counts() # Descartamos z y m"
      ],
      "execution_count": null,
      "outputs": [
        {
          "output_type": "execute_result",
          "data": {
            "text/plain": [
              "f    209619\n",
              "x     24877\n",
              "v     24593\n",
              "z      1004\n",
              "m       508\n",
              "Name: ground_floor_type, dtype: int64"
            ]
          },
          "metadata": {
            "tags": []
          },
          "execution_count": 323
        }
      ]
    },
    {
      "cell_type": "code",
      "metadata": {
        "id": "MM7X8JHKqhFl",
        "colab": {
          "base_uri": "https://localhost:8080/"
        },
        "outputId": "b68fb8cb-9b1a-46f0-c9f3-ae5da0930c5d"
      },
      "source": [
        "tipo_planta_baja = full[(full['ground_floor_type'] != 'z')]\n",
        "tipo_planta_baja = tipo_planta_baja[(tipo_planta_baja['ground_floor_type'] != 'm')]\n",
        "tipo_planta_baja['ground_floor_type'] = tipo_planta_baja.ground_floor_type.cat.remove_unused_categories()\n",
        "tipo_planta_baja['ground_floor_type'].value_counts()"
      ],
      "execution_count": null,
      "outputs": [
        {
          "output_type": "execute_result",
          "data": {
            "text/plain": [
              "f    209619\n",
              "x     24877\n",
              "v     24593\n",
              "Name: ground_floor_type, dtype: int64"
            ]
          },
          "metadata": {
            "tags": []
          },
          "execution_count": 324
        }
      ]
    },
    {
      "cell_type": "code",
      "metadata": {
        "id": "ajPhBAhIsjyk",
        "colab": {
          "base_uri": "https://localhost:8080/"
        },
        "outputId": "b1ef2975-cfe1-48d9-8082-44f482843ffa"
      },
      "source": [
        "tipo_planta_baja_ordenado = tipo_planta_baja.groupby('ground_floor_type')['damage_grade'].mean().sort_values(ascending=False)\n",
        "tipo_planta_baja_ordenado #Conclucion: el tipo de construccion en planta baja v es el mas resistente"
      ],
      "execution_count": null,
      "outputs": [
        {
          "output_type": "execute_result",
          "data": {
            "text/plain": [
              "ground_floor_type\n",
              "f                   2.31\n",
              "x                   2.25\n",
              "v                   1.63\n",
              "Name: damage_grade, dtype: float64"
            ]
          },
          "metadata": {
            "tags": []
          },
          "execution_count": 325
        }
      ]
    },
    {
      "cell_type": "code",
      "metadata": {
        "id": "VwQUIRlwyy9p",
        "colab": {
          "base_uri": "https://localhost:8080/",
          "height": 474
        },
        "outputId": "990fa0b1-9521-419e-e5dc-b3695cf695ad"
      },
      "source": [
        "f = plt.figure()\n",
        "plt.title('Promedio de daño a edificios por tipo de planta baja', {'fontweight':'bold'})\n",
        "\n",
        "tipo_planta_baja_ordenado.plot(kind='bar', ax=f.gca(),color=['#663300', '#009933', '#660066'], ylabel='Promedio del grado de daño', xlabel='Tipo de planta baja')\n",
        "\n",
        "plt.savefig('planta_baja.pdf', bbox_inches='tight')"
      ],
      "execution_count": null,
      "outputs": [
        {
          "output_type": "display_data",
          "data": {
            "image/png": "[encoded data removed]",
            "text/plain": [
              "<Figure size 640x480 with 1 Axes>"
            ]
          },
          "metadata": {
            "tags": []
          }
        }
      ]
    },
    {
      "cell_type": "markdown",
      "metadata": {
        "id": "LlV4tLWEvtv4"
      },
      "source": [
        "### Orientacion del edificio"
      ]
    },
    {
      "cell_type": "code",
      "metadata": {
        "id": "bOFNxIXnvXUz",
        "colab": {
          "base_uri": "https://localhost:8080/"
        },
        "outputId": "2b8c74b1-bf66-4781-e3fb-43058fa65387"
      },
      "source": [
        "full['position'].value_counts()"
      ],
      "execution_count": null,
      "outputs": [
        {
          "output_type": "execute_result",
          "data": {
            "text/plain": [
              "s    202090\n",
              "t     42896\n",
              "j     13282\n",
              "o      2333\n",
              "Name: position, dtype: int64"
            ]
          },
          "metadata": {
            "tags": []
          },
          "execution_count": 327
        }
      ]
    },
    {
      "cell_type": "code",
      "metadata": {
        "id": "U7rt5UBMv6ZI",
        "colab": {
          "base_uri": "https://localhost:8080/"
        },
        "outputId": "c9136372-2e6a-4358-8a00-c27e8437ad57"
      },
      "source": [
        "daño_por_orientacion = full.groupby('position')['damage_grade'].mean().sort_values(ascending=False)\n",
        "daño_por_orientacion # conclucion: no es relevante"
      ],
      "execution_count": null,
      "outputs": [
        {
          "output_type": "execute_result",
          "data": {
            "text/plain": [
              "position\n",
              "t                   2.31\n",
              "s                   2.23\n",
              "o                   2.21\n",
              "j                   2.15\n",
              "Name: damage_grade, dtype: float64"
            ]
          },
          "metadata": {
            "tags": []
          },
          "execution_count": 328
        }
      ]
    },
    {
      "cell_type": "code",
      "metadata": {
        "id": "YQqdAV2tzprq",
        "colab": {
          "base_uri": "https://localhost:8080/",
          "height": 475
        },
        "outputId": "499d8654-fb87-4f39-b744-e4e1c9c78f65"
      },
      "source": [
        "f = plt.figure()\n",
        "plt.title('Promedio de daño a edificios por orientación', {'fontweight':'bold'})\n",
        "\n",
        "daño_por_orientacion.plot(kind='bar', ax=f.gca(),color=['#663300', '#009933', '#660066', '#ff944d'], ylabel='Promedio del grado de daño', xlabel='Orientación')\n",
        "\n",
        "plt.savefig('orientacion.pdf', bbox_inches='tight')"
      ],
      "execution_count": null,
      "outputs": [
        {
          "output_type": "display_data",
          "data": {
            "image/png": "[encoded data removed]",
            "text/plain": [
              "<Figure size 640x480 with 1 Axes>"
            ]
          },
          "metadata": {
            "tags": []
          }
        }
      ]
    },
    {
      "cell_type": "markdown",
      "metadata": {
        "id": "pwJRe1xHwFdK"
      },
      "source": [
        "### Configuración de los planos del edificio"
      ]
    },
    {
      "cell_type": "code",
      "metadata": {
        "id": "-5xvKIe3wzLo",
        "colab": {
          "base_uri": "https://localhost:8080/"
        },
        "outputId": "62f244e6-3bc9-4514-e506-53fb963b4961"
      },
      "source": [
        "full['plan_configuration'].value_counts() # Filtro m, n y f."
      ],
      "execution_count": null,
      "outputs": [
        {
          "output_type": "execute_result",
          "data": {
            "text/plain": [
              "d    250072\n",
              "q      5692\n",
              "u      3649\n",
              "s       346\n",
              "c       325\n",
              "a       252\n",
              "o       159\n",
              "m        46\n",
              "n        38\n",
              "f        22\n",
              "Name: plan_configuration, dtype: int64"
            ]
          },
          "metadata": {
            "tags": []
          },
          "execution_count": 330
        }
      ]
    },
    {
      "cell_type": "code",
      "metadata": {
        "id": "KKRi4_UKxeSs",
        "colab": {
          "base_uri": "https://localhost:8080/"
        },
        "outputId": "80e55fd5-3ab5-4f72-daa3-9caaecd6205e"
      },
      "source": [
        "daño_por_plan_configuration = full[(full['plan_configuration'] != 'm')]\n",
        "daño_por_plan_configuration = daño_por_plan_configuration[(daño_por_plan_configuration['plan_configuration'] != 'n')]\n",
        "daño_por_plan_configuration = daño_por_plan_configuration[(daño_por_plan_configuration['plan_configuration'] != 'f')]\n",
        "daño_por_plan_configuration['plan_configuration'] = daño_por_plan_configuration.plan_configuration.cat.remove_unused_categories()\n",
        "daño_por_plan_configuration['plan_configuration'].value_counts()"
      ],
      "execution_count": null,
      "outputs": [
        {
          "output_type": "execute_result",
          "data": {
            "text/plain": [
              "d    250072\n",
              "q      5692\n",
              "u      3649\n",
              "s       346\n",
              "c       325\n",
              "a       252\n",
              "o       159\n",
              "Name: plan_configuration, dtype: int64"
            ]
          },
          "metadata": {
            "tags": []
          },
          "execution_count": 331
        }
      ]
    },
    {
      "cell_type": "code",
      "metadata": {
        "id": "N4eUYVoLw4Xj",
        "colab": {
          "base_uri": "https://localhost:8080/"
        },
        "outputId": "03960967-ef98-4655-ecd7-d29dcf7b894c"
      },
      "source": [
        "daño_por_plan_configuration_ordenado = daño_por_plan_configuration.groupby('plan_configuration')['damage_grade'].mean().sort_values(ascending=False)\n",
        "daño_por_plan_configuration_ordenado"
      ],
      "execution_count": null,
      "outputs": [
        {
          "output_type": "execute_result",
          "data": {
            "text/plain": [
              "plan_configuration\n",
              "q                   2.27\n",
              "d                   2.24\n",
              "s                   2.05\n",
              "u                   1.92\n",
              "o                   1.89\n",
              "a                   1.85\n",
              "c                   1.84\n",
              "Name: damage_grade, dtype: float64"
            ]
          },
          "metadata": {
            "tags": []
          },
          "execution_count": 332
        }
      ]
    },
    {
      "cell_type": "code",
      "metadata": {
        "id": "-FBIecj-yL3N",
        "colab": {
          "base_uri": "https://localhost:8080/",
          "height": 475
        },
        "outputId": "64e184f1-78d5-49ce-def6-5d7c94087e66"
      },
      "source": [
        "f = plt.figure()\n",
        "plt.title('Promedio de daño a edificios por configuracion de planos', {'fontweight':'bold'})\n",
        "\n",
        "daño_por_plan_configuration_ordenado.plot(kind='bar', ax=f.gca(),color=['#663300', '#009933', '#660066', '#ff944d', '#ff99cc', '#6699ff', '#669999'], ylabel='Promedio grado de daño', xlabel='Configuracion de los planos')\n",
        "\n",
        "plt.savefig('plan_configuration.pdf', bbox_inches='tight')"
      ],
      "execution_count": null,
      "outputs": [
        {
          "output_type": "display_data",
          "data": {
            "image/png": "[encoded data removed]",
            "text/plain": [
              "<Figure size 640x480 with 1 Axes>"
            ]
          },
          "metadata": {
            "tags": []
          }
        }
      ]
    },
    {
      "cell_type": "markdown",
      "metadata": {
        "id": "a3VMiyVTyzKN"
      },
      "source": [
        "### Tipo de construccion en otros pisos"
      ]
    },
    {
      "cell_type": "code",
      "metadata": {
        "id": "P8SrAo-Py6WX",
        "colab": {
          "base_uri": "https://localhost:8080/"
        },
        "outputId": "0ab00d1c-9d73-424a-9d56-c46661abd0fc"
      },
      "source": [
        "full['other_floor_type'].value_counts() # No es necesario filtrar"
      ],
      "execution_count": null,
      "outputs": [
        {
          "output_type": "execute_result",
          "data": {
            "text/plain": [
              "q    165282\n",
              "x     43448\n",
              "j     39843\n",
              "s     12028\n",
              "Name: other_floor_type, dtype: int64"
            ]
          },
          "metadata": {
            "tags": []
          },
          "execution_count": 334
        }
      ]
    },
    {
      "cell_type": "code",
      "metadata": {
        "id": "sgWSNy5Qy613",
        "colab": {
          "base_uri": "https://localhost:8080/"
        },
        "outputId": "929bde96-624b-48ca-8ee0-32e0d33d4b2a"
      },
      "source": [
        "daño_por_tipo_de_construccion_otros_pisos = full.groupby('other_floor_type')['damage_grade'].mean().sort_values(ascending=False)\n",
        "daño_por_tipo_de_construccion_otros_pisos # conclucion: cuando construyendo con los pisos q y x hubo un mayor daño."
      ],
      "execution_count": null,
      "outputs": [
        {
          "output_type": "execute_result",
          "data": {
            "text/plain": [
              "other_floor_type\n",
              "q                   2.32\n",
              "x                   2.30\n",
              "j                   2.04\n",
              "s                   1.61\n",
              "Name: damage_grade, dtype: float64"
            ]
          },
          "metadata": {
            "tags": []
          },
          "execution_count": 335
        }
      ]
    },
    {
      "cell_type": "code",
      "metadata": {
        "id": "vWCNNRnnzaiH",
        "colab": {
          "base_uri": "https://localhost:8080/",
          "height": 475
        },
        "outputId": "e1e33933-c4ec-4e14-9136-f5958055d1e8"
      },
      "source": [
        "f = plt.figure()\n",
        "plt.title('Promedio de daño a edificios por tipo de construccion con otros pisos', {'fontweight':'bold'})\n",
        "\n",
        "daño_por_tipo_de_construccion_otros_pisos.plot(kind='bar', ax=f.gca(),color=['blue'], ylabel='Promedio grado de daño', xlabel='Tipo de construccion con otros pisos')\n",
        "\n",
        "plt.savefig('construccion_otros_pisos.pdf', bbox_inches='tight')"
      ],
      "execution_count": null,
      "outputs": [
        {
          "output_type": "display_data",
          "data": {
            "image/png": "[encoded data removed]",
            "text/plain": [
              "<Figure size 640x480 with 1 Axes>"
            ]
          },
          "metadata": {
            "tags": []
          }
        }
      ]
    },
    {
      "cell_type": "markdown",
      "metadata": {
        "id": "mg-T0l1S2Z7P"
      },
      "source": [
        "### Altura de los edificios "
      ]
    },
    {
      "cell_type": "code",
      "metadata": {
        "id": "Q7mDomeXFqMW"
      },
      "source": [
        "numerical_columns = ['age','count_floors_pre_eq', 'area_percentage', 'height_percentage']"
      ],
      "execution_count": null,
      "outputs": []
    },
    {
      "cell_type": "code",
      "metadata": {
        "id": "ek-VZEGRFmbc"
      },
      "source": [
        "#means_antiguedad = full[full['age']<150].groupby('damage_grade')[numerical_columns].mean()\n",
        "#means = full.groupby('damage_grade')[numerical_columns].mean()"
      ],
      "execution_count": null,
      "outputs": []
    },
    {
      "cell_type": "code",
      "metadata": {
        "id": "YZKAeTc_qt0e",
        "colab": {
          "base_uri": "https://localhost:8080/",
          "height": 475
        },
        "outputId": "0d509bbe-1b3f-4fb2-e8c4-2473c05782e4"
      },
      "source": [
        "f = plt.figure()\n",
        "plt.title('Promedio de altura normalizada de los edificios para cada grado de daño', {'fontweight':'bold'})\n",
        "\n",
        "means['height_percentage'].plot(kind='bar', ax=f.gca(),color=['#16a1ff', '#ff944d', 'red'], ylabel='Altura', xlabel='Grado de daño')\n",
        "\n",
        "plt.savefig('height.pdf', bbox_inches='tight')"
      ],
      "execution_count": null,
      "outputs": [
        {
          "output_type": "display_data",
          "data": {
            "image/png": "[encoded data removed]",
            "text/plain": [
              "<Figure size 640x480 with 1 Axes>"
            ]
          },
          "metadata": {
            "tags": []
          }
        }
      ]
    },
    {
      "cell_type": "markdown",
      "metadata": {
        "id": "EPvBhYIfRrDl"
      },
      "source": [
        "### Superficie ocupada por los edificios"
      ]
    },
    {
      "cell_type": "code",
      "metadata": {
        "id": "BDDwhbnPquZE",
        "colab": {
          "base_uri": "https://localhost:8080/",
          "height": 475
        },
        "outputId": "f566e9bd-577c-4887-d497-93bb84f98fe4"
      },
      "source": [
        "f = plt.figure()\n",
        "plt.title('Promedio de superficie normalizada ocupada por los edificios para cada grado de daño', {'fontweight':'bold'})\n",
        "\n",
        "means['area_percentage'].plot(kind='bar', ax=f.gca(),color=['#16a1ff', '#ff944d', 'red'], ylabel='Superficie normalizada ocupada', xlabel='Grado de daño')\n",
        "\n",
        "plt.savefig('area.pdf', bbox_inches='tight')"
      ],
      "execution_count": null,
      "outputs": [
        {
          "output_type": "display_data",
          "data": {
            "image/png": "[encoded data removed]",
            "text/plain": [
              "<Figure size 640x480 with 1 Axes>"
            ]
          },
          "metadata": {
            "tags": []
          }
        }
      ]
    },
    {
      "cell_type": "markdown",
      "metadata": {
        "id": "MvyF8IJeQxy8"
      },
      "source": [
        "##Otras comparaciones"
      ]
    },
    {
      "cell_type": "code",
      "metadata": {
        "id": "wpFWPCfmNhFv"
      },
      "source": [
        "more_affected = mean_damage.transpose().nlargest(5, columns=[3])"
      ],
      "execution_count": null,
      "outputs": []
    },
    {
      "cell_type": "code",
      "metadata": {
        "id": "bafS5YaN9U_0"
      },
      "source": [
        "more_affected_zones = more_affected.index"
      ],
      "execution_count": null,
      "outputs": []
    },
    {
      "cell_type": "code",
      "metadata": {
        "id": "CHU1SMKo9mjx"
      },
      "source": [
        "columns = ['geo_level_1_id', 'age', 'has_superstructure_adobe_mud', 'has_superstructure_mud_mortar_stone', 'has_superstructure_stone_flag']\n",
        "\n",
        "means = full.loc[full['geo_level_1_id'].isin(more_affected_zones.to_list())][columns].groupby('geo_level_1_id').mean()\n",
        "\n",
        "means['general_mean_age'] = train_values['age'].mean()\n",
        "means['general_mean_adobe_mud'] = train_values['has_superstructure_adobe_mud'].mean()\n",
        "means['general_mean_stone_mud'] = train_values['has_superstructure_mud_mortar_stone'].mean()\n",
        "means['general_mean_stone'] = train_values['has_superstructure_stone_flag'].mean()\n"
      ],
      "execution_count": null,
      "outputs": []
    },
    {
      "cell_type": "code",
      "metadata": {
        "id": "IVia3uDqE-dh",
        "colab": {
          "base_uri": "https://localhost:8080/",
          "height": 485
        },
        "outputId": "e9487b0f-4eeb-4a1a-8946-410608c994d9"
      },
      "source": [
        "mean_age = means[['age', 'general_mean_age']].rename(columns = {'age': 'Zona en particular', 'general_mean_age':'Nepal'})\n",
        "\n",
        "f = plt.figure()\n",
        "plt.title('Comparación entre las zonas más afectadas y Nepal de la antigüedad promedio de los edificios' , {'fontweight':'bold'})\n",
        "\n",
        "mean_age.plot(kind='bar', ax=f.gca(), ylabel='Antigüedad promedio', xlabel='Zona geográfica', color=['#660066', '#6699ff'])\n",
        "plt.legend(loc='center left', bbox_to_anchor=(1.0, 0.5))\n",
        "plt.savefig('age_comparison.pdf', bbox_inches='tight')"
      ],
      "execution_count": null,
      "outputs": [
        {
          "output_type": "display_data",
          "data": {
            "image/png": "[encoded data removed]",
            "text/plain": [
              "<Figure size 640x480 with 1 Axes>"
            ]
          },
          "metadata": {
            "tags": []
          }
        }
      ]
    },
    {
      "cell_type": "code",
      "metadata": {
        "id": "ZfRDgA-tE__B",
        "colab": {
          "base_uri": "https://localhost:8080/",
          "height": 485
        },
        "outputId": "5840cba0-c32e-42a2-cf88-a8ed6c76f185"
      },
      "source": [
        "mean_adobe_mud = means[['general_mean_adobe_mud', 'has_superstructure_adobe_mud']].rename(columns = {'general_mean_adobe_mud': 'Nepal', 'has_superstructure_adobe_mud':'Zona en particular'})\n",
        "\n",
        "mean_adobe_mud = mean_adobe_mud.transform(lambda x: x*100)\n",
        "\n",
        "f = plt.figure()\n",
        "plt.title('Comparación entre las zonas más afectadas y Nepal del porcentaje de edificios construidos con adobe y barro' , {'fontweight':'bold'})\n",
        "\n",
        "mean_adobe_mud.plot(kind='bar', ax=f.gca(), ylabel='Porcentaje', xlabel='Zona geográfica', color=['#660066', '#6699ff'])\n",
        "plt.legend(loc='center left', bbox_to_anchor=(1.0, 0.5))\n",
        "plt.savefig('adobe_mud_comparison.pdf', bbox_inches='tight')"
      ],
      "execution_count": null,
      "outputs": [
        {
          "output_type": "display_data",
          "data": {
            "image/png": "[encoded data removed]",
            "text/plain": [
              "<Figure size 640x480 with 1 Axes>"
            ]
          },
          "metadata": {
            "tags": []
          }
        }
      ]
    },
    {
      "cell_type": "code",
      "metadata": {
        "id": "B8f4HSt7Foma",
        "colab": {
          "base_uri": "https://localhost:8080/",
          "height": 485
        },
        "outputId": "89e5b573-3986-4aee-d72f-bbad6189520e"
      },
      "source": [
        "mean_stone_mud = means[['general_mean_stone_mud', 'has_superstructure_mud_mortar_stone']].rename(columns = {'general_mean_stone_mud': 'Nepal', 'has_superstructure_mud_mortar_stone':'Zona en particular'})\n",
        "\n",
        "mean_stone_mud = mean_stone_mud.transform(lambda x: x*100)\n",
        "\n",
        "f = plt.figure()\n",
        "plt.title('Comparación entre las zonas más afectadas y Nepal del porcentaje de edificios construidos con adobe y piedra' , {'fontweight':'bold'})\n",
        "\n",
        "mean_stone_mud.plot(kind='bar', ax=f.gca(), ylabel='Porcentaje', xlabel='Zona geográfica', color=['#660066', '#6699ff'])\n",
        "plt.legend(loc='center left', bbox_to_anchor=(1.0, 0.5))\n",
        "plt.savefig('adobe_stone_comparison.pdf', bbox_inches='tight')"
      ],
      "execution_count": null,
      "outputs": [
        {
          "output_type": "display_data",
          "data": {
            "image/png": "[encoded data removed]",
            "text/plain": [
              "<Figure size 640x480 with 1 Axes>"
            ]
          },
          "metadata": {
            "tags": []
          }
        }
      ]
    },
    {
      "cell_type": "code",
      "metadata": {
        "id": "75GqjBk0F1U9",
        "colab": {
          "base_uri": "https://localhost:8080/",
          "height": 485
        },
        "outputId": "5f03dbe4-df96-452b-ca7c-c0d0a189f9ac"
      },
      "source": [
        "mean_stone = means[['general_mean_stone', 'has_superstructure_stone_flag']].rename(columns = {'general_mean_stone': 'Nepal', 'has_superstructure_stone_flag':'Zona en particular'})\n",
        "\n",
        "mean_stone = mean_stone.transform(lambda x: x*100)\n",
        "\n",
        "f = plt.figure()\n",
        "plt.title('Comparación entre las zonas más afectadas y Nepal del porcentaje de edificios construidos con piedra' , {'fontweight':'bold'})\n",
        "\n",
        "mean_stone.plot(kind='bar', ax=f.gca(), ylabel='Porcentaje', xlabel='Zona geográfica', color=['#660066', '#6699ff'])\n",
        "plt.legend(loc='center left', bbox_to_anchor=(1.0, 0.5))\n",
        "plt.savefig('stone_comparison.pdf', bbox_inches='tight')"
      ],
      "execution_count": null,
      "outputs": [
        {
          "output_type": "display_data",
          "data": {
            "image/png": "[encoded data removed]",
            "text/plain": [
              "<Figure size 640x480 with 1 Axes>"
            ]
          },
          "metadata": {
            "tags": []
          }
        }
      ]
    },
    {
      "cell_type": "markdown",
      "metadata": {
        "id": "xTv4eCBrSaQX"
      },
      "source": [
        "\n",
        "\n",
        "```\n",
        "# Tiene formato de código\n",
        "```\n",
        "\n",
        "## Desvios estandar"
      ]
    },
    {
      "cell_type": "code",
      "metadata": {
        "id": "d-ktq0NECJVc",
        "colab": {
          "base_uri": "https://localhost:8080/"
        },
        "outputId": "f88f7d78-fde8-496a-8477-5a1a91f838e7"
      },
      "source": [
        "antiguedad_filtrada = full[numerical_columns]\n",
        "antiguedad_filtrada = antiguedad_filtrada[(full['age'] < 200)]\n",
        "antiguedad_filtrada.std()"
      ],
      "execution_count": null,
      "outputs": [
        {
          "output_type": "execute_result",
          "data": {
            "text/plain": [
              "age                                  19.27\n",
              "count_floors_pre_eq                   0.73\n",
              "area_percentage                       4.39\n",
              "height_percentage                     1.92\n",
              "dtype: float64"
            ]
          },
          "metadata": {
            "tags": []
          },
          "execution_count": 348
        }
      ]
    },
    {
      "cell_type": "code",
      "metadata": {
        "id": "VmyuvY5YGh9S",
        "colab": {
          "base_uri": "https://localhost:8080/",
          "height": 317
        },
        "outputId": "09e76cce-71da-4f2d-8662-410794f306ca"
      },
      "source": [
        "full.describe()"
      ],
      "execution_count": null,
      "outputs": [
        {
          "output_type": "execute_result",
          "data": {
            "text/html": [
              "<div>\n",
              "<style scoped>\n",
              "    .dataframe tbody tr th:only-of-type {\n",
              "        vertical-align: middle;\n",
              "    }\n",
              "\n",
              "    .dataframe tbody tr th {\n",
              "        vertical-align: top;\n",
              "    }\n",
              "\n",
              "    .dataframe thead th {\n",
              "        text-align: right;\n",
              "    }\n",
              "</style>\n",
              "<table border=\"1\" class=\"dataframe\">\n",
              "  <thead>\n",
              "    <tr style=\"text-align: right;\">\n",
              "      <th></th>\n",
              "      <th>building_id</th>\n",
              "      <th>geo_level_1_id</th>\n",
              "      <th>geo_level_2_id</th>\n",
              "      <th>geo_level_3_id</th>\n",
              "      <th>count_floors_pre_eq</th>\n",
              "      <th>age</th>\n",
              "      <th>area_percentage</th>\n",
              "      <th>height_percentage</th>\n",
              "      <th>has_superstructure_adobe_mud</th>\n",
              "      <th>has_superstructure_mud_mortar_stone</th>\n",
              "      <th>has_superstructure_stone_flag</th>\n",
              "      <th>has_superstructure_cement_mortar_stone</th>\n",
              "      <th>has_superstructure_mud_mortar_brick</th>\n",
              "      <th>has_superstructure_cement_mortar_brick</th>\n",
              "      <th>has_superstructure_timber</th>\n",
              "      <th>has_superstructure_bamboo</th>\n",
              "      <th>has_superstructure_rc_non_engineered</th>\n",
              "      <th>has_superstructure_rc_engineered</th>\n",
              "      <th>has_superstructure_other</th>\n",
              "      <th>count_families</th>\n",
              "      <th>has_secondary_use</th>\n",
              "      <th>has_secondary_use_agriculture</th>\n",
              "      <th>has_secondary_use_hotel</th>\n",
              "      <th>has_secondary_use_rental</th>\n",
              "      <th>has_secondary_use_institution</th>\n",
              "      <th>has_secondary_use_school</th>\n",
              "      <th>has_secondary_use_industry</th>\n",
              "      <th>has_secondary_use_health_post</th>\n",
              "      <th>has_secondary_use_gov_office</th>\n",
              "      <th>has_secondary_use_use_police</th>\n",
              "      <th>has_secondary_use_other</th>\n",
              "      <th>damage_grade</th>\n",
              "    </tr>\n",
              "  </thead>\n",
              "  <tbody>\n",
              "    <tr>\n",
              "      <th>count</th>\n",
              "      <td>260,601.00</td>\n",
              "      <td>260,601.00</td>\n",
              "      <td>260,601.00</td>\n",
              "      <td>260,601.00</td>\n",
              "      <td>260,601.00</td>\n",
              "      <td>260,601.00</td>\n",
              "      <td>260,601.00</td>\n",
              "      <td>260,601.00</td>\n",
              "      <td>260,601.00</td>\n",
              "      <td>260,601.00</td>\n",
              "      <td>260,601.00</td>\n",
              "      <td>260,601.00</td>\n",
              "      <td>260,601.00</td>\n",
              "      <td>260,601.00</td>\n",
              "      <td>260,601.00</td>\n",
              "      <td>260,601.00</td>\n",
              "      <td>260,601.00</td>\n",
              "      <td>260,601.00</td>\n",
              "      <td>260,601.00</td>\n",
              "      <td>260,601.00</td>\n",
              "      <td>260,601.00</td>\n",
              "      <td>260,601.00</td>\n",
              "      <td>260,601.00</td>\n",
              "      <td>260,601.00</td>\n",
              "      <td>260,601.00</td>\n",
              "      <td>260,601.00</td>\n",
              "      <td>260,601.00</td>\n",
              "      <td>260,601.00</td>\n",
              "      <td>260,601.00</td>\n",
              "      <td>260,601.00</td>\n",
              "      <td>260,601.00</td>\n",
              "      <td>260,601.00</td>\n",
              "    </tr>\n",
              "    <tr>\n",
              "      <th>mean</th>\n",
              "      <td>525,675.48</td>\n",
              "      <td>13.90</td>\n",
              "      <td>701.07</td>\n",
              "      <td>6,257.88</td>\n",
              "      <td>2.13</td>\n",
              "      <td>26.54</td>\n",
              "      <td>8.02</td>\n",
              "      <td>5.43</td>\n",
              "      <td>0.09</td>\n",
              "      <td>0.76</td>\n",
              "      <td>0.03</td>\n",
              "      <td>0.02</td>\n",
              "      <td>0.07</td>\n",
              "      <td>0.08</td>\n",
              "      <td>0.25</td>\n",
              "      <td>0.09</td>\n",
              "      <td>0.04</td>\n",
              "      <td>0.02</td>\n",
              "      <td>0.01</td>\n",
              "      <td>0.98</td>\n",
              "      <td>0.11</td>\n",
              "      <td>0.06</td>\n",
              "      <td>0.03</td>\n",
              "      <td>0.01</td>\n",
              "      <td>0.00</td>\n",
              "      <td>0.00</td>\n",
              "      <td>0.00</td>\n",
              "      <td>0.00</td>\n",
              "      <td>0.00</td>\n",
              "      <td>0.00</td>\n",
              "      <td>0.01</td>\n",
              "      <td>2.24</td>\n",
              "    </tr>\n",
              "    <tr>\n",
              "      <th>std</th>\n",
              "      <td>304,545.00</td>\n",
              "      <td>8.03</td>\n",
              "      <td>412.71</td>\n",
              "      <td>3,646.37</td>\n",
              "      <td>0.73</td>\n",
              "      <td>73.57</td>\n",
              "      <td>4.39</td>\n",
              "      <td>1.92</td>\n",
              "      <td>0.28</td>\n",
              "      <td>0.43</td>\n",
              "      <td>0.18</td>\n",
              "      <td>0.13</td>\n",
              "      <td>0.25</td>\n",
              "      <td>0.26</td>\n",
              "      <td>0.44</td>\n",
              "      <td>0.28</td>\n",
              "      <td>0.20</td>\n",
              "      <td>0.12</td>\n",
              "      <td>0.12</td>\n",
              "      <td>0.42</td>\n",
              "      <td>0.32</td>\n",
              "      <td>0.25</td>\n",
              "      <td>0.18</td>\n",
              "      <td>0.09</td>\n",
              "      <td>0.03</td>\n",
              "      <td>0.02</td>\n",
              "      <td>0.03</td>\n",
              "      <td>0.01</td>\n",
              "      <td>0.01</td>\n",
              "      <td>0.01</td>\n",
              "      <td>0.07</td>\n",
              "      <td>0.61</td>\n",
              "    </tr>\n",
              "    <tr>\n",
              "      <th>min</th>\n",
              "      <td>4.00</td>\n",
              "      <td>0.00</td>\n",
              "      <td>0.00</td>\n",
              "      <td>0.00</td>\n",
              "      <td>1.00</td>\n",
              "      <td>0.00</td>\n",
              "      <td>1.00</td>\n",
              "      <td>2.00</td>\n",
              "      <td>0.00</td>\n",
              "      <td>0.00</td>\n",
              "      <td>0.00</td>\n",
              "      <td>0.00</td>\n",
              "      <td>0.00</td>\n",
              "      <td>0.00</td>\n",
              "      <td>0.00</td>\n",
              "      <td>0.00</td>\n",
              "      <td>0.00</td>\n",
              "      <td>0.00</td>\n",
              "      <td>0.00</td>\n",
              "      <td>0.00</td>\n",
              "      <td>0.00</td>\n",
              "      <td>0.00</td>\n",
              "      <td>0.00</td>\n",
              "      <td>0.00</td>\n",
              "      <td>0.00</td>\n",
              "      <td>0.00</td>\n",
              "      <td>0.00</td>\n",
              "      <td>0.00</td>\n",
              "      <td>0.00</td>\n",
              "      <td>0.00</td>\n",
              "      <td>0.00</td>\n",
              "      <td>1.00</td>\n",
              "    </tr>\n",
              "    <tr>\n",
              "      <th>25%</th>\n",
              "      <td>261,190.00</td>\n",
              "      <td>7.00</td>\n",
              "      <td>350.00</td>\n",
              "      <td>3,073.00</td>\n",
              "      <td>2.00</td>\n",
              "      <td>10.00</td>\n",
              "      <td>5.00</td>\n",
              "      <td>4.00</td>\n",
              "      <td>0.00</td>\n",
              "      <td>1.00</td>\n",
              "      <td>0.00</td>\n",
              "      <td>0.00</td>\n",
              "      <td>0.00</td>\n",
              "      <td>0.00</td>\n",
              "      <td>0.00</td>\n",
              "      <td>0.00</td>\n",
              "      <td>0.00</td>\n",
              "      <td>0.00</td>\n",
              "      <td>0.00</td>\n",
              "      <td>1.00</td>\n",
              "      <td>0.00</td>\n",
              "      <td>0.00</td>\n",
              "      <td>0.00</td>\n",
              "      <td>0.00</td>\n",
              "      <td>0.00</td>\n",
              "      <td>0.00</td>\n",
              "      <td>0.00</td>\n",
              "      <td>0.00</td>\n",
              "      <td>0.00</td>\n",
              "      <td>0.00</td>\n",
              "      <td>0.00</td>\n",
              "      <td>2.00</td>\n",
              "    </tr>\n",
              "    <tr>\n",
              "      <th>50%</th>\n",
              "      <td>525,757.00</td>\n",
              "      <td>12.00</td>\n",
              "      <td>702.00</td>\n",
              "      <td>6,270.00</td>\n",
              "      <td>2.00</td>\n",
              "      <td>15.00</td>\n",
              "      <td>7.00</td>\n",
              "      <td>5.00</td>\n",
              "      <td>0.00</td>\n",
              "      <td>1.00</td>\n",
              "      <td>0.00</td>\n",
              "      <td>0.00</td>\n",
              "      <td>0.00</td>\n",
              "      <td>0.00</td>\n",
              "      <td>0.00</td>\n",
              "      <td>0.00</td>\n",
              "      <td>0.00</td>\n",
              "      <td>0.00</td>\n",
              "      <td>0.00</td>\n",
              "      <td>1.00</td>\n",
              "      <td>0.00</td>\n",
              "      <td>0.00</td>\n",
              "      <td>0.00</td>\n",
              "      <td>0.00</td>\n",
              "      <td>0.00</td>\n",
              "      <td>0.00</td>\n",
              "      <td>0.00</td>\n",
              "      <td>0.00</td>\n",
              "      <td>0.00</td>\n",
              "      <td>0.00</td>\n",
              "      <td>0.00</td>\n",
              "      <td>2.00</td>\n",
              "    </tr>\n",
              "    <tr>\n",
              "      <th>75%</th>\n",
              "      <td>789,762.00</td>\n",
              "      <td>21.00</td>\n",
              "      <td>1,050.00</td>\n",
              "      <td>9,412.00</td>\n",
              "      <td>2.00</td>\n",
              "      <td>30.00</td>\n",
              "      <td>9.00</td>\n",
              "      <td>6.00</td>\n",
              "      <td>0.00</td>\n",
              "      <td>1.00</td>\n",
              "      <td>0.00</td>\n",
              "      <td>0.00</td>\n",
              "      <td>0.00</td>\n",
              "      <td>0.00</td>\n",
              "      <td>1.00</td>\n",
              "      <td>0.00</td>\n",
              "      <td>0.00</td>\n",
              "      <td>0.00</td>\n",
              "      <td>0.00</td>\n",
              "      <td>1.00</td>\n",
              "      <td>0.00</td>\n",
              "      <td>0.00</td>\n",
              "      <td>0.00</td>\n",
              "      <td>0.00</td>\n",
              "      <td>0.00</td>\n",
              "      <td>0.00</td>\n",
              "      <td>0.00</td>\n",
              "      <td>0.00</td>\n",
              "      <td>0.00</td>\n",
              "      <td>0.00</td>\n",
              "      <td>0.00</td>\n",
              "      <td>3.00</td>\n",
              "    </tr>\n",
              "    <tr>\n",
              "      <th>max</th>\n",
              "      <td>1,052,934.00</td>\n",
              "      <td>30.00</td>\n",
              "      <td>1,427.00</td>\n",
              "      <td>12,567.00</td>\n",
              "      <td>9.00</td>\n",
              "      <td>995.00</td>\n",
              "      <td>100.00</td>\n",
              "      <td>32.00</td>\n",
              "      <td>1.00</td>\n",
              "      <td>1.00</td>\n",
              "      <td>1.00</td>\n",
              "      <td>1.00</td>\n",
              "      <td>1.00</td>\n",
              "      <td>1.00</td>\n",
              "      <td>1.00</td>\n",
              "      <td>1.00</td>\n",
              "      <td>1.00</td>\n",
              "      <td>1.00</td>\n",
              "      <td>1.00</td>\n",
              "      <td>9.00</td>\n",
              "      <td>1.00</td>\n",
              "      <td>1.00</td>\n",
              "      <td>1.00</td>\n",
              "      <td>1.00</td>\n",
              "      <td>1.00</td>\n",
              "      <td>1.00</td>\n",
              "      <td>1.00</td>\n",
              "      <td>1.00</td>\n",
              "      <td>1.00</td>\n",
              "      <td>1.00</td>\n",
              "      <td>1.00</td>\n",
              "      <td>3.00</td>\n",
              "    </tr>\n",
              "  </tbody>\n",
              "</table>\n",
              "</div>"
            ],
            "text/plain": [
              "               building_id  ...         damage_grade\n",
              "count           260,601.00  ...           260,601.00\n",
              "mean            525,675.48  ...                 2.24\n",
              "std             304,545.00  ...                 0.61\n",
              "min                   4.00  ...                 1.00\n",
              "25%             261,190.00  ...                 2.00\n",
              "50%             525,757.00  ...                 2.00\n",
              "75%             789,762.00  ...                 3.00\n",
              "max           1,052,934.00  ...                 3.00\n",
              "\n",
              "[8 rows x 32 columns]"
            ]
          },
          "metadata": {
            "tags": []
          },
          "execution_count": 349
        }
      ]
    }
  ]
}